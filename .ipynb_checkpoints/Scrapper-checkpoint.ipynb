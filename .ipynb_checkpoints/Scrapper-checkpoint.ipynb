{
 "cells": [
  {
   "cell_type": "code",
   "execution_count": 1,
   "metadata": {
    "collapsed": true
   },
   "outputs": [],
   "source": [
    "import urllib2\n",
    "import json\n",
    "import requests\n",
    "import math as math\n",
    "import bs4 #beautiful soup\n",
    "\n",
    "from datetime import datetime\n",
    "import pandas as pd\n",
    "import numpy as np"
   ]
  },
  {
   "cell_type": "markdown",
   "metadata": {},
   "source": [
    "# Scrapper"
   ]
  },
  {
   "cell_type": "code",
   "execution_count": null,
   "metadata": {
    "collapsed": true
   },
   "outputs": [],
   "source": [
    "def scrapeLinks(pageUrl):\n",
    "    #open and create a soup\n",
    "    source = urllib2.urlopen(pageUrl).read()\n",
    "    pageSoup = bs4.BeautifulSoup(source,'html.parser')\n",
    "    \n",
    "\n",
    "    #Extract Title and content\n",
    "    articles = pageSoup.find('div',{'id':'main'}).findAll('article')\n",
    "    links  = []\n",
    "    for article in articles:\n",
    "        title = article.find('h3').a.contents[0]\n",
    "        url = article.find('h3').a[\"href\"]\n",
    "        links.append({\n",
    "            \"title\" : title,\n",
    "            \"url\": url\n",
    "        })\n",
    "        \n",
    "    print \"- scrapped %i links\" %len(links)\n",
    "\n",
    "    \n",
    "    return links"
   ]
  },
  {
   "cell_type": "code",
   "execution_count": null,
   "metadata": {
    "collapsed": false
   },
   "outputs": [],
   "source": [
    "url = \"http://www.latribuna.hn/tag/crimenes-en-honduras/page/2/\"\n",
    "\n",
    "links = scrapeLinks(url)\n"
   ]
  },
  {
   "cell_type": "code",
   "execution_count": null,
   "metadata": {
    "collapsed": false
   },
   "outputs": [],
   "source": [
    "def extract_data(pageSoup):\n",
    "    data = {}\n",
    "    raw_article = pageSoup.find(\"article\")\n",
    "    \n",
    "    data[\"id\"] = raw_article[\"id\"]\n",
    "    data[\"date\"] = raw_article.find(\"header\").p.span.contents[0]\n",
    "    data[\"title\"] = raw_article.find(\"header\").h1.contents[0]\n",
    "    #content\n",
    "    data[\"content\"] = raw_article.find(\"div\",{'class': 'article-post-content'})\n",
    "    #tags\n",
    "    tags = raw_article.find(\"aside\",{'class': 'tags'}).findAll(\"a\")\n",
    "    data[\"tags\"] = [ x.contents[0] for x in tags]\n",
    "\n",
    "    return data"
   ]
  },
  {
   "cell_type": "code",
   "execution_count": null,
   "metadata": {
    "collapsed": true
   },
   "outputs": [],
   "source": [
    "def scrape_articles(links):\n",
    "    data  = []\n",
    "    for link in links:\n",
    "        article_url = link[\"url\"]\n",
    "        source = urllib2.urlopen(article_url).read()\n",
    "        pageSoup = bs4.BeautifulSoup(source,'html.parser')\n",
    "        data.append( extract_data(pageSoup) )\n",
    "    return data\n",
    "        "
   ]
  },
  {
   "cell_type": "code",
   "execution_count": null,
   "metadata": {
    "collapsed": false
   },
   "outputs": [],
   "source": [
    "articles = scrape_articles(links)"
   ]
  },
  {
   "cell_type": "code",
   "execution_count": null,
   "metadata": {
    "collapsed": false
   },
   "outputs": [],
   "source": [
    "for article in articles:\n",
    "    print article[\"title\"]"
   ]
  },
  {
   "cell_type": "markdown",
   "metadata": {},
   "source": [
    "# To Do\n",
    "\n",
    "- get K articles\n",
    "- mechanism to not scrap repeated articles\n",
    "- It should print the new found links\n",
    "- save to json? or to database?\n",
    "\n"
   ]
  },
  {
   "cell_type": "code",
   "execution_count": 2,
   "metadata": {
    "collapsed": false
   },
   "outputs": [
    {
     "name": "stdout",
     "output_type": "stream",
     "text": [
      "number of sitemaps: 2\n",
      "number of articles extracted: 999\n"
     ]
    }
   ],
   "source": [
    "def getLinks():\n",
    "    sitemap_url = \"http://www.latribuna.hn/sitemap_index.xml\"\n",
    "    article_urls = []\n",
    "    article_dates =[]\n",
    "    date_format = \"%Y-%m-%dT%H:%M:%S\"\n",
    "    \n",
    "    source = urllib2.urlopen(sitemap_url).read()\n",
    "    main_sitemap = bs4.BeautifulSoup(source,\"lxml\")\n",
    "    sitemap_urls = [loc.contents[0] for loc in  main_sitemap.findAll(\"loc\")]\n",
    "    \n",
    "    #just for testing reasons...\n",
    "    sitemap_urls = sitemap_urls[1:3]\n",
    "    print \"number of sitemaps: %i\" %len(sitemap_urls)\n",
    "    \n",
    "    for url in sitemap_urls:\n",
    "        sitemap_source = urllib2.urlopen(url).read()\n",
    "        sitemap = bs4.BeautifulSoup(sitemap_source,\"lxml\")\n",
    "        article_urls = article_urls + [loc.contents[0] for loc in  sitemap.findAll(\"loc\")]\n",
    "        article_dates = article_dates + [datetime.strptime(lastmod.contents[0][:-6],date_format) \\\n",
    "                                         for lastmod in  sitemap.findAll(\"lastmod\")]\n",
    "        \n",
    "    print \"number of articles extracted: %i\" %len(article_urls)\n",
    "    \n",
    "    print \"- save links to file\"\n",
    "    links_df = pd.DataFrame({\n",
    "            \"url\": article_urls,\n",
    "            \"date\": article_dates\n",
    "        })\n",
    "    links_df.to_csv(\"./files/links.csv\")\n",
    "     \n",
    "    print \"- Done.\"\n"
   ]
  },
  {
   "cell_type": "code",
   "execution_count": 6,
   "metadata": {
    "collapsed": false
   },
   "outputs": [],
   "source": [
    "links_df.to_csv(\"links.csv\")"
   ]
  },
  {
   "cell_type": "code",
   "execution_count": null,
   "metadata": {
    "collapsed": false
   },
   "outputs": [],
   "source": [
    "url = \"http://www.latribuna.hn/sitemap_index.xml\"\n",
    "\n",
    "source = urllib2.urlopen(url).read()\n",
    "pageSoup = bs4.BeautifulSoup(source,\"lxml\")"
   ]
  },
  {
   "cell_type": "code",
   "execution_count": null,
   "metadata": {
    "collapsed": false
   },
   "outputs": [],
   "source": [
    "print pageSoup.prettify()"
   ]
  },
  {
   "cell_type": "code",
   "execution_count": null,
   "metadata": {
    "collapsed": false
   },
   "outputs": [],
   "source": [
    "# print pageSoup.prettify()\n",
    "#pageSoup.findAll(\"url\")\n",
    "links = pageSoup.findAll(\"loc\")\n",
    "links[0].contents[0]"
   ]
  },
  {
   "cell_type": "code",
   "execution_count": null,
   "metadata": {
    "collapsed": false
   },
   "outputs": [],
   "source": [
    "print pageSoup.prettify()"
   ]
  },
  {
   "cell_type": "code",
   "execution_count": null,
   "metadata": {
    "collapsed": false
   },
   "outputs": [],
   "source": [
    "from datetime import datetime\n",
    "\n",
    "d = \"2016-09-14T21:06:05-05:00\"\n",
    "d = datetime.strptime(d[:-6],\"%Y-%m-%dT%H:%M:%S\")\n"
   ]
  },
  {
   "cell_type": "code",
   "execution_count": null,
   "metadata": {
    "collapsed": true
   },
   "outputs": [],
   "source": []
  }
 ],
 "metadata": {
  "anaconda-cloud": {},
  "kernelspec": {
   "display_name": "Python [conda root]",
   "language": "python",
   "name": "conda-root-py"
  },
  "language_info": {
   "codemirror_mode": {
    "name": "ipython",
    "version": 2
   },
   "file_extension": ".py",
   "mimetype": "text/x-python",
   "name": "python",
   "nbconvert_exporter": "python",
   "pygments_lexer": "ipython2",
   "version": "2.7.12"
  }
 },
 "nbformat": 4,
 "nbformat_minor": 1
}
