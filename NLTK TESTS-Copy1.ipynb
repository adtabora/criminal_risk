{
 "cells": [
  {
   "cell_type": "markdown",
   "metadata": {},
   "source": [
    "# BRILLTagger\n",
    "http://www.nltk.org/api/nltk.tag.html"
   ]
  },
  {
   "cell_type": "code",
   "execution_count": 171,
   "metadata": {
    "collapsed": true
   },
   "outputs": [],
   "source": [
    "import nltk\n",
    "\n",
    "from nltk.tag import untag, RegexpTagger, BrillTaggerTrainer"
   ]
  },
  {
   "cell_type": "code",
   "execution_count": 170,
   "metadata": {
    "collapsed": false
   },
   "outputs": [
    {
     "data": {
      "text/plain": [
       "u'NC'"
      ]
     },
     "execution_count": 170,
     "metadata": {},
     "output_type": "execute_result"
    }
   ],
   "source": [
    "tags = [ tag for (word, tag) in conll2002.tagged_words() ]\n",
    "nltk.FreqDist(tags).max()"
   ]
  },
  {
   "cell_type": "code",
   "execution_count": 172,
   "metadata": {
    "collapsed": false
   },
   "outputs": [
    {
     "data": {
      "text/plain": [
       "35651"
      ]
     },
     "execution_count": 172,
     "metadata": {},
     "output_type": "execute_result"
    }
   ],
   "source": [
    "senteces = conll2002.tagged_sents()\n",
    "len(senteces)"
   ]
  },
  {
   "cell_type": "code",
   "execution_count": 173,
   "metadata": {
    "collapsed": true
   },
   "outputs": [],
   "source": [
    "training_data = senteces[:-100]\n",
    "# baseline_data = senteces[-400:-100] #equivalent to CV data\n",
    "gold_data = senteces[-100:]  #equivalent to test data\n",
    "testing_data = [untag(s) for s in gold_data]"
   ]
  },
  {
   "cell_type": "code",
   "execution_count": 174,
   "metadata": {
    "collapsed": false
   },
   "outputs": [
    {
     "name": "stdout",
     "output_type": "stream",
     "text": [
      "- Unigram Tagger\n"
     ]
    }
   ],
   "source": [
    "from nltk.tbl.template import Template\n",
    "from nltk.tag.brill import Pos, Word\n",
    "from nltk.tag import DefaultTagger\n",
    "\n",
    "default_tagger = DefaultTagger('NC')\n",
    "\n",
    "from nltk.tag import UnigramTagger\n",
    "\n",
    "print \"- Unigram Tagger\"\n",
    "unigram_tagger = UnigramTagger(training_data,backoff=default_tagger)"
   ]
  },
  {
   "cell_type": "code",
   "execution_count": 177,
   "metadata": {
    "collapsed": false
   },
   "outputs": [
    {
     "name": "stdout",
     "output_type": "stream",
     "text": [
      "- Templates\n",
      "- Creating Trainer\n",
      "- Begin Training\n",
      "TBL train (fast) (seqs: 35551; tokens: 677085; tpls: 5; min score: 2; min acc: None)\n",
      "Finding initial useful rules...\n",
      "    Found 28432 useful rules.\n",
      "\n",
      "           B      |\n",
      "   S   F   r   O  |        Score = Fixed - Broken\n",
      "   c   i   o   t  |  R     Fixed = num tags changed incorrect -> correct\n",
      "   o   x   k   h  |  u     Broken = num tags changed correct -> incorrect\n",
      "   r   e   e   e  |  l     Other = num tags changed incorrect -> incorrect\n",
      "   e   d   n   r  |  e\n",
      "------------------+-------------------------------------------------------\n",
      "91729420 2481671  | SP->Art if Pos:N@[1]\n",
      "52905469 179  25  | Fc->Punc if Pos:N@[-1]\n",
      "42734343  70   0  | Punc->Fp if Pos:NC@[-1] & Word:.@[0]\n",
      "32873335  48   0  | Punc->Fp if Pos:NC@[-2] & Word:.@[0]\n",
      "27262726   0   0  | Fc->Punc if Pos:V@[-1]\n",
      "26592662   3 576  | SP->Art if Pos:Adj@[1]\n",
      "18851888   3   0  | PR->CS if Pos:VMI@[-1] & Word:que@[0]\n",
      "15431574  31   0  | Fpt->Punc if Pos:N@[-1]\n",
      "14281428   0  10  | Art->Conj if Pos:N@[-1] & Word:en@[0]\n",
      "14191506  87   0  | Fpa->Punc if Pos:N@[-1]\n",
      "13201338  18   6  | SP->Conj if Pos:N@[-1] & Word:en@[0]\n",
      " 896 941  45   0  | Fe->Punc if Pos:Punc@[-1]\n",
      " 890 892   2   1  | SP->Art if Pos:Prep@[-1] & Word:de@[0]\n",
      " 655 655   0 247  | SP->Conj if Pos:V@[-1]\n",
      " 632 633   1   2  | Fc->Punc if Pos:V@[1]\n",
      " 617 652  35   0  | Fg->Punc if Pos:Num@[-1]\n",
      " 607 668  61   0  | V->Pron if Pos:Prep@[-1] & Word:zijn@[0]\n",
      " 603 627  24   0  | Punc->Fp if Pos:AQ@[-2] & Word:.@[0]\n",
      " 587 620  33   8  | Z->Num if Pos:N@[1]\n",
      " 501 507   6   0  | Fc->Punc if Pos:Adj@[-1]\n",
      " 441 545 104   0  | Fc->Punc if Pos:Num@[-1]\n",
      " 439 473  34   0  | Punc->Fp if Pos:SP@[-2] & Word:.@[0]\n",
      " 375 380   5   0  | Fe->Punc if Pos:Pron@[1]\n",
      " 353 379  26   0  | Punc->Fp if Pos:AQ@[-1] & Word:.@[0]\n",
      " 343 373  30   2  | Num->Z if Pos:NC@[-2]\n",
      " 337 374  37   0  | PR->CS if Pos:SP@[1]\n",
      " 319 333  14   1  | SP->Conj if Pos:Punc@[-1] & Word:en@[0]\n",
      " 309 309   0   0  | Fc->Punc if Pos:Adv@[-1]\n",
      " 309 339  30   0  | Fpa->Punc if Pos:N@[1]\n",
      " 276 276   0   0  | Art->Conj if Pos:Adj@[-1] & Word:en@[0]\n",
      " 275 278   3   0  | Fe->Punc if Pos:Art@[1]\n",
      " 254 254   0   0  | Fe->Punc if Pos:V@[-1]\n",
      " 240 241   1  94  | SP->Conj if Pos:Adv@[1]\n",
      " 237 533 296  19  | Prep->Adv if Pos:Prep@[1]\n",
      " 232 286  54   0  | Fe->Punc if Pos:N@[-1]\n",
      " 237 292  55   0  | Fc->Punc if Pos:Punc@[-1]\n",
      " 230 712 482   0  | Art->Pron if Pos:V@[-1] & Word:het@[0]\n",
      " 217 288  71   0  | Fpt->Punc if Pos:Punc@[-2]\n",
      " 216 216   0   0  | Z->Num if Pos:Prep@[-1]\n",
      " 213 213   0 233  | SP->Conj if Pos:V@[1]\n",
      "- Done.\n"
     ]
    }
   ],
   "source": [
    "print \"- Templates\"\n",
    "Template._cleartemplates() \n",
    "templates = [\n",
    "    Template(Pos([-1])), \n",
    "    Template(Pos([-1]), Word([0])), \n",
    "    Template(Pos([-2])), \n",
    "    Template(Pos([-2]), Word([0])),\n",
    "    Template(Pos([1])), \n",
    "]\n",
    "print \"- Creating Trainer\"\n",
    "tt = BrillTaggerTrainer(unigram_tagger, templates, trace=3)\n",
    "print \"- Begin Training\"\n",
    "tagger1 = tt.train(training_data, max_rules=40)\n",
    "print \"- Done.\""
   ]
  },
  {
   "cell_type": "code",
   "execution_count": 178,
   "metadata": {
    "collapsed": false
   },
   "outputs": [
    {
     "data": {
      "text/plain": [
       "0.6780185758513931"
      ]
     },
     "execution_count": 178,
     "metadata": {},
     "output_type": "execute_result"
    }
   ],
   "source": [
    "tagger1.evaluate(gold_data)"
   ]
  },
  {
   "cell_type": "code",
   "execution_count": null,
   "metadata": {
    "collapsed": true
   },
   "outputs": [],
   "source": [
    "eagle_dict = {\n",
    "    \"ao\": \"Adjective (ordinal)\",\n",
    "    \"aq\": \"Adjective (descriptive)\",\n",
    "    \"cc\": \"Conjunction (coordinating)\",\n",
    "    \"cs\": \"Conjunction (subordinating)\",\n",
    "    \"da\": \"Determiner Article (definite)\",\n",
    "    \"dd\": \"Determiner Demonstrative\",\n",
    "    \"de\":\"Determiner Exclamative\" ,\n",
    "    \"di\": \"Determiner Article (indefinite)\",\n",
    "    \"dn\": \"Determiner Numeral\",\n",
    "    \"dp\": \"Determiner Possessive\",\n",
    "    \"dt\": \"Determiner Interrogative\",\n",
    "    \"i\": \"Interjection\",\n",
    "    \"nc\": \" Common noun\",\n",
    "    \"np\": \"Proper noun\",\n",
    "    \"p\": \"Pronoun Impersonal se\",\n",
    "    \"pd\": \"Pronoun Demonstrative pronoun\",\n",
    "    \"pe\": \"Pronoun Exclamative\",\n",
    "    \"pi\": \"Pronoun Indefinite\",\n",
    "    \"pn\": \"Numeral pronoun\",\n",
    "    \"pp\": \"Personal pronoun\",\n",
    "    \"pr\": \"Relative pronoun\",\n",
    "    \"pt\": \"Interrogative pronoun\",\n",
    "    \"px\": \"Possessive pronoun\",\n",
    "    \"rg\": \"Adverb (general)\",\n",
    "    \"rn\": \"Adverb (negating)\",\n",
    "    \"sp\": \"Preposition\",\n",
    "    \"va\": \"Verb (auxiliary)\",\n",
    "    \"vm\": \"Verb (main)\",\n",
    "    \"vs\": \"Verb (semiauxiliary)\",\n",
    "    \"w\": \"Date\",\n",
    "    \"z\": \"Numeral\",\n",
    "    \"zm\": \"Numeral qualifier (currency)\",\n",
    "    \"zu\": \"Numeral qualifier (other units)\",\n",
    "}\n",
    "\n",
    "\n",
    "def eagle_to_human(tag_list):\n",
    "    for word, tag in tag_list:\n",
    "        human_tag = tag\n",
    "        if tag[:2] in eagle_dict:\n",
    "            human_tag = eagle_dict[tag[:2]]\n",
    "        if (len(tag) == 1 or tag[1] == \"0\") and tag[0] in eagle_dict:\n",
    "            human_tag = eagle_dict[tag[0]]\n",
    "        print \"%s -- %s\" %(word, human_tag)"
   ]
  },
  {
   "cell_type": "code",
   "execution_count": null,
   "metadata": {
    "collapsed": false
   },
   "outputs": [],
   "source": [
    "raw = \"El conductor del carro fue identificado como miguel perez\"\n",
    "\n",
    "eagle_to_human( tagger1.tag(raw.split()) )"
   ]
  },
  {
   "cell_type": "markdown",
   "metadata": {},
   "source": [
    "# TEST with data"
   ]
  },
  {
   "cell_type": "code",
   "execution_count": null,
   "metadata": {
    "collapsed": true
   },
   "outputs": [],
   "source": [
    "import urllib2\n",
    "import bs4 #beautiful soup\n",
    "\n",
    "from datetime import datetime\n",
    "import pandas as pd\n",
    "import numpy as np"
   ]
  },
  {
   "cell_type": "code",
   "execution_count": null,
   "metadata": {
    "collapsed": false
   },
   "outputs": [],
   "source": [
    "articles = pd.read_csv(\"./files/articles.csv\")\n",
    "articles.shape"
   ]
  },
  {
   "cell_type": "code",
   "execution_count": null,
   "metadata": {
    "collapsed": false
   },
   "outputs": [],
   "source": [
    "content = articles.loc[1].content\n",
    "soup = bs4.BeautifulSoup(content, 'html.parser')\n",
    "print soup.get_text()"
   ]
  },
  {
   "cell_type": "code",
   "execution_count": null,
   "metadata": {
    "collapsed": false
   },
   "outputs": [],
   "source": [
    "raw = soup.get_text()\n",
    "eagle_to_human( tagger1.tag(raw.split()) )"
   ]
  },
  {
   "cell_type": "markdown",
   "metadata": {},
   "source": [
    "# Stanford Tagger"
   ]
  },
  {
   "cell_type": "code",
   "execution_count": null,
   "metadata": {
    "collapsed": true
   },
   "outputs": [],
   "source": [
    "from nltk.tag import StanfordNERTagger\n",
    "\n",
    "st = StanfordNERTagger('english.all.3class.distsim.crf.ser.gz','./stanford-spanish-corenlp-2016-10-31-models.jar') \n",
    "st.tag(raw.split()) "
   ]
  },
  {
   "cell_type": "markdown",
   "metadata": {},
   "source": [
    "# Chunks"
   ]
  },
  {
   "cell_type": "code",
   "execution_count": null,
   "metadata": {
    "collapsed": false
   },
   "outputs": [],
   "source": [
    "cess_esp.sents()[1]"
   ]
  },
  {
   "cell_type": "code",
   "execution_count": null,
   "metadata": {
    "collapsed": false
   },
   "outputs": [],
   "source": [
    "cess_esp.parsed_sents()[1].draw()"
   ]
  },
  {
   "cell_type": "markdown",
   "metadata": {
    "collapsed": true
   },
   "source": [
    "# CONLL2002"
   ]
  },
  {
   "cell_type": "code",
   "execution_count": 2,
   "metadata": {
    "collapsed": true
   },
   "outputs": [],
   "source": [
    "from nltk.corpus import  conll2002"
   ]
  },
  {
   "cell_type": "code",
   "execution_count": 5,
   "metadata": {
    "collapsed": false
   },
   "outputs": [
    {
     "data": {
      "text/plain": [
       "[(u'Sao', u'NC', u'B-LOC'),\n",
       " (u'Paulo', u'VMI', u'I-LOC'),\n",
       " (u'(', u'Fpa', u'O'),\n",
       " (u'Brasil', u'NC', u'B-LOC'),\n",
       " (u')', u'Fpt', u'O'),\n",
       " (u',', u'Fc', u'O'),\n",
       " (u'23', u'Z', u'O'),\n",
       " (u'may', u'NC', u'O'),\n",
       " (u'(', u'Fpa', u'O'),\n",
       " (u'EFECOM', u'NP', u'B-ORG'),\n",
       " (u')', u'Fpt', u'O'),\n",
       " (u'.', u'Fp', u'O')]"
      ]
     },
     "execution_count": 5,
     "metadata": {},
     "output_type": "execute_result"
    }
   ],
   "source": [
    "#conll2002.tagged_sents()[0]\n",
    "# print conll2002.chunked_sents()[0]\n",
    "conll2002.iob_sents()[0]"
   ]
  },
  {
   "cell_type": "markdown",
   "metadata": {},
   "source": [
    "## Simple stupid test.... \n",
    "Try to use the iob_sents to find the Named Entity:\n",
    "\n",
    "1. Extract features\n",
    "   - First letter uppercase?\n",
    "   - Begin of chunk\n",
    "   - pos[-1] tag\n",
    "   - pos[1] tag\n",
    "   - pos in chunk\n",
    "   - pos in sentence\n",
    "\n"
   ]
  },
  {
   "cell_type": "code",
   "execution_count": 107,
   "metadata": {
    "collapsed": true
   },
   "outputs": [],
   "source": [
    "import pandas as pd\n",
    "import numpy as np\n",
    "\n",
    "import matplotlib.pyplot as plt"
   ]
  },
  {
   "cell_type": "code",
   "execution_count": 27,
   "metadata": {
    "collapsed": false
   },
   "outputs": [
    {
     "data": {
      "text/html": [
       "<div>\n",
       "<table border=\"1\" class=\"dataframe\">\n",
       "  <thead>\n",
       "    <tr style=\"text-align: right;\">\n",
       "      <th></th>\n",
       "      <th>a</th>\n",
       "      <th>b</th>\n",
       "    </tr>\n",
       "  </thead>\n",
       "  <tbody>\n",
       "    <tr>\n",
       "      <th>0</th>\n",
       "      <td>2</td>\n",
       "      <td>3</td>\n",
       "    </tr>\n",
       "    <tr>\n",
       "      <th>1</th>\n",
       "      <td>4</td>\n",
       "      <td>3</td>\n",
       "    </tr>\n",
       "    <tr>\n",
       "      <th>2</th>\n",
       "      <td>3</td>\n",
       "      <td>3</td>\n",
       "    </tr>\n",
       "  </tbody>\n",
       "</table>\n",
       "</div>"
      ],
      "text/plain": [
       "   a  b\n",
       "0  2  3\n",
       "1  4  3\n",
       "2  3  3"
      ]
     },
     "execution_count": 27,
     "metadata": {},
     "output_type": "execute_result"
    }
   ],
   "source": [
    "df = pd.DataFrame()\n",
    "df.append(dfa)"
   ]
  },
  {
   "cell_type": "code",
   "execution_count": 76,
   "metadata": {
    "collapsed": false
   },
   "outputs": [],
   "source": [
    "def get_df(sentences):\n",
    "\n",
    "    \n",
    "    s_id = []\n",
    "    s_word = []\n",
    "    s_tag = []\n",
    "    s_iob =[]\n",
    "    s_pos = []\n",
    "\n",
    "    for sent_num in range(len(sentences)):\n",
    "        sent = sentences[sent_num]\n",
    "        for pos in range(len(sent)):\n",
    "            word = sent[pos]\n",
    "            s_id.append(sent_num)\n",
    "            s_word.append(word[0])\n",
    "            s_tag.append(word[1])\n",
    "            s_iob.append(word[2])\n",
    "            s_pos.append(pos)\n",
    "        \n",
    "    df = pd.DataFrame({\n",
    "            \"sentence\": s_id,\n",
    "            \"word\": s_word,\n",
    "            \"tag\": s_tag,\n",
    "            \"iob\": s_iob,\n",
    "            \"pos\": s_pos\n",
    "        })\n",
    "    \n",
    "    return df\n",
    "sent_df = get_df(conll2002.iob_sents())"
   ]
  },
  {
   "cell_type": "code",
   "execution_count": 78,
   "metadata": {
    "collapsed": false
   },
   "outputs": [
    {
     "data": {
      "text/html": [
       "<div>\n",
       "<table border=\"1\" class=\"dataframe\">\n",
       "  <thead>\n",
       "    <tr style=\"text-align: right;\">\n",
       "      <th></th>\n",
       "      <th>iob</th>\n",
       "      <th>pos</th>\n",
       "      <th>sentence</th>\n",
       "      <th>tag</th>\n",
       "      <th>word</th>\n",
       "    </tr>\n",
       "  </thead>\n",
       "  <tbody>\n",
       "    <tr>\n",
       "      <th>678372</th>\n",
       "      <td>O</td>\n",
       "      <td>6</td>\n",
       "      <td>35650</td>\n",
       "      <td>Prep</td>\n",
       "      <td>uit</td>\n",
       "    </tr>\n",
       "    <tr>\n",
       "      <th>678373</th>\n",
       "      <td>O</td>\n",
       "      <td>7</td>\n",
       "      <td>35650</td>\n",
       "      <td>Art</td>\n",
       "      <td>de</td>\n",
       "    </tr>\n",
       "    <tr>\n",
       "      <th>678374</th>\n",
       "      <td>O</td>\n",
       "      <td>8</td>\n",
       "      <td>35650</td>\n",
       "      <td>N</td>\n",
       "      <td>wonderoogst</td>\n",
       "    </tr>\n",
       "    <tr>\n",
       "      <th>678375</th>\n",
       "      <td>O</td>\n",
       "      <td>9</td>\n",
       "      <td>35650</td>\n",
       "      <td>Num</td>\n",
       "      <td>1997</td>\n",
       "    </tr>\n",
       "    <tr>\n",
       "      <th>678376</th>\n",
       "      <td>O</td>\n",
       "      <td>10</td>\n",
       "      <td>35650</td>\n",
       "      <td>Punc</td>\n",
       "      <td>.</td>\n",
       "    </tr>\n",
       "  </tbody>\n",
       "</table>\n",
       "</div>"
      ],
      "text/plain": [
       "       iob  pos  sentence   tag         word\n",
       "678372   O    6     35650  Prep          uit\n",
       "678373   O    7     35650   Art           de\n",
       "678374   O    8     35650     N  wonderoogst\n",
       "678375   O    9     35650   Num         1997\n",
       "678376   O   10     35650  Punc            ."
      ]
     },
     "execution_count": 78,
     "metadata": {},
     "output_type": "execute_result"
    }
   ],
   "source": [
    "sent_df.tail()"
   ]
  },
  {
   "cell_type": "markdown",
   "metadata": {},
   "source": [
    "### Features"
   ]
  },
  {
   "cell_type": "code",
   "execution_count": 79,
   "metadata": {
    "collapsed": false
   },
   "outputs": [
    {
     "name": "stdout",
     "output_type": "stream",
     "text": [
      "[u'B-LOC', u'B-MISC', u'B-ORG', u'B-PER', u'I-LOC', u'I-MISC', u'I-ORG', u'I-PER', u'O']\n"
     ]
    },
    {
     "data": {
      "text/html": [
       "<div>\n",
       "<table border=\"1\" class=\"dataframe\">\n",
       "  <thead>\n",
       "    <tr style=\"text-align: right;\">\n",
       "      <th></th>\n",
       "      <th>iob</th>\n",
       "      <th>tag</th>\n",
       "      <th>upper</th>\n",
       "      <th>pos</th>\n",
       "    </tr>\n",
       "  </thead>\n",
       "  <tbody>\n",
       "    <tr>\n",
       "      <th>0</th>\n",
       "      <td>0</td>\n",
       "      <td>35</td>\n",
       "      <td>True</td>\n",
       "      <td>0</td>\n",
       "    </tr>\n",
       "    <tr>\n",
       "      <th>1</th>\n",
       "      <td>4</td>\n",
       "      <td>59</td>\n",
       "      <td>True</td>\n",
       "      <td>1</td>\n",
       "    </tr>\n",
       "    <tr>\n",
       "      <th>2</th>\n",
       "      <td>8</td>\n",
       "      <td>25</td>\n",
       "      <td>False</td>\n",
       "      <td>2</td>\n",
       "    </tr>\n",
       "    <tr>\n",
       "      <th>3</th>\n",
       "      <td>0</td>\n",
       "      <td>35</td>\n",
       "      <td>True</td>\n",
       "      <td>3</td>\n",
       "    </tr>\n",
       "    <tr>\n",
       "      <th>4</th>\n",
       "      <td>8</td>\n",
       "      <td>26</td>\n",
       "      <td>False</td>\n",
       "      <td>4</td>\n",
       "    </tr>\n",
       "  </tbody>\n",
       "</table>\n",
       "</div>"
      ],
      "text/plain": [
       "   iob  tag  upper  pos\n",
       "0    0   35   True    0\n",
       "1    4   59   True    1\n",
       "2    8   25  False    2\n",
       "3    0   35   True    3\n",
       "4    8   26  False    4"
      ]
     },
     "execution_count": 79,
     "metadata": {},
     "output_type": "execute_result"
    }
   ],
   "source": [
    "from sklearn.preprocessing import LabelEncoder\n",
    "\n",
    "def get_features(base_df):\n",
    "    df = pd.DataFrame()\n",
    "    # iob\n",
    "    le_iob = LabelEncoder()\n",
    "    df.loc[:,\"iob\"] = le_iob.fit_transform(base_df.iob)\n",
    "    print list(le_iob.classes_)\n",
    "\n",
    "    #tag\n",
    "    le_tag = LabelEncoder()\n",
    "    df.loc[:,\"tag\"] = le_tag.fit_transform(base_df.tag)\n",
    "#     print list(le_tag.classes_)\n",
    "    \n",
    "    # Uppercase\n",
    "    df.loc[:,\"upper\"] = base_df.word.apply(lambda x: x[0].isupper())\n",
    "    \n",
    "    # Pos\n",
    "    df.loc[:,\"pos\"] = base_df.pos\n",
    "    \n",
    "    return df\n",
    "\n",
    "\n",
    "\n",
    "feature_df = get_features(sent_df)\n",
    "feature_df.head()"
   ]
  },
  {
   "cell_type": "markdown",
   "metadata": {},
   "source": [
    "### X and Y"
   ]
  },
  {
   "cell_type": "code",
   "execution_count": 162,
   "metadata": {
    "collapsed": false
   },
   "outputs": [
    {
     "data": {
      "text/plain": [
       "1    75170\n",
       "0    75170\n",
       "Name: iob, dtype: int64"
      ]
     },
     "execution_count": 162,
     "metadata": {},
     "output_type": "execute_result"
    }
   ],
   "source": [
    "#balancer\n",
    "def balance_classes(df):\n",
    "\n",
    "    classes = []\n",
    "    for i in range(9):\n",
    "        #binarizing\n",
    "        if i == 8:\n",
    "            class_df = df[df[\"iob\"]==i][:75170]\n",
    "            class_df.iob = 0\n",
    "            classes.append(class_df )\n",
    "        else:\n",
    "            class_df = df[df[\"iob\"]==i][:14000]\n",
    "            class_df.iob = 1\n",
    "            classes.append(class_df)\n",
    "            \n",
    "\n",
    "    newdf = pd.concat(classes)\n",
    "        \n",
    "    return newdf\n",
    "\n",
    "neo_feature_df = balance_classes(feature_df)\n",
    "neo_feature_df.iob.value_counts()"
   ]
  },
  {
   "cell_type": "code",
   "execution_count": 163,
   "metadata": {
    "collapsed": false
   },
   "outputs": [],
   "source": [
    "def getXY(df):\n",
    "    X = df.drop(\"iob\",1).values\n",
    "    y = df.iob.values\n",
    "    \n",
    "    \n",
    "    return X, y\n",
    "\n",
    "X,y = getXY(neo_feature_df)"
   ]
  },
  {
   "cell_type": "code",
   "execution_count": 164,
   "metadata": {
    "collapsed": false
   },
   "outputs": [
    {
     "name": "stdout",
     "output_type": "stream",
     "text": [
      "---------\n",
      "0.954643548697\n",
      "0.95097778369\n",
      "---------\n",
      "0.954621376731\n",
      "0.951310363177\n",
      "---------\n",
      "0.954495735592\n",
      "0.952374617534\n",
      "---------\n",
      "0.954096640208\n",
      "0.95616602368\n",
      "---------\n",
      "0.954495735592\n",
      "0.952574165225\n",
      "---------\n",
      "0.95443661035\n",
      "0.953106292404\n",
      "---------\n",
      "0.95443661035\n",
      "0.952507649328\n",
      "---------\n",
      "0.95428140659\n",
      "0.953904483171\n",
      "---------\n",
      "0.954259234624\n",
      "0.954702673939\n",
      "---------\n",
      "0.954444001005\n",
      "0.952241585739\n"
     ]
    }
   ],
   "source": [
    "from sklearn.ensemble import RandomForestClassifier\n",
    "\n",
    "clf = RandomForestClassifier(n_estimators=100, random_state= 233, n_jobs=2)\n",
    "\n",
    "#train\n",
    "from sklearn.model_selection import StratifiedKFold\n",
    "skf = StratifiedKFold(n_splits=10,shuffle=True, random_state= 233)\n",
    "\n",
    "for train_index, test_index in skf.split(X, y):\n",
    "    X_train, X_test = X[train_index], X[test_index]\n",
    "    y_train, y_test = y[train_index], y[test_index]\n",
    "\n",
    "    #train\n",
    "    clf.fit(X_train, y_train)\n",
    "    print \"---------\"\n",
    "    print clf.score(X_train,y_train)\n",
    "    print clf.score(X_test,y_test)"
   ]
  },
  {
   "cell_type": "code",
   "execution_count": 165,
   "metadata": {
    "collapsed": false
   },
   "outputs": [
    {
     "data": {
      "text/plain": [
       "0.95224158573899165"
      ]
     },
     "execution_count": 165,
     "metadata": {},
     "output_type": "execute_result"
    }
   ],
   "source": [
    "from sklearn.metrics import accuracy_score\n",
    "preds = clf.predict(X_test)\n",
    "accuracy_score(y_test, preds)"
   ]
  },
  {
   "cell_type": "code",
   "execution_count": 166,
   "metadata": {
    "collapsed": false
   },
   "outputs": [
    {
     "data": {
      "text/plain": [
       "array([[7420,   97],\n",
       "       [ 621, 6896]])"
      ]
     },
     "execution_count": 166,
     "metadata": {},
     "output_type": "execute_result"
    }
   ],
   "source": [
    "from sklearn.metrics import confusion_matrix\n",
    "\n",
    "confusion_matrix(y_test, preds)"
   ]
  },
  {
   "cell_type": "code",
   "execution_count": 167,
   "metadata": {
    "collapsed": false
   },
   "outputs": [
    {
     "name": "stdout",
     "output_type": "stream",
     "text": [
      "             precision    recall  f1-score   support\n",
      "\n",
      "         NE       0.92      0.99      0.95      7517\n",
      "      Other       0.99      0.92      0.95      7517\n",
      "\n",
      "avg / total       0.95      0.95      0.95     15034\n",
      "\n"
     ]
    }
   ],
   "source": [
    "from sklearn.metrics import classification_report\n",
    "target_names = ['NE', 'Other']\n",
    "print(classification_report(y_test, preds, target_names=target_names))"
   ]
  },
  {
   "cell_type": "markdown",
   "metadata": {},
   "source": [
    "# Sub-Conclusion...\n",
    "\n",
    "### RFC can be used for Name Entitity identification task, given a POS tagged and IOB tagged corpora.\n",
    "\n",
    "### The other task **TO DO** is to classify the NE into categories\n",
    "\n",
    "## NEXT STEPS:\n",
    "- train a POS tagger using this corpora\n",
    "- train an IOB tagger using this corpora\n",
    "\n"
   ]
  },
  {
   "cell_type": "code",
   "execution_count": 101,
   "metadata": {
    "collapsed": false
   },
   "outputs": [
    {
     "name": "stdout",
     "output_type": "stream",
     "text": [
      "[8 7 3 8 3]\n",
      "[8 0 4 8 0]\n"
     ]
    }
   ],
   "source": [
    "print preds[17:22]\n",
    "print y_test[17:22]"
   ]
  },
  {
   "cell_type": "code",
   "execution_count": 21,
   "metadata": {
    "collapsed": false
   },
   "outputs": [
    {
     "data": {
      "text/plain": [
       "[(u'Sao', u'NC', u'B-LOC'),\n",
       " (u'Paulo', u'VMI', u'I-LOC'),\n",
       " (u'(', u'Fpa', u'O'),\n",
       " (u'Brasil', u'NC', u'B-LOC'),\n",
       " (u')', u'Fpt', u'O'),\n",
       " (u',', u'Fc', u'O'),\n",
       " (u'23', u'Z', u'O'),\n",
       " (u'may', u'NC', u'O'),\n",
       " (u'(', u'Fpa', u'O'),\n",
       " (u'EFECOM', u'NP', u'B-ORG'),\n",
       " (u')', u'Fpt', u'O'),\n",
       " (u'.', u'Fp', u'O')]"
      ]
     },
     "execution_count": 21,
     "metadata": {},
     "output_type": "execute_result"
    }
   ],
   "source": [
    "conll2002.iob_sents()[0]"
   ]
  },
  {
   "cell_type": "code",
   "execution_count": 114,
   "metadata": {
    "collapsed": false
   },
   "outputs": [
    {
     "data": {
      "image/png": "[encoded data removed]",
      "text/plain": [
       "<matplotlib.figure.Figure at 0x116b92490>"
      ]
     },
     "metadata": {},
     "output_type": "display_data"
    }
   ],
   "source": [
    "feature_df.iob.hist()\n",
    "plt.show()"
   ]
  },
  {
   "cell_type": "code",
   "execution_count": 129,
   "metadata": {
    "collapsed": false
   },
   "outputs": [
    {
     "data": {
      "text/plain": [
       "8    603067\n",
       "2     14140\n",
       "3     12795\n",
       "0     11442\n",
       "6      9608\n",
       "7      9509\n",
       "1      8230\n",
       "5      6453\n",
       "4      3133\n",
       "Name: iob, dtype: int64"
      ]
     },
     "execution_count": 129,
     "metadata": {},
     "output_type": "execute_result"
    }
   ],
   "source": [
    "feature_df.iob.value_counts()"
   ]
  },
  {
   "cell_type": "code",
   "execution_count": null,
   "metadata": {
    "collapsed": true
   },
   "outputs": [],
   "source": []
  }
 ],
 "metadata": {
  "anaconda-cloud": {},
  "kernelspec": {
   "display_name": "Python [default]",
   "language": "python",
   "name": "python2"
  },
  "language_info": {
   "codemirror_mode": {
    "name": "ipython",
    "version": 2
   },
   "file_extension": ".py",
   "mimetype": "text/x-python",
   "name": "python",
   "nbconvert_exporter": "python",
   "pygments_lexer": "ipython2",
   "version": "2.7.12"
  }
 },
 "nbformat": 4,
 "nbformat_minor": 1
}
