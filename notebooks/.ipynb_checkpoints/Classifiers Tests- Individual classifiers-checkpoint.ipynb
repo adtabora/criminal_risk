{
 "cells": [
  {
   "cell_type": "markdown",
   "metadata": {},
   "source": [
    "# Introduction\n",
    "This notebook is to test the classifier training phase of the NER Identifier.\n",
    "\n",
    "### Specifically\n",
    "- Specialized classifiers by geo-type"
   ]
  },
  {
   "cell_type": "code",
   "execution_count": 58,
   "metadata": {
    "collapsed": true
   },
   "outputs": [],
   "source": [
    "import pandas as pd\n",
    "import numpy as np\n",
    "from sklearn.metrics import f1_score, make_scorer, classification_report, precision_recall_fscore_support\n",
    "from sklearn.ensemble import RandomForestClassifier\n",
    "from sklearn.model_selection import GridSearchCV"
   ]
  },
  {
   "cell_type": "code",
   "execution_count": 3,
   "metadata": {
    "collapsed": false
   },
   "outputs": [
    {
     "data": {
      "text/html": [
       "<div>\n",
       "<table border=\"1\" class=\"dataframe\">\n",
       "  <thead>\n",
       "    <tr style=\"text-align: right;\">\n",
       "      <th></th>\n",
       "      <th>art_id</th>\n",
       "      <th>sent_id</th>\n",
       "      <th>cs_id</th>\n",
       "      <th>pos</th>\n",
       "      <th>word</th>\n",
       "      <th>pos_tag</th>\n",
       "      <th>iob_tag</th>\n",
       "      <th>iob</th>\n",
       "      <th>geo_type</th>\n",
       "      <th>upper</th>\n",
       "      <th>...</th>\n",
       "      <th>next_1</th>\n",
       "      <th>next_2</th>\n",
       "      <th>prev_prefix_1</th>\n",
       "      <th>prev_prefix_2</th>\n",
       "      <th>trigger_1</th>\n",
       "      <th>trigger_2</th>\n",
       "      <th>sent_size</th>\n",
       "      <th>in_Country</th>\n",
       "      <th>in_State</th>\n",
       "      <th>in_City</th>\n",
       "    </tr>\n",
       "  </thead>\n",
       "  <tbody>\n",
       "    <tr>\n",
       "      <th>0</th>\n",
       "      <td>3</td>\n",
       "      <td>0</td>\n",
       "      <td>0</td>\n",
       "      <td>0</td>\n",
       "      <td>SAN</td>\n",
       "      <td>1</td>\n",
       "      <td>B-City</td>\n",
       "      <td>0</td>\n",
       "      <td>City</td>\n",
       "      <td>1</td>\n",
       "      <td>...</td>\n",
       "      <td>22</td>\n",
       "      <td>22</td>\n",
       "      <td>0</td>\n",
       "      <td>0</td>\n",
       "      <td>0</td>\n",
       "      <td>0</td>\n",
       "      <td>3</td>\n",
       "      <td>0</td>\n",
       "      <td>0</td>\n",
       "      <td>1</td>\n",
       "    </tr>\n",
       "    <tr>\n",
       "      <th>1</th>\n",
       "      <td>3</td>\n",
       "      <td>0</td>\n",
       "      <td>0</td>\n",
       "      <td>1</td>\n",
       "      <td>PEDRO</td>\n",
       "      <td>22</td>\n",
       "      <td>I-City</td>\n",
       "      <td>0</td>\n",
       "      <td>City</td>\n",
       "      <td>1</td>\n",
       "      <td>...</td>\n",
       "      <td>22</td>\n",
       "      <td>13</td>\n",
       "      <td>0</td>\n",
       "      <td>0</td>\n",
       "      <td>0</td>\n",
       "      <td>0</td>\n",
       "      <td>3</td>\n",
       "      <td>0</td>\n",
       "      <td>0</td>\n",
       "      <td>1</td>\n",
       "    </tr>\n",
       "    <tr>\n",
       "      <th>2</th>\n",
       "      <td>3</td>\n",
       "      <td>0</td>\n",
       "      <td>0</td>\n",
       "      <td>2</td>\n",
       "      <td>SULA</td>\n",
       "      <td>22</td>\n",
       "      <td>I-City</td>\n",
       "      <td>0</td>\n",
       "      <td>City</td>\n",
       "      <td>1</td>\n",
       "      <td>...</td>\n",
       "      <td>13</td>\n",
       "      <td>34</td>\n",
       "      <td>0</td>\n",
       "      <td>0</td>\n",
       "      <td>0</td>\n",
       "      <td>0</td>\n",
       "      <td>3</td>\n",
       "      <td>0</td>\n",
       "      <td>0</td>\n",
       "      <td>1</td>\n",
       "    </tr>\n",
       "    <tr>\n",
       "      <th>3</th>\n",
       "      <td>3</td>\n",
       "      <td>1</td>\n",
       "      <td>1</td>\n",
       "      <td>0</td>\n",
       "      <td>-</td>\n",
       "      <td>13</td>\n",
       "      <td>none</td>\n",
       "      <td>1</td>\n",
       "      <td>none</td>\n",
       "      <td>0</td>\n",
       "      <td>...</td>\n",
       "      <td>34</td>\n",
       "      <td>4</td>\n",
       "      <td>0</td>\n",
       "      <td>0</td>\n",
       "      <td>0</td>\n",
       "      <td>0</td>\n",
       "      <td>32</td>\n",
       "      <td>0</td>\n",
       "      <td>0</td>\n",
       "      <td>0</td>\n",
       "    </tr>\n",
       "    <tr>\n",
       "      <th>4</th>\n",
       "      <td>3</td>\n",
       "      <td>1</td>\n",
       "      <td>1</td>\n",
       "      <td>1</td>\n",
       "      <td>Hasta</td>\n",
       "      <td>34</td>\n",
       "      <td>none</td>\n",
       "      <td>1</td>\n",
       "      <td>none</td>\n",
       "      <td>1</td>\n",
       "      <td>...</td>\n",
       "      <td>4</td>\n",
       "      <td>22</td>\n",
       "      <td>0</td>\n",
       "      <td>0</td>\n",
       "      <td>0</td>\n",
       "      <td>0</td>\n",
       "      <td>32</td>\n",
       "      <td>0</td>\n",
       "      <td>0</td>\n",
       "      <td>0</td>\n",
       "    </tr>\n",
       "  </tbody>\n",
       "</table>\n",
       "<p>5 rows × 27 columns</p>\n",
       "</div>"
      ],
      "text/plain": [
       "   art_id  sent_id  cs_id  pos   word  pos_tag iob_tag  iob geo_type  upper  \\\n",
       "0       3        0      0    0    SAN        1  B-City    0     City      1   \n",
       "1       3        0      0    1  PEDRO       22  I-City    0     City      1   \n",
       "2       3        0      0    2   SULA       22  I-City    0     City      1   \n",
       "3       3        1      1    0      -       13    none    1     none      0   \n",
       "4       3        1      1    1  Hasta       34    none    1     none      1   \n",
       "\n",
       "    ...     next_1  next_2  prev_prefix_1  prev_prefix_2  trigger_1  \\\n",
       "0   ...         22      22              0              0          0   \n",
       "1   ...         22      13              0              0          0   \n",
       "2   ...         13      34              0              0          0   \n",
       "3   ...         34       4              0              0          0   \n",
       "4   ...          4      22              0              0          0   \n",
       "\n",
       "   trigger_2  sent_size  in_Country  in_State  in_City  \n",
       "0          0          3           0         0        1  \n",
       "1          0          3           0         0        1  \n",
       "2          0          3           0         0        1  \n",
       "3          0         32           0         0        0  \n",
       "4          0         32           0         0        0  \n",
       "\n",
       "[5 rows x 27 columns]"
      ]
     },
     "execution_count": 3,
     "metadata": {},
     "output_type": "execute_result"
    }
   ],
   "source": [
    "train_df.head()"
   ]
  },
  {
   "cell_type": "markdown",
   "metadata": {},
   "source": [
    "# Basic processing functions"
   ]
  },
  {
   "cell_type": "code",
   "execution_count": 4,
   "metadata": {
    "collapsed": false
   },
   "outputs": [],
   "source": [
    "iob_map = {\n",
    "    \"B\":0,\n",
    "    \"I\": 1,\n",
    "    \"n\":2\n",
    "}\n",
    "\n",
    "def changeIob(df,geo_type):\n",
    "    df.loc[:,\"iob\"] = df.iob_tag.apply(lambda x: iob_map[x[0]] if x[2:] == geo_type else 2)\n",
    "    return df"
   ]
  },
  {
   "cell_type": "code",
   "execution_count": 5,
   "metadata": {
    "collapsed": true
   },
   "outputs": [],
   "source": [
    "def addNewFeatures(df):\n",
    "    df.loc[:,\"in_gazette\"] = ((df[\"in_Country\"] | df[\"in_State\"] | df[\"in_City\"]) & df[\"upper\"])\\\n",
    "            .apply(lambda x: int(not x)).tolist()\n",
    "    return df"
   ]
  },
  {
   "cell_type": "code",
   "execution_count": 6,
   "metadata": {
    "collapsed": true
   },
   "outputs": [],
   "source": [
    "# formats in X and y\n",
    "def getXY(df, dropColumns, includeColumns=None, names=False):\n",
    "    df = addNewFeatures(df)\n",
    "    if includeColumns == None:\n",
    "        X = df.drop(dropColumns, 1).values\n",
    "    else:\n",
    "        X = df[includeColumns].values\n",
    "    y = df.iob.values\n",
    "    # print \"-- iob counts --\"\n",
    "    # print df.iob.value_counts()\n",
    "    if names:\n",
    "        features_names = df.drop(dropColumns, 1).columns\n",
    "        return X, y, features_names\n",
    "    return X, y"
   ]
  },
  {
   "cell_type": "code",
   "execution_count": 7,
   "metadata": {
    "collapsed": true
   },
   "outputs": [],
   "source": [
    "# add stacked features \n",
    "def add_stacked_feature(clf_ix, pos, df):\n",
    "    preds = df[\"pred_\"+str(clf_ix)].values.tolist()\n",
    "    # decide column name\n",
    "    if pos < 0:\n",
    "        column = \"pred\" + str(clf_ix) + \"_prev_\" + str(-pos)\n",
    "    elif pos > 0:\n",
    "        column = \"pred\" + str(clf_ix) + \"_next_\" + str(pos)\n",
    "    else:\n",
    "        print \"- ERROR: 0 value passed\"\n",
    "        return None\n",
    "    # shift list\n",
    "    df.loc[:,column ] = preds[pos:] + preds[:pos]\n",
    "    # correct the values for the first words\n",
    "    # if pos < 0:\n",
    "    #     df.at[df[column] < -pos,column] = 1\n",
    "   \n",
    "    return df\n",
    "\n",
    "# produces features from the predictions\n",
    "def get_stacked_features(df, lvl_1_classifiers):\n",
    "    for i in range(len(lvl_1_classifiers)):\n",
    "        df = add_stacked_feature(i, -1, df)\n",
    "        df = add_stacked_feature(i, -2, df)\n",
    "        df = add_stacked_feature(i, 1, df)\n",
    "        df = add_stacked_feature(i, 2, df)\n",
    "\n",
    "    return df"
   ]
  },
  {
   "cell_type": "code",
   "execution_count": 50,
   "metadata": {
    "collapsed": false
   },
   "outputs": [],
   "source": [
    "#trains a model and scores it\n",
    "def train_score(model, params, X_train, y_train, X_test, y_test, scores=False  ):\n",
    "    f_one_scorer = make_scorer(f1_score,labels=[0,1], average=\"weighted\")\n",
    "    clf = GridSearchCV(model, params, cv=5, scoring= f_one_scorer, verbose=1, n_jobs=4 )\n",
    "    clf.fit(X_train, y_train)\n",
    "\n",
    "    if scores:\n",
    "        print clf.best_score_\n",
    "        print clf.best_params_\n",
    "        print clf.cv_results_['mean_train_score']\n",
    "        print clf.cv_results_['mean_test_score']\n",
    "\n",
    "        print \"- Train Results -\"\n",
    "        preds_train = clf.predict(X_train)\n",
    "        print classification_report(y_train, preds_train,labels=[0,1] )\n",
    "\n",
    "        print \"- Test Results -\"\n",
    "        preds_test = clf.predict(X_test)\n",
    "        print classification_report(y_test, preds_test,labels=[0,1])    \n",
    "        \n",
    "    \n",
    "    return clf"
   ]
  },
  {
   "cell_type": "code",
   "execution_count": 23,
   "metadata": {
    "collapsed": true
   },
   "outputs": [],
   "source": [
    "def extract_entities(words, column):\n",
    "    data = []\n",
    "    for index, row in words.iterrows():\n",
    "        if row[column][0] == \"B\":\n",
    "            data.append([\n",
    "                row.art_id,\n",
    "                row.sent_id,\n",
    "                row.cs_id,\n",
    "                row.pos,\n",
    "                row.word,\n",
    "                row.geo_type\n",
    "            ])\n",
    "        elif row[column][0] == \"I\":\n",
    "            if len(data) > 0:\n",
    "                data[-1][4] += \" \" + row.word\n",
    "\n",
    "    df = pd.DataFrame(data, columns=[\"art_id\",\"sent_id\",\"cs_id\",\"pos\",\"entity\",\"geo_type\"])\n",
    "\n",
    "    return df"
   ]
  },
  {
   "cell_type": "code",
   "execution_count": 80,
   "metadata": {
    "collapsed": true
   },
   "outputs": [],
   "source": [
    "def score_entities(true, pred):\n",
    "    geo_types =[\"Country\",\"State\",\"City\",\"Zone\",\"Col\",\"Bar\"]\n",
    "    \n",
    "    data = []\n",
    "    for geo_type in geo_types:\n",
    "        # Find the true positives\n",
    "        true_positive = 0\n",
    "        for index, entity in pred[pred[\"geo_type\"]==geo_type].iterrows():\n",
    "            result = true[ (true[\"geo_type\"] == geo_type)\n",
    "                          & (true[\"cs_id\"] == entity.cs_id)\n",
    "                          & (true[\"pos\"] == entity.pos)\n",
    "                          & (true[\"entity\"] == entity.entity)\n",
    "                         ]\n",
    "            if len(result) > 0:\n",
    "                true_positive += 1\n",
    "\n",
    "        support = true[true[\"geo_type\"]==geo_type].shape[0]\n",
    "#         print \"true positives: %i\" %true_positive\n",
    "#         print \"predicted positives: %i\" % pred[pred[\"geo_type\"]==geo_type].shape[0]\n",
    "#         print \"real positives: %i\" % support\n",
    "        if true_positive == 0:\n",
    "            precision =0.0\n",
    "            recall = 0.0\n",
    "            fscore = 0.0\n",
    "        else:\n",
    "            precision = true_positive * 1.0 / pred[pred[\"geo_type\"]==geo_type].shape[0]\n",
    "#         print \"precision: %0.4f\" %precision\n",
    "            recall = true_positive * 1.0 / support\n",
    "#         print \"recall: %0.4f\" %recall\n",
    "\n",
    "        \n",
    "            fscore = (precision * recall)*2.0 / (precision + recall)\n",
    "#         print \"fscores: %0.4f\" %fscore\n",
    "        \n",
    "        data.append([geo_type,precision,recall,fscore,support ])\n",
    "        \n",
    "    scores_df = pd.DataFrame(data,columns=[\"geo_type\",\"precision\",\"recall\",\"fscore\",\"support\"])\n",
    "    \n",
    "   \n",
    "    f1_result = (scores_df[\"fscore\"] * scores_df[\"support\"]).sum() / scores_df[\"support\"].sum()\n",
    "    \n",
    " \n",
    "\n",
    "    return scores_df, f1_result"
   ]
  },
  {
   "cell_type": "code",
   "execution_count": 11,
   "metadata": {
    "collapsed": false
   },
   "outputs": [],
   "source": [
    "desc_columns = [\"art_id\",\"sent_id\", \"cs_id\",\"word\", \"iob_tag\",\"iob\" ,\"geo_type\",\n",
    "#                 \"first\", \"first_sent\", \"next_2\", \"pos_tag\", \"next_1\", \"prev_2\"\n",
    "               ]"
   ]
  },
  {
   "cell_type": "markdown",
   "metadata": {},
   "source": [
    "# Initial Preds"
   ]
  },
  {
   "cell_type": "code",
   "execution_count": 13,
   "metadata": {
    "collapsed": true
   },
   "outputs": [],
   "source": [
    "def combine_preds(orig_preds, new_pred, geo_type):\n",
    "    for idx, pred in enumerate(new_pred):\n",
    "        if pred == 0:\n",
    "            orig_preds[idx] = \"B_\"+ geo_type\n",
    "        elif pred == 1:\n",
    "            orig_preds[idx] = \"I_\"+ geo_type\n",
    "    return orig_preds"
   ]
  },
  {
   "cell_type": "code",
   "execution_count": 51,
   "metadata": {
    "collapsed": false,
    "scrolled": true
   },
   "outputs": [],
   "source": [
    "def train_test_predict_rfc(train_df, test_df, scores=False, importance=False):\n",
    "    X_train, y_train, features_names = getXY(train_df, desc_columns, names=True)\n",
    "    X_test, y_test = getXY(test_df, desc_columns)\n",
    "    \n",
    "    parameters = {\n",
    "        \"n_estimators\": [200],\n",
    "        \"max_depth\": [20], #[3,4,5,8,10,20],\n",
    "        \"min_samples_split\" : [4],\n",
    "        \"max_features\": [.3] #[.8,.5,.3,.1]\n",
    "    }\n",
    "    rfc = RandomForestClassifier(random_state= 233, n_jobs=4)\n",
    "    clf = train_score(rfc, parameters, X_train, y_train, X_test, y_test, scores=scores )\n",
    "    #predict \n",
    "    tr_preds = clf.predict(X_train) \n",
    "    te_preds = clf.predict(X_test) \n",
    "    \n",
    "    if importance:\n",
    "        print pd.DataFrame({\n",
    "            \"names\": features_names,\n",
    "            \"importance\": clf.best_estimator_.feature_importances_\n",
    "        }).sort_values(by=\"importance\", ascending=False)\n",
    "    \n",
    "    return tr_preds, te_preds"
   ]
  },
  {
   "cell_type": "markdown",
   "metadata": {},
   "source": [
    "# Classifiers"
   ]
  },
  {
   "cell_type": "code",
   "execution_count": 15,
   "metadata": {
    "collapsed": false
   },
   "outputs": [],
   "source": [
    "def country_clf(train_df,test_df, preds_train, preds_test):\n",
    "    train_df = changeIob(train_df,\"Country\")\n",
    "    test_df = changeIob(test_df,\"Country\")\n",
    "    tr_preds,te_preds = train_test_predict_rfc(train_df, test_df)\n",
    "    \n",
    "    #combine\n",
    "    preds_train = combine_preds(preds_train, tr_preds, \"Country\")\n",
    "    preds_test = combine_preds(preds_test, te_preds, \"Country\")\n",
    "    \n",
    "    return preds_train, preds_test"
   ]
  },
  {
   "cell_type": "code",
   "execution_count": 31,
   "metadata": {
    "collapsed": true
   },
   "outputs": [],
   "source": [
    "def state_clf(train_df,test_df, preds_train, preds_test):\n",
    "    train_df = changeIob(train_df,\"State\")\n",
    "    test_df = changeIob(test_df,\"State\")\n",
    "    tr_preds,te_preds = train_test_predict_rfc(train_df, test_df)\n",
    "    \n",
    "    #combine\n",
    "    preds_train = combine_preds(preds_train, tr_preds, \"State\")\n",
    "    preds_test = combine_preds(preds_test, te_preds, \"State\")\n",
    "    \n",
    "    return preds_train, preds_test"
   ]
  },
  {
   "cell_type": "code",
   "execution_count": 32,
   "metadata": {
    "collapsed": true
   },
   "outputs": [],
   "source": [
    "def city_clf(train_df,test_df, preds_train, preds_test):\n",
    "    train_df = changeIob(train_df,\"City\")\n",
    "    test_df = changeIob(test_df,\"City\")\n",
    "    tr_preds,te_preds = train_test_predict_rfc(train_df, test_df)\n",
    "    \n",
    "    #combine\n",
    "    preds_train = combine_preds(preds_train, tr_preds, \"City\")\n",
    "    preds_test = combine_preds(preds_test, te_preds, \"City\")\n",
    "    \n",
    "    return preds_train, preds_test"
   ]
  },
  {
   "cell_type": "code",
   "execution_count": 52,
   "metadata": {
    "collapsed": true
   },
   "outputs": [],
   "source": [
    "def zone_clf(train_df,test_df, preds_train, preds_test, scores=False, importance=False):\n",
    "    train_df = changeIob(train_df,\"Zone\")\n",
    "    test_df = changeIob(test_df,\"Zone\")\n",
    "    tr_preds,te_preds = train_test_predict_rfc(train_df, test_df, scores=scores, importance=importance)\n",
    "    \n",
    "    #combine\n",
    "    preds_train = combine_preds(preds_train, tr_preds, \"Zone\")\n",
    "    preds_test = combine_preds(preds_test, te_preds, \"Zone\")\n",
    "    \n",
    "    return preds_train, preds_test"
   ]
  },
  {
   "cell_type": "code",
   "execution_count": 55,
   "metadata": {
    "collapsed": true
   },
   "outputs": [],
   "source": [
    "def col_clf(train_df,test_df, preds_train, preds_test, scores=False, importance=False):\n",
    "    train_df = changeIob(train_df,\"Col\")\n",
    "    test_df = changeIob(test_df,\"Col\")\n",
    "    tr_preds,te_preds = train_test_predict_rfc(train_df, test_df, scores=scores, importance=importance)\n",
    "    \n",
    "    #combine\n",
    "    preds_train = combine_preds(preds_train, tr_preds, \"Col\")\n",
    "    preds_test = combine_preds(preds_test, te_preds, \"Col\")\n",
    "    \n",
    "    return preds_train, preds_test"
   ]
  },
  {
   "cell_type": "code",
   "execution_count": 56,
   "metadata": {
    "collapsed": true
   },
   "outputs": [],
   "source": [
    "def bar_clf(train_df,test_df, preds_train, preds_test, scores=False, importance=False):\n",
    "    train_df = changeIob(train_df,\"Bar\")\n",
    "    test_df = changeIob(test_df,\"Bar\")\n",
    "    tr_preds,te_preds = train_test_predict_rfc(train_df, test_df, scores=scores, importance=importance)\n",
    "    \n",
    "    #combine\n",
    "    preds_train = combine_preds(preds_train, tr_preds, \"Bar\")\n",
    "    preds_test = combine_preds(preds_test, te_preds, \"Bar\")\n",
    "    \n",
    "    return preds_train, preds_test"
   ]
  },
  {
   "cell_type": "markdown",
   "metadata": {},
   "source": [
    "# Validate"
   ]
  },
  {
   "cell_type": "code",
   "execution_count": 68,
   "metadata": {
    "collapsed": true
   },
   "outputs": [],
   "source": [
    "train_df = pd.read_csv(\"../files/ner_features_train.csv\")\n",
    "test_df = pd.read_csv(\"../files/ner_features_test.csv\")"
   ]
  },
  {
   "cell_type": "code",
   "execution_count": 69,
   "metadata": {
    "collapsed": true
   },
   "outputs": [],
   "source": [
    "preds_train = [\"O\" for i in range(train_df.shape[0])]\n",
    "preds_test = [\"O\" for i in range(test_df.shape[0])]"
   ]
  },
  {
   "cell_type": "code",
   "execution_count": 70,
   "metadata": {
    "collapsed": false
   },
   "outputs": [
    {
     "name": "stdout",
     "output_type": "stream",
     "text": [
      "Fitting 5 folds for each of 1 candidates, totalling 5 fits\n"
     ]
    },
    {
     "name": "stderr",
     "output_type": "stream",
     "text": [
      "/Users/alextabora/anaconda/lib/python2.7/site-packages/sklearn/metrics/classification.py:1113: UndefinedMetricWarning: F-score is ill-defined and being set to 0.0 in labels with no predicted samples.\n",
      "  'precision', 'predicted', average, warn_for)\n",
      "[Parallel(n_jobs=4)]: Done   5 out of   5 | elapsed:   21.1s finished\n"
     ]
    },
    {
     "name": "stdout",
     "output_type": "stream",
     "text": [
      "Fitting 5 folds for each of 1 candidates, totalling 5 fits\n"
     ]
    },
    {
     "name": "stderr",
     "output_type": "stream",
     "text": [
      "[Parallel(n_jobs=4)]: Done   5 out of   5 | elapsed:   38.1s finished\n"
     ]
    },
    {
     "name": "stdout",
     "output_type": "stream",
     "text": [
      "Fitting 5 folds for each of 1 candidates, totalling 5 fits\n"
     ]
    },
    {
     "name": "stderr",
     "output_type": "stream",
     "text": [
      "[Parallel(n_jobs=4)]: Done   5 out of   5 | elapsed:   39.8s finished\n"
     ]
    },
    {
     "name": "stdout",
     "output_type": "stream",
     "text": [
      "Fitting 5 folds for each of 1 candidates, totalling 5 fits\n"
     ]
    },
    {
     "name": "stderr",
     "output_type": "stream",
     "text": [
      "[Parallel(n_jobs=4)]: Done   5 out of   5 | elapsed:   40.0s finished\n"
     ]
    },
    {
     "name": "stdout",
     "output_type": "stream",
     "text": [
      "Fitting 5 folds for each of 1 candidates, totalling 5 fits\n"
     ]
    },
    {
     "name": "stderr",
     "output_type": "stream",
     "text": [
      "[Parallel(n_jobs=4)]: Done   5 out of   5 | elapsed:   42.6s finished\n"
     ]
    },
    {
     "name": "stdout",
     "output_type": "stream",
     "text": [
      "Fitting 5 folds for each of 1 candidates, totalling 5 fits\n"
     ]
    },
    {
     "name": "stderr",
     "output_type": "stream",
     "text": [
      "[Parallel(n_jobs=4)]: Done   5 out of   5 | elapsed:   15.1s finished\n"
     ]
    }
   ],
   "source": [
    "preds_train, preds_test = country_clf(train_df,test_df, preds_train, preds_test)\n",
    "preds_train, preds_test = state_clf(train_df,test_df, preds_train, preds_test)\n",
    "preds_train, preds_test = city_clf(train_df,test_df, preds_train, preds_test)\n",
    "preds_train, preds_test = zone_clf(train_df,test_df, preds_train, preds_test)\n",
    "preds_train, preds_test = col_clf(train_df,test_df, preds_train, preds_test)\n",
    "preds_train, preds_test = bar_clf(train_df,test_df, preds_train, preds_test)"
   ]
  },
  {
   "cell_type": "code",
   "execution_count": 66,
   "metadata": {
    "collapsed": true
   },
   "outputs": [
    {
     "name": "stdout",
     "output_type": "stream",
     "text": [
      "Fitting 5 folds for each of 1 candidates, totalling 5 fits\n"
     ]
    },
    {
     "name": "stderr",
     "output_type": "stream",
     "text": [
      "[Parallel(n_jobs=4)]: Done   5 out of   5 | elapsed:   26.0s finished\n"
     ]
    },
    {
     "name": "stdout",
     "output_type": "stream",
     "text": [
      "0.131773353424\n",
      "{'max_features': 0.3, 'min_samples_split': 4, 'n_estimators': 200, 'max_depth': 20}\n",
      "[ 0.75976917]\n",
      "[ 0.13177335]\n",
      "- Train Results -\n",
      "             precision    recall  f1-score   support\n",
      "\n",
      "          0       1.00      0.59      0.75       111\n",
      "          1       1.00      0.62      0.77       129\n",
      "\n",
      "avg / total       1.00      0.61      0.76       240\n",
      "\n",
      "- Test Results -\n",
      "             precision    recall  f1-score   support\n",
      "\n",
      "          0       0.75      0.10      0.18        30\n",
      "          1       0.60      0.08      0.15        36\n",
      "\n",
      "avg / total       0.67      0.09      0.16        66\n",
      "\n",
      "    importance                names\n",
      "0     0.154271                  pos\n",
      "26    0.149759            sent_size\n",
      "6     0.102140                 size\n",
      "11    0.098900               next_2\n",
      "10    0.072937               next_1\n",
      "9     0.065161               prev_2\n",
      "8     0.060169               prev_1\n",
      "16    0.039615         triggerzone1\n",
      "1     0.036789              pos_tag\n",
      "17    0.035547         triggerzone2\n",
      "2     0.034669                upper\n",
      "7     0.027646           first_sent\n",
      "3     0.022037          upper_prev1\n",
      "25    0.019713            trigger_2\n",
      "24    0.018325            trigger_1\n",
      "4     0.017445          upper_next1\n",
      "30    0.012396           in_gazette\n",
      "22    0.009588  triggerresidencial1\n",
      "29    0.008802              in_City\n",
      "5     0.003473                first\n",
      "23    0.003451  triggerresidencial2\n",
      "18    0.002349      triggercolonia1\n",
      "27    0.001438           in_Country\n",
      "19    0.001208      triggercolonia2\n",
      "28    0.000679             in_State\n",
      "15    0.000463         triggercity2\n",
      "14    0.000440         triggercity1\n",
      "21    0.000435       triggerbarrio2\n",
      "20    0.000137       triggerbarrio1\n",
      "13    0.000011        triggerstate2\n",
      "12    0.000009        triggerstate1\n"
     ]
    }
   ],
   "source": [
    "preds_train, preds_test = zone_clf(train_df,test_df, preds_train, preds_test,scores=True,importance=True)"
   ]
  },
  {
   "cell_type": "markdown",
   "metadata": {},
   "source": [
    "# Entity Scores"
   ]
  },
  {
   "cell_type": "code",
   "execution_count": 81,
   "metadata": {
    "collapsed": false
   },
   "outputs": [
    {
     "name": "stdout",
     "output_type": "stream",
     "text": [
      "--Train\n",
      "(  geo_type  precision    recall    fscore  support\n",
      "0  Country   0.979452  0.953333  0.966216      150\n",
      "1    State   0.977941  0.869281  0.920415      153\n",
      "2     City   0.941799  0.870416  0.904701      409\n",
      "3     Zone   0.720588  0.441441  0.547486      111\n",
      "4      Col   0.717949  0.617647  0.664032      136\n",
      "5      Bar   0.952381  0.909091  0.930233       22, 0.8433467888927045)\n",
      "--Test\n",
      "(  geo_type  precision    recall    fscore  support\n",
      "0  Country   0.971429  0.894737  0.931507       38\n",
      "1    State   0.878788  0.743590  0.805556       39\n",
      "2     City   0.806818  0.689320  0.743455      103\n",
      "3     Zone   0.600000  0.100000  0.171429       30\n",
      "4      Col   0.652174  0.416667  0.508475       36\n",
      "5      Bar   1.000000  0.666667  0.800000        6, 0.681102321665181)\n"
     ]
    }
   ],
   "source": [
    "final_train = train_df.copy()\n",
    "final_test = test_df.copy()\n",
    "\n",
    "final_train.loc[:,\"pred\"] = preds_train\n",
    "final_test.loc[:,\"pred\"] = preds_test\n",
    "\n",
    "#Train\n",
    "print \"--Train\"\n",
    "true_entities = extract_entities(final_train, \"iob_tag\")\n",
    "pred_entities = extract_entities(final_train, \"pred\")\n",
    "print score_entities(true_entities, pred_entities)\n",
    "\n",
    "#Train\n",
    "print \"--Test\"\n",
    "true_entities = extract_entities(final_test, \"iob_tag\")\n",
    "pred_entities = extract_entities(final_test, \"pred\")\n",
    "print score_entities(true_entities, pred_entities)\n"
   ]
  },
  {
   "cell_type": "code",
   "execution_count": null,
   "metadata": {
    "collapsed": true
   },
   "outputs": [],
   "source": [
    "# --Train\n",
    "# (  geo_type  precision    recall    fscore  support\n",
    "# 0  Country   0.979452  0.953333  0.966216      150\n",
    "# 1    State   0.977941  0.869281  0.920415      153\n",
    "# 2     City   0.941799  0.870416  0.904701      409\n",
    "# 3     Zone   0.720588  0.441441  0.547486      111\n",
    "# 4      Col   0.717949  0.617647  0.664032      136\n",
    "# 5      Bar   0.952381  0.909091  0.930233       22, 0.8433467888927045)\n",
    "# --Test\n",
    "# (  geo_type  precision    recall    fscore  support\n",
    "# 0  Country   0.971429  0.894737  0.931507       38\n",
    "# 1    State   0.878788  0.743590  0.805556       39\n",
    "# 2     City   0.806818  0.689320  0.743455      103\n",
    "# 3     Zone   0.600000  0.100000  0.171429       30\n",
    "# 4      Col   0.652174  0.416667  0.508475       36\n",
    "# 5      Bar   1.000000  0.666667  0.800000        6, 0.681102321665181)"
   ]
  },
  {
   "cell_type": "markdown",
   "metadata": {},
   "source": [
    "# NEXT STEPS:\n",
    "- GEt better scores for ZONE COL and BAR"
   ]
  },
  {
   "cell_type": "code",
   "execution_count": 79,
   "metadata": {
    "collapsed": false
   },
   "outputs": [
    {
     "data": {
      "text/plain": [
       "0.6028408333333334"
      ]
     },
     "execution_count": 79,
     "metadata": {},
     "output_type": "execute_result"
    }
   ],
   "source": [
    "results = [\n",
    "    [0.931507,38],\n",
    "    [0.794521,39],\n",
    "    [0.715789,103],\n",
    "    [0.062500,30],\n",
    "    [0.275862,36],\n",
    "    [0.000001,6],\n",
    "]\n",
    "\n",
    "num = sum([x[1] for x in results])\n",
    "sum([x[0]*(x[1]*1.0/num) for x in results])\n"
   ]
  },
  {
   "cell_type": "code",
   "execution_count": 75,
   "metadata": {
    "collapsed": false
   },
   "outputs": [
    {
     "data": {
      "text/plain": [
       "981"
      ]
     },
     "execution_count": 75,
     "metadata": {},
     "output_type": "execute_result"
    }
   ],
   "source": []
  },
  {
   "cell_type": "code",
   "execution_count": null,
   "metadata": {
    "collapsed": true
   },
   "outputs": [],
   "source": []
  }
 ],
 "metadata": {
  "anaconda-cloud": {},
  "kernelspec": {
   "display_name": "Python [conda root]",
   "language": "python",
   "name": "conda-root-py"
  },
  "language_info": {
   "codemirror_mode": {
    "name": "ipython",
    "version": 2
   },
   "file_extension": ".py",
   "mimetype": "text/x-python",
   "name": "python",
   "nbconvert_exporter": "python",
   "pygments_lexer": "ipython2",
   "version": "2.7.12"
  }
 },
 "nbformat": 4,
 "nbformat_minor": 1
}
