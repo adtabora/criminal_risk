{
 "cells": [
  {
   "cell_type": "code",
   "execution_count": 1,
   "metadata": {
    "collapsed": true
   },
   "outputs": [],
   "source": [
    "import urllib2\n",
    "import json\n",
    "import requests\n",
    "import math as math\n",
    "import bs4 #beautiful soup\n",
    "\n",
    "from datetime import datetime\n",
    "import pandas as pd\n",
    "import numpy as np"
   ]
  },
  {
   "cell_type": "markdown",
   "metadata": {},
   "source": [
    "# Data extraction\n",
    "\n",
    "- Extract Location\n",
    "- Extract type of event\n",
    "- Extract Date of event"
   ]
  },
  {
   "cell_type": "code",
   "execution_count": 48,
   "metadata": {
    "collapsed": false
   },
   "outputs": [
    {
     "name": "stdout",
     "output_type": "stream",
     "text": [
      "(999, 4)\n",
      "(999, 5)\n"
     ]
    }
   ],
   "source": [
    "links = pd.read_csv(\"./files/links.csv\")\n",
    "print links.shape\n",
    "articles = pd.read_csv(\"./files/articles.csv\")\n",
    "print articles.shape"
   ]
  },
  {
   "cell_type": "markdown",
   "metadata": {},
   "source": [
    "## Simple data cleaning\n",
    "### 1. Date"
   ]
  },
  {
   "cell_type": "code",
   "execution_count": 49,
   "metadata": {
    "collapsed": false
   },
   "outputs": [
    {
     "data": {
      "text/html": [
       "<div>\n",
       "<table border=\"1\" class=\"dataframe\">\n",
       "  <thead>\n",
       "    <tr style=\"text-align: right;\">\n",
       "      <th></th>\n",
       "      <th>id</th>\n",
       "      <th>date</th>\n",
       "      <th>title</th>\n",
       "      <th>content</th>\n",
       "      <th>tags</th>\n",
       "    </tr>\n",
       "  </thead>\n",
       "  <tbody>\n",
       "    <tr>\n",
       "      <th>0</th>\n",
       "      <td>post-80480</td>\n",
       "      <td>2009-12-28 19:27:00</td>\n",
       "      <td>Auditoría revela irregularidades en el Parlacen</td>\n",
       "      <td>&lt;div class=\"article-post-content\"&gt;&lt;p&gt;&lt;strong&gt;&lt;...</td>\n",
       "      <td>None</td>\n",
       "    </tr>\n",
       "    <tr>\n",
       "      <th>1</th>\n",
       "      <td>post-80485</td>\n",
       "      <td>2009-12-28 19:32:00</td>\n",
       "      <td>Suspendidas las citas en Hospital Escuela</td>\n",
       "      <td>&lt;div class=\"article-post-content\"&gt;&lt;p&gt;&lt;strong&gt;&lt;...</td>\n",
       "      <td>None</td>\n",
       "    </tr>\n",
       "  </tbody>\n",
       "</table>\n",
       "</div>"
      ],
      "text/plain": [
       "           id                date  \\\n",
       "0  post-80480 2009-12-28 19:27:00   \n",
       "1  post-80485 2009-12-28 19:32:00   \n",
       "\n",
       "                                             title  \\\n",
       "0  Auditoría revela irregularidades en el Parlacen   \n",
       "1        Suspendidas las citas en Hospital Escuela   \n",
       "\n",
       "                                             content  tags  \n",
       "0  <div class=\"article-post-content\"><p><strong><...  None  \n",
       "1  <div class=\"article-post-content\"><p><strong><...  None  "
      ]
     },
     "execution_count": 49,
     "metadata": {},
     "output_type": "execute_result"
    }
   ],
   "source": [
    "import re\n",
    "\n",
    "#replace function\n",
    "def replace_all(text, rep_map):   \n",
    "    escape_str = '|'.join(re.escape(key) for key in rep_map.keys())\n",
    "    rep_func =  lambda x: rep_map[x.group(0)]\n",
    "    \n",
    "    return re.sub( escape_str, rep_func, text)  \n",
    "\n",
    "#Format Config\n",
    "date_format =  \"%d %b, %Y - %I:%M %p\"  \n",
    "months_es = {\n",
    "    \"Ene\": \"Jan\",\n",
    "    \"Mar\": \"Mar\",\n",
    "    \"Dic\": \"Dec\"\n",
    "}\n",
    "\n",
    "#Format date, convert from spanish to english and to a datetime object\n",
    "articles.loc[:,\"date\"] = articles.date.apply(lambda x: replace_all(x, months_es) )\n",
    "articles.loc[:,\"date\"] = articles.date.apply(lambda x: datetime.strptime(x, date_format))\n",
    "\n",
    "\n",
    "articles.head(2)"
   ]
  },
  {
   "cell_type": "markdown",
   "metadata": {},
   "source": [
    "#### How many dates?"
   ]
  },
  {
   "cell_type": "code",
   "execution_count": 80,
   "metadata": {
    "collapsed": false
   },
   "outputs": [
    {
     "name": "stdout",
     "output_type": "stream",
     "text": [
      "2009-12-28\n",
      "2009-12-29\n",
      "2009-12-30\n",
      "2009-12-31\n",
      "2014-03-01\n",
      "2014-03-02\n",
      "2014-03-03\n",
      "2014-03-04\n",
      "2014-03-05\n",
      "2014-03-06\n"
     ]
    }
   ],
   "source": [
    "for d in articles.date.dt.date.unique():\n",
    "    print d"
   ]
  },
  {
   "cell_type": "markdown",
   "metadata": {},
   "source": [
    "#### How many articles per date"
   ]
  },
  {
   "cell_type": "code",
   "execution_count": 81,
   "metadata": {
    "collapsed": false
   },
   "outputs": [
    {
     "data": {
      "text/plain": [
       "2014-03-05    178\n",
       "2014-03-04    169\n",
       "2014-03-03    161\n",
       "2014-03-02    145\n",
       "2014-03-01    144\n",
       "2014-03-06    138\n",
       "2009-12-30     24\n",
       "2009-12-29     24\n",
       "2009-12-31     12\n",
       "2009-12-28      4\n",
       "Name: date, dtype: int64"
      ]
     },
     "execution_count": 81,
     "metadata": {},
     "output_type": "execute_result"
    }
   ],
   "source": [
    "articles.date.dt.date.value_counts()"
   ]
  },
  {
   "cell_type": "markdown",
   "metadata": {},
   "source": [
    "### 2. id"
   ]
  },
  {
   "cell_type": "code",
   "execution_count": 55,
   "metadata": {
    "collapsed": false
   },
   "outputs": [
    {
     "data": {
      "text/html": [
       "<div>\n",
       "<table border=\"1\" class=\"dataframe\">\n",
       "  <thead>\n",
       "    <tr style=\"text-align: right;\">\n",
       "      <th></th>\n",
       "      <th>id</th>\n",
       "      <th>date</th>\n",
       "      <th>title</th>\n",
       "      <th>content</th>\n",
       "      <th>tags</th>\n",
       "    </tr>\n",
       "  </thead>\n",
       "  <tbody>\n",
       "    <tr>\n",
       "      <th>0</th>\n",
       "      <td>80480</td>\n",
       "      <td>2009-12-28 19:27:00</td>\n",
       "      <td>Auditoría revela irregularidades en el Parlacen</td>\n",
       "      <td>&lt;div class=\"article-post-content\"&gt;&lt;p&gt;&lt;strong&gt;&lt;...</td>\n",
       "      <td>None</td>\n",
       "    </tr>\n",
       "    <tr>\n",
       "      <th>1</th>\n",
       "      <td>80485</td>\n",
       "      <td>2009-12-28 19:32:00</td>\n",
       "      <td>Suspendidas las citas en Hospital Escuela</td>\n",
       "      <td>&lt;div class=\"article-post-content\"&gt;&lt;p&gt;&lt;strong&gt;&lt;...</td>\n",
       "      <td>None</td>\n",
       "    </tr>\n",
       "  </tbody>\n",
       "</table>\n",
       "</div>"
      ],
      "text/plain": [
       "      id                date                                            title  \\\n",
       "0  80480 2009-12-28 19:27:00  Auditoría revela irregularidades en el Parlacen   \n",
       "1  80485 2009-12-28 19:32:00        Suspendidas las citas en Hospital Escuela   \n",
       "\n",
       "                                             content  tags  \n",
       "0  <div class=\"article-post-content\"><p><strong><...  None  \n",
       "1  <div class=\"article-post-content\"><p><strong><...  None  "
      ]
     },
     "execution_count": 55,
     "metadata": {},
     "output_type": "execute_result"
    }
   ],
   "source": [
    "articles[\"id\"] = articles[\"id\"].apply(lambda x: x[5:])\n",
    "articles.head(2)"
   ]
  },
  {
   "cell_type": "markdown",
   "metadata": {},
   "source": [
    "### 3. title ( does it has duplicates? )"
   ]
  },
  {
   "cell_type": "code",
   "execution_count": 65,
   "metadata": {
    "collapsed": false
   },
   "outputs": [
    {
     "name": "stdout",
     "output_type": "stream",
     "text": [
      "119                                           CAFETEANDO\n",
      "234                                       TRIBUNITO DICE\n",
      "360                                           PILDORITAS\n",
      "395                                       TRIBUNITO DICE\n",
      "526                                           PILDORITAS\n",
      "549                                       TRIBUNITO DICE\n",
      "572                                           CAFETEANDO\n",
      "708                                           Exposición\n",
      "711                                           Exposición\n",
      "712                                           PILDORITAS\n",
      "739                                       TRIBUNITO DICE\n",
      "881                                                 Cine\n",
      "902                                           PILDORITAS\n",
      "903                                       TRIBUNITO DICE\n",
      "927    Oficialista Araya se retira de la contienda po...\n",
      "Name: title, dtype: object\n"
     ]
    }
   ],
   "source": [
    "print articles[articles.title.duplicated()].title"
   ]
  },
  {
   "cell_type": "code",
   "execution_count": 67,
   "metadata": {
    "collapsed": false
   },
   "outputs": [
    {
     "data": {
      "text/html": [
       "<div>\n",
       "<table border=\"1\" class=\"dataframe\">\n",
       "  <thead>\n",
       "    <tr style=\"text-align: right;\">\n",
       "      <th></th>\n",
       "      <th>id</th>\n",
       "      <th>date</th>\n",
       "      <th>title</th>\n",
       "      <th>content</th>\n",
       "      <th>tags</th>\n",
       "    </tr>\n",
       "  </thead>\n",
       "  <tbody>\n",
       "    <tr>\n",
       "      <th>802</th>\n",
       "      <td>11444303</td>\n",
       "      <td>2014-03-05 14:13:00</td>\n",
       "      <td>Oficialista Araya se retira de la contienda po...</td>\n",
       "      <td>&lt;div class=\"article-post-content\"&gt;&lt;p&gt;&lt;em&gt;&lt;stro...</td>\n",
       "      <td>None</td>\n",
       "    </tr>\n",
       "    <tr>\n",
       "      <th>927</th>\n",
       "      <td>11444561</td>\n",
       "      <td>2014-03-06 01:10:00</td>\n",
       "      <td>Oficialista Araya se retira de la contienda po...</td>\n",
       "      <td>&lt;div class=\"article-post-content\"&gt;&lt;p&gt;&lt;em&gt;&lt;stro...</td>\n",
       "      <td>None</td>\n",
       "    </tr>\n",
       "  </tbody>\n",
       "</table>\n",
       "</div>"
      ],
      "text/plain": [
       "           id                date  \\\n",
       "802  11444303 2014-03-05 14:13:00   \n",
       "927  11444561 2014-03-06 01:10:00   \n",
       "\n",
       "                                                 title  \\\n",
       "802  Oficialista Araya se retira de la contienda po...   \n",
       "927  Oficialista Araya se retira de la contienda po...   \n",
       "\n",
       "                                               content  tags  \n",
       "802  <div class=\"article-post-content\"><p><em><stro...  None  \n",
       "927  <div class=\"article-post-content\"><p><em><stro...  None  "
      ]
     },
     "execution_count": 67,
     "metadata": {},
     "output_type": "execute_result"
    }
   ],
   "source": [
    "# articles.loc[927].title\n",
    "articles[articles[\"title\"]== 'Oficialista Araya se retira de la contienda por la Presidencia de Costa Rica']"
   ]
  },
  {
   "cell_type": "markdown",
   "metadata": {},
   "source": [
    "### 3. content (to clean or not to clean? )\n",
    "\n",
    "Explore the content to see if there is some useful information with the tags"
   ]
  },
  {
   "cell_type": "markdown",
   "metadata": {},
   "source": [
    "#### Clean the html tags"
   ]
  },
  {
   "cell_type": "code",
   "execution_count": 88,
   "metadata": {
    "collapsed": false
   },
   "outputs": [
    {
     "name": "stdout",
     "output_type": "stream",
     "text": [
      "<div class=\"article-post-content\"><p><em><strong>La Paz, (EFE).-</strong></em> Un grupo de jóvenes que había sido detenido por mal comportamiento en la ciudad boliviana de Santa Cruz aprovechó un descuido de los agentes para desvalijar la comisaría y fugarse, informaron hoy fuentes policiales.</p>\n",
      "<p>La policía arrestó el miércoles a un grupo de seis adolescentes al considerar que cometían la infracción de “ocio y mal entretenimiento”, que supone participar en riñas y peleas, y estos, al verse solos en la comisaría, aprovecharon para robar un ordenador y huir, según la edición digital del diario cruceño El Día.</p>\n",
      "<p>El comandante de la policía del barrio Plan Tres Mil, coronel Freddy Meneses, “trató de minimizar el hecho”, pero después ordenó que su personal allanara domicilios para recuperar lo robado, indicó el citado medio.</p>\n",
      "<p>Los policías volvieron a arrestar a tres de los seis prófugos y recuperaron un ordenador empleado por la comisaría para registrar denuncias.</p>\n",
      "<p>Los tres menores detenidos comparecerán en las próximas horas ante un juez del menor acusados de “robo menor” en la comisaria, que tiene una modesta y precaria infraestructura. <strong>EFE</strong></p>\n",
      "</div>\n",
      "-------------------------------------\n",
      "La Paz, (EFE).- Un grupo de jóvenes que había sido detenido por mal comportamiento en la ciudad boliviana de Santa Cruz aprovechó un descuido de los agentes para desvalijar la comisaría y fugarse, informaron hoy fuentes policiales.\n",
      "La policía arrestó el miércoles a un grupo de seis adolescentes al considerar que cometían la infracción de “ocio y mal entretenimiento”, que supone participar en riñas y peleas, y estos, al verse solos en la comisaría, aprovecharon para robar un ordenador y huir, según la edición digital del diario cruceño El Día.\n",
      "El comandante de la policía del barrio Plan Tres Mil, coronel Freddy Meneses, “trató de minimizar el hecho”, pero después ordenó que su personal allanara domicilios para recuperar lo robado, indicó el citado medio.\n",
      "Los policías volvieron a arrestar a tres de los seis prófugos y recuperaron un ordenador empleado por la comisaría para registrar denuncias.\n",
      "Los tres menores detenidos comparecerán en las próximas horas ante un juez del menor acusados de “robo menor” en la comisaria, que tiene una modesta y precaria infraestructura. EFE\n",
      "\n",
      "=====================================\n",
      "<div class=\"article-post-content\"><p>El miembro de la Junta Directiva del Instituto Hondureño de Seguridad Social (IHSS), Benjamín Bográn, aclaró hoy jueves, que no sabe de donde salieron los 20 mil lempiras de las dietas, y que estas sólo consistían en tres mil lempiras.</p>\n",
      "<div class=\"wp-caption alignleft\" id=\"attachment_11444780\" style=\"width: 260px\"><img alt=\"Benjamín Bográn\" class=\"size-full wp-image-11444780\" height=\"250\" src=\"http://cdn.latribuna.hn/wp-content/uploads/2014/03/BENJAMIN-BOGRAN1.jpg\" width=\"250\"/><p class=\"wp-caption-text\">Benjamín Bográn</p></div>\n",
      "<p>Reiteró, “no sé de dónde sacaron ese dato, porque no he recibido esa cantidad. Se realizaba una sesión mensual; hubo un momento cuando el IHSS presentaba una crisis, que se ejecutaron varias reuniones semanales”.</p>\n",
      "<p>Añadió que “el Seguro Social está en crisis, habrá que buscar las causas de esta problemática, habrá que determinar si hay actos de corrupción, y quienes son los responsables”.</p>\n",
      "<p>Pero como decía la coordinadora de la Comisión Interventora, Vilma Morales, cada quien debe asumir sus responsabilidades, “todos teníamos el sueño; yo tenía ese ideal cuando fui miembro de la Junta, que los empleados de la institución tuvieran acceso a mejor calidad de medicinas”.</p>\n",
      "</div>\n",
      "-------------------------------------\n",
      "El miembro de la Junta Directiva del Instituto Hondureño de Seguridad Social (IHSS), Benjamín Bográn, aclaró hoy jueves, que no sabe de donde salieron los 20 mil lempiras de las dietas, y que estas sólo consistían en tres mil lempiras.\n",
      "Benjamín Bográn\n",
      "Reiteró, “no sé de dónde sacaron ese dato, porque no he recibido esa cantidad. Se realizaba una sesión mensual; hubo un momento cuando el IHSS presentaba una crisis, que se ejecutaron varias reuniones semanales”.\n",
      "Añadió que “el Seguro Social está en crisis, habrá que buscar las causas de esta problemática, habrá que determinar si hay actos de corrupción, y quienes son los responsables”.\n",
      "Pero como decía la coordinadora de la Comisión Interventora, Vilma Morales, cada quien debe asumir sus responsabilidades, “todos teníamos el sueño; yo tenía ese ideal cuando fui miembro de la Junta, que los empleados de la institución tuvieran acceso a mejor calidad de medicinas”.\n",
      "\n",
      "=====================================\n"
     ]
    }
   ],
   "source": [
    "for content in articles.content.tail(2).values:\n",
    "    print content\n",
    "    soup = bs4.BeautifulSoup(content, 'html.parser')\n",
    "    print \"-------------------------------------\"\n",
    "    print soup.get_text()\n",
    "    print \"=====================================\"\n",
    "    "
   ]
  },
  {
   "cell_type": "markdown",
   "metadata": {},
   "source": [
    "#### Extract all strong"
   ]
  },
  {
   "cell_type": "code",
   "execution_count": 98,
   "metadata": {
    "collapsed": false
   },
   "outputs": [
    {
     "name": "stdout",
     "output_type": "stream",
     "text": [
      "- STRONG\n",
      "[u'S\\xcdDNEY (AFP). \\u2013']\n",
      "- EM\n",
      "[]\n",
      "- STRONG\n",
      "[u'KIEV (AFP). \\u2013', u'REFUERZOS']\n",
      "- EM\n",
      "[]\n",
      "- STRONG\n",
      "[]\n",
      "- EM\n",
      "[]\n",
      "- STRONG\n",
      "[]\n",
      "- EM\n",
      "[]\n",
      "- STRONG\n",
      "[u'CHOLUTECA.']\n",
      "- EM\n",
      "[]\n",
      "- STRONG\n",
      "[]\n",
      "- EM\n",
      "[]\n",
      "- STRONG\n",
      "[u'DATOS DEL USUARIO', u'NO SE INSCRIBIR\\xc1N LOS TEL\\xc9FONOS IMPORTADOS']\n",
      "- EM\n",
      "[]\n",
      "- STRONG\n",
      "[u'Nueva York, marzo de 2014']\n",
      "- EM\n",
      "[]\n",
      "- STRONG\n",
      "[]\n",
      "- EM\n",
      "[]\n",
      "- STRONG\n",
      "[]\n",
      "- EM\n",
      "[]\n",
      "- STRONG\n",
      "[]\n",
      "- EM\n",
      "[]\n",
      "- STRONG\n",
      "[]\n",
      "- EM\n",
      "[]\n",
      "- STRONG\n",
      "[u'Por Jos\\xe9 Rub\\xe9n Mendoza', u'Economista', u'1 Napoleon Bonaparte', u'2 John Kenneth Galbraith', u'3 Admirante Arleigh A Burke']\n",
      "- EM\n",
      "[]\n",
      "- STRONG\n",
      "[]\n",
      "- EM\n",
      "[]\n",
      "- STRONG\n",
      "[u'\\u201cROCIADOS A TIROS\\u201d', u'\\u201cCONFUNDIDO\\u201d', u'SEGUNDO ATENTADO']\n",
      "- EM\n",
      "[]\n",
      "- STRONG\n",
      "[]\n",
      "- EM\n",
      "[]\n",
      "- STRONG\n",
      "[u'RIENDAS', u'ADENTRO', u'MERCANC\\xcdAS', u'OCUPADA', u'\\u201cCANDELA\\u201d', u'\\u201cCUADRILLA\\u201d', u'DESCR\\xc9DITO', u'TELEGRAMAS', u'\\u201cHUMO\\u201d', u'ESCRITURAS', u'CAMIONEROS']\n",
      "- EM\n",
      "[]\n",
      "- STRONG\n",
      "[]\n",
      "- EM\n",
      "[]\n",
      "- STRONG\n",
      "[]\n",
      "- EM\n",
      "[]\n",
      "- STRONG\n",
      "[]\n",
      "- EM\n",
      "[]\n",
      "- STRONG\n",
      "[]\n",
      "- EM\n",
      "[]\n",
      "- STRONG\n",
      "[]\n",
      "- EM\n",
      "[]\n",
      "- STRONG\n",
      "[u'Por Ricardo Romero Gonz\\xe1lez', u'Polit\\xf3logo']\n",
      "- EM\n",
      "[]\n",
      "- STRONG\n",
      "[]\n",
      "- EM\n",
      "[]\n",
      "- STRONG\n",
      "[]\n",
      "- EM\n",
      "[]\n",
      "- STRONG\n",
      "[]\n",
      "- EM\n",
      "[]\n",
      "- STRONG\n",
      "[]\n",
      "- EM\n",
      "[]\n",
      "- STRONG\n",
      "[]\n",
      "- EM\n",
      "[]\n",
      "- STRONG\n",
      "[]\n",
      "- EM\n",
      "[]\n",
      "- STRONG\n",
      "[u'LAS']\n",
      "- EM\n",
      "[]\n",
      "- STRONG\n",
      "[]\n",
      "- EM\n",
      "[]\n",
      "- STRONG\n",
      "[u'Por Juan Ram\\xf3n Mart\\xednez']\n",
      "- EM\n",
      "[]\n",
      "- STRONG\n",
      "[]\n",
      "- EM\n",
      "[]\n",
      "- STRONG\n",
      "[]\n",
      "- EM\n",
      "[]\n",
      "- STRONG\n",
      "[]\n",
      "- EM\n",
      "[]\n",
      "- STRONG\n",
      "[]\n",
      "- EM\n",
      "[]\n",
      "- STRONG\n",
      "[]\n",
      "- EM\n",
      "[]\n",
      "- STRONG\n",
      "[]\n",
      "- EM\n",
      "[]\n",
      "- STRONG\n",
      "[]\n",
      "- EM\n",
      "[]\n",
      "- STRONG\n",
      "[]\n",
      "- EM\n",
      "[]\n",
      "- STRONG\n",
      "[]\n",
      "- EM\n",
      "[]\n"
     ]
    }
   ],
   "source": [
    "\n",
    "for content in articles.content.loc[ 510:550].values:\n",
    "    soup = bs4.BeautifulSoup(content, 'html.parser')\n",
    "    \n",
    "    #prints all strong\n",
    "    print \"- STRONG\"\n",
    "    print [ x.get_text() for x in  soup.findAll('strong') ]\n",
    "    \n",
    "    #prints all em\n",
    "    print \"- EM\"\n",
    "    print [ x.get_text() for x in soup.findAll('em')]\n",
    "    \n",
    "    "
   ]
  },
  {
   "cell_type": "code",
   "execution_count": 101,
   "metadata": {
    "collapsed": false
   },
   "outputs": [
    {
     "data": {
      "text/plain": [
       "'<div class=\"article-post-content\"><p><strong>CHOLUTECA.</strong> El coordinador del Comit\\xc3\\xa9 de Emergencia Municipal (Codem) de Choluteca, Nelson Ord\\xc3\\xb3\\xc3\\xb1ez, aval\\xc3\\xb3 los informes del Servicio Meteorol\\xc3\\xb3gico Nacional (SMN) del intenso verano y por ende de la sequ\\xc3\\xada en la zona sur.</p>\\n<p>Ord\\xc3\\xb3\\xc3\\xb1ez dijo que ya se est\\xc3\\xa1 observando la sequ\\xc3\\xada en la regi\\xc3\\xb3n sur, por lo que est\\xc3\\xa1n programando actividades, especialmente en las zonas altas del municipio para contrarrestar los efectos y trabajar mediante convenios con organismos no gubernamentales.</p>\\n<p>El funcionario manifest\\xc3\\xb3 que dialogar\\xc3\\xa1 con personeros del Programa Mundial de Alimentos (PMA) para ver qu\\xc3\\xa9 actividades de ayuda se podr\\xc3\\xa1n llevar a pobladores de comunidades afectadas por la sequ\\xc3\\xada.</p>\\n<p>Al tiempo dijo que coordinar\\xc3\\xa1 trabajos con autoridades regionales de la Comisi\\xc3\\xb3n Permanente de Contingencias (Copeco) y otras instituciones p\\xc3\\xbablicas y privadas.</p>\\n<p>En otro orden de temas dio a conocer las capacitaciones que se est\\xc3\\xa1 dando a los miembros de los 50 Comit\\xc3\\xa9s de Emergencia Local (Codeles) del municipio en el \\xc3\\xa1rea de conocimiento por medio de un diplomado en gesti\\xc3\\xb3n de riesgo. (LEN)</p>\\n</div>'"
      ]
     },
     "execution_count": 101,
     "metadata": {},
     "output_type": "execute_result"
    }
   ],
   "source": [
    "articles.content.loc[ 514 ]"
   ]
  },
  {
   "cell_type": "markdown",
   "metadata": {},
   "source": [
    "#### read all the articles and try to retrieve their tags"
   ]
  },
  {
   "cell_type": "code",
   "execution_count": 115,
   "metadata": {
    "collapsed": false
   },
   "outputs": [
    {
     "data": {
      "text/plain": [
       "'<div class=\"article-post-content\"><p><strong>Por: Segisfredo Infante</strong></p>\\n<p><img alt=\"segisfredo_infante_new-70\" class=\"alignleft size-full wp-image-11444639\" height=\"70\" src=\"http://cdn.latribuna.hn/wp-content/uploads/2014/03/segisfredo_infante_new-701.jpg\" width=\"70\"/>Al otro lado del planeta, y en el extremo oriental de la India, ha existido un barrio llamado, en lengua nativa, \\xe2\\x80\\x9cAnand Nagar\\xe2\\x80\\x9d, que significa Ciudad de la Alegr\\xc3\\xada. El nombre es parad\\xc3\\xb3jico porque se trata de uno de los barrios m\\xc3\\xa1s pobres y poblados de todo el orbe, en donde la miseria material y la pestilencia han predominado, en las pen\\xc3\\xbaltimas d\\xc3\\xa9cadas, hasta los extremos. Otra de las paradojas es que el poblado pertenece a la ciudad imperial de Calcuta, una de las ciudades orientales m\\xc3\\xa1s vinculadas al mundo occidental moderno, al grado que hasta los llamados \\xe2\\x80\\x9ccomunistas\\xe2\\x80\\x9d han gobernado (y desgobernado) sobre ella, con la vista gorda sobre las desgracias extremas de sus habitantes, en donde se han dado cita casi todas las nacionalidades con sus grandes religiones, con predominancia de los hind\\xc3\\xbaes, los musulmanes, los budistas y los cristianos.</p>\\n<p>Hoy que ha sido aceptada la noci\\xc3\\xb3n cient\\xc3\\xadfica de \\xe2\\x80\\x9cenfermedades raras\\xe2\\x80\\x9d, de las cuales nosotros habl\\xc3\\xa1bamos, hace unos siete a\\xc3\\xb1os, en San Marcos de la Sierra, en el occidente de Honduras, podr\\xc3\\xada elaborarse un cat\\xc3\\xa1logo de las enfermedades m\\xc3\\xa1s virulentas detectadas en la Ciudad de la Alegr\\xc3\\xada, en donde ha predominado la lepra, con una poblaci\\xc3\\xb3n singular de leprosos, tuberculosos y desnutridos, con todas las variables derivadas de la desnutrici\\xc3\\xb3n cr\\xc3\\xb3nica, a pocas cuadras del poderoso centro comercial de Calcuta. Los habitantes son campesinos pobres que se vinieron para la ciudad por causas diversas, entre ellas el viejo problema de la tenencia de la tierra, los estragos monz\\xc3\\xb3nicos, es decir clim\\xc3\\xa1ticos, y una agricultura tradicional sin ninguna asistencia t\\xc3\\xa9cnica. Ha sido una migraci\\xc3\\xb3n interna desde la miseria agraria, hacia la otra miseria urbana, con los agravantes que contiene la superpoblaci\\xc3\\xb3n en un solo punto del planeta, en donde las letrinas en vez de significar una soluci\\xc3\\xb3n constituyen un grave problema, con cuartuchos para doce personas, lodazales imposibles y exhibici\\xc3\\xb3n de heces fecales. (Hay que subrayar que hab\\xc3\\xada una letrina para cada tres mil habitantes, que hac\\xc3\\xadan cola desde las cuatro de la ma\\xc3\\xb1ana).</p>\\n<p>En un ambiente desolador y en un momento en que parec\\xc3\\xada haberse perdido la fe y la esperanza en la especie humana, llegaron unos personajes a Calcuta que empalmaron con las necesidades materiales y espirituales de los pobres y enfermos del hiper-contaminado Barrio de la Alegr\\xc3\\xada. Me refiero a la Madre Teresa; al misionero cat\\xc3\\xb3lico Paul Lambert; al comerciante ingl\\xc3\\xa9s James Stevens; y al periodista franc\\xc3\\xa9s Dominique Lapierre (incluyendo a su esposa); quienes renunciaron a todas sus peque\\xc3\\xb1as comodidades occidentales, para entregarse en cuerpo y alma a la soluci\\xc3\\xb3n de las exigencias b\\xc3\\xa1sicas de los leprosos y de sus hijos contaminados y desnutridos. Antes que ellos el sublime Mahatma Gandhi hab\\xc3\\xada llamado la atenci\\xc3\\xb3n sobre los leprosos y los \\xe2\\x80\\x9cintocables\\xe2\\x80\\x9d de la India.</p>\\n<p>Los reci\\xc3\\xa9n llegados descubrieron que a pesar de todas las calamidades inenarrables de los pobres de Calcuta, hab\\xc3\\xada sonrisas espont\\xc3\\xa1neas en los rostros de los j\\xc3\\xb3venes y los ni\\xc3\\xb1os, y un amor indoblegable por la vida y la dignidad de casi todos sus pobladores, especialmente de la parad\\xc3\\xb3jica Ciudad de la Alegr\\xc3\\xada. El convencimiento principal de Paul Lambert, es que en vez de dedicarse a la vana tarea de conseguir nuevos cristianos, era la de convivir f\\xc3\\xadsicamente, en un cuartucho, con los setenta mil habitantes de dicho Barrio y conocer a fondo el orden prioritario de sus necesidades, con lo cual se ganar\\xc3\\xada de paso la buena voluntad de los hind\\xc3\\xbaes, musulmanes y budistas, que comenzaron a ver con simpat\\xc3\\xada los ritos eucar\\xc3\\xadsticos del misionero cristiano, porque el buen Jes\\xc3\\xbas es el hermano de los pobres. Sin ninguna demagogia t\\xc3\\xa9cnica los socorristas identificaron el orden de prioridades para el salvamento de los habitantes de la Ciudad de la Alegr\\xc3\\xada: N\\xc3\\xbamero uno: el Hambre, con \\xe2\\x80\\x9cH\\xe2\\x80\\x9d may\\xc3\\xbascula. N\\xc3\\xbamero dos: Las enfermedades cr\\xc3\\xb3nicas. N\\xc3\\xbamero tres: el problema de la asistencia m\\xc3\\xa9dica. N\\xc3\\xbamero cuatro: el desempleo. N\\xc3\\xbamero cinco: la educaci\\xc3\\xb3n y los oficios concretos. N\\xc3\\xbamero seis: la urbanizaci\\xc3\\xb3n del Barrio de la Alegr\\xc3\\xada y otras zonas de Calcuta. Con ayuda occidental, especialmente francesa, han logrado salvar las vidas de miles de ni\\xc3\\xb1os leprosos y engusanados; modernizar un poco la infraestructura de los barrios pobres; y crear escuelas formales e instituciones de artes y oficios para resolver el atroz desempleo. Al grado que las autoridades de Calcuta terminaron por aceptar que el Barrio de la Alegr\\xc3\\xada era un proyecto piloto que deber\\xc3\\xada convertirse en un proyecto regional. Hoy se dice que toda Calcuta es la Ciudad de la Verdadera Alegr\\xc3\\xada.</p>\\n<p>No hay palabras para describir las miserias y pestilencias que han padecido los habitantes heroicos del Barrio de la Alegr\\xc3\\xada. Ni tampoco hay palabras apropiadas para elogiar las acciones de amor de los misioneros arriba mencionados. Lo \\xc3\\xbanico que podemos hacer es recomendar la lectura de dos libros de Dominique Lapierre (uno en r\\xc3\\xbastica y otro ilustrado) sobre este asunto espec\\xc3\\xadfico. Ser\\xc3\\xada de desear que el se\\xc3\\xb1or Lapierre se diera una vueltecita por algunos barrios de Tegucigalpa y algunos municipios extremadamente pobres del interior de Honduras. Tal vez podr\\xc3\\xada darnos \\xe2\\x80\\x9cuna manito\\xe2\\x80\\x9d.</p>\\n</div>'"
      ]
     },
     "execution_count": 115,
     "metadata": {},
     "output_type": "execute_result"
    }
   ],
   "source": [
    "articles.loc[900].content"
   ]
  },
  {
   "cell_type": "code",
   "execution_count": 134,
   "metadata": {
    "collapsed": false
   },
   "outputs": [
    {
     "data": {
      "text/plain": [
       "[u\"div[u'article-post-content']\",\n",
       " u'p',\n",
       " u'strong',\n",
       " u'em',\n",
       " u\"div[u'wp-caption', u'alignleft']\",\n",
       " u\"p[u'wp-caption-text']\",\n",
       " u'a',\n",
       " u'br',\n",
       " u\"div[u'wp-caption', u'alignright']\",\n",
       " u\"div[u'mceTemp']\",\n",
       " u'table',\n",
       " u'tbody',\n",
       " u'tr',\n",
       " u'td',\n",
       " u\"div[u'Estilo1']\",\n",
       " u'span',\n",
       " u'div',\n",
       " u\"span[u'Estilo1']\",\n",
       " u\"div[u'wp-caption', u'aligncenter']\",\n",
       " u'script',\n",
       " u\"div[u'fb-page']\",\n",
       " u\"blockquote[u'fb-xfbml-parse-ignore']\",\n",
       " u'h1',\n",
       " u'h3',\n",
       " u'center',\n",
       " u'iframe',\n",
       " u'colgroup',\n",
       " u'col']"
      ]
     },
     "execution_count": 134,
     "metadata": {},
     "output_type": "execute_result"
    }
   ],
   "source": [
    "content = articles.loc[900].content\n",
    "\n",
    "[tag for tag in soup.find_all()][0][\"class\"]\n",
    "\n",
    "tags = []\n",
    "\n",
    "for content in articles.content.values:\n",
    "    soup = bs4.BeautifulSoup(content, 'html.parser')\n",
    "    for tag in soup.find_all():\n",
    "        name = tag.name\n",
    "        if name == \"img\":\n",
    "            continue\n",
    "        c = \"\"\n",
    "        if \"class\" in tag.attrs:\n",
    "            c = tag[\"class\"]\n",
    "        name =\"%s%s\" %(name,c)\n",
    "        if name not in tags:\n",
    "            tags.append(name)\n",
    "\n",
    "tags"
   ]
  },
  {
   "cell_type": "markdown",
   "metadata": {},
   "source": [
    "-------\n",
    "# NLTK SIMPLE TESTS\n",
    "--------\n"
   ]
  },
  {
   "cell_type": "code",
   "execution_count": 135,
   "metadata": {
    "collapsed": true
   },
   "outputs": [],
   "source": [
    "import nltk"
   ]
  },
  {
   "cell_type": "markdown",
   "metadata": {},
   "source": [
    "The mission is to try to see what it can be done with NLTK to analyze the sentece below"
   ]
  },
  {
   "cell_type": "code",
   "execution_count": 136,
   "metadata": {
    "collapsed": true
   },
   "outputs": [],
   "source": [
    "text = \"Alex vivé en Tegucigalpa, Honduras y le gusta comer baleadas\""
   ]
  },
  {
   "cell_type": "code",
   "execution_count": 158,
   "metadata": {
    "collapsed": false
   },
   "outputs": [
    {
     "ename": "LookupError",
     "evalue": "\n**********************************************************************\n  Resource u'taggers/universal_tagset/unknown.map' not found.\n  Please use the NLTK Downloader to obtain the resource:  >>>\n  nltk.download()\n  Searched in:\n    - '/Users/alextabora/nltk_data'\n    - '/usr/share/nltk_data'\n    - '/usr/local/share/nltk_data'\n    - '/usr/lib/nltk_data'\n    - '/usr/local/lib/nltk_data'\n    - u''\n**********************************************************************",
     "output_type": "error",
     "traceback": [
      "\u001b[0;31m---------------------------------------------------------------------------\u001b[0m",
      "\u001b[0;31mLookupError\u001b[0m                               Traceback (most recent call last)",
      "\u001b[0;32m<ipython-input-158-9ed4e5e92f17>\u001b[0m in \u001b[0;36m<module>\u001b[0;34m()\u001b[0m\n\u001b[1;32m      2\u001b[0m \u001b[0;31m# cess_esp = nltk.corpus.cess_esp\u001b[0m\u001b[0;34m\u001b[0m\u001b[0;34m\u001b[0m\u001b[0m\n\u001b[1;32m      3\u001b[0m \u001b[0;31m# print len( nltk.corpus.cess_esp.tagged_words() )\u001b[0m\u001b[0;34m\u001b[0m\u001b[0;34m\u001b[0m\u001b[0m\n\u001b[0;32m----> 4\u001b[0;31m \u001b[0;32mprint\u001b[0m \u001b[0mnltk\u001b[0m\u001b[0;34m.\u001b[0m\u001b[0mcorpus\u001b[0m\u001b[0;34m.\u001b[0m\u001b[0mcess_esp\u001b[0m\u001b[0;34m.\u001b[0m\u001b[0mtagged_words\u001b[0m\u001b[0;34m(\u001b[0m\u001b[0mtagset\u001b[0m\u001b[0;34m=\u001b[0m\u001b[0;34m'universal'\u001b[0m\u001b[0;34m)\u001b[0m\u001b[0;34m\u001b[0m\u001b[0m\n\u001b[0m",
      "\u001b[0;32m/Users/alextabora/anaconda/lib/python2.7/site-packages/nltk/compat.pyc\u001b[0m in \u001b[0;36mwrapper\u001b[0;34m(self)\u001b[0m\n\u001b[1;32m    666\u001b[0m \u001b[0;32mdef\u001b[0m \u001b[0m_7bit\u001b[0m\u001b[0;34m(\u001b[0m\u001b[0mmethod\u001b[0m\u001b[0;34m)\u001b[0m\u001b[0;34m:\u001b[0m\u001b[0;34m\u001b[0m\u001b[0m\n\u001b[1;32m    667\u001b[0m     \u001b[0;32mdef\u001b[0m \u001b[0mwrapper\u001b[0m\u001b[0;34m(\u001b[0m\u001b[0mself\u001b[0m\u001b[0;34m)\u001b[0m\u001b[0;34m:\u001b[0m\u001b[0;34m\u001b[0m\u001b[0m\n\u001b[0;32m--> 668\u001b[0;31m         \u001b[0;32mreturn\u001b[0m \u001b[0mmethod\u001b[0m\u001b[0;34m(\u001b[0m\u001b[0mself\u001b[0m\u001b[0;34m)\u001b[0m\u001b[0;34m.\u001b[0m\u001b[0mencode\u001b[0m\u001b[0;34m(\u001b[0m\u001b[0;34m'ascii'\u001b[0m\u001b[0;34m,\u001b[0m \u001b[0;34m'backslashreplace'\u001b[0m\u001b[0;34m)\u001b[0m\u001b[0;34m\u001b[0m\u001b[0m\n\u001b[0m\u001b[1;32m    669\u001b[0m \u001b[0;34m\u001b[0m\u001b[0m\n\u001b[1;32m    670\u001b[0m     \u001b[0mfunctools\u001b[0m\u001b[0;34m.\u001b[0m\u001b[0mupdate_wrapper\u001b[0m\u001b[0;34m(\u001b[0m\u001b[0mwrapper\u001b[0m\u001b[0;34m,\u001b[0m \u001b[0mmethod\u001b[0m\u001b[0;34m,\u001b[0m \u001b[0;34m[\u001b[0m\u001b[0;34m\"__name__\"\u001b[0m\u001b[0;34m,\u001b[0m \u001b[0;34m\"__doc__\"\u001b[0m\u001b[0;34m]\u001b[0m\u001b[0;34m)\u001b[0m\u001b[0;34m\u001b[0m\u001b[0m\n",
      "\u001b[0;32m/Users/alextabora/anaconda/lib/python2.7/site-packages/nltk/compat.pyc\u001b[0m in \u001b[0;36mwrapper\u001b[0;34m(self)\u001b[0m\n\u001b[1;32m    654\u001b[0m \u001b[0;32mdef\u001b[0m \u001b[0m_transliterated\u001b[0m\u001b[0;34m(\u001b[0m\u001b[0mmethod\u001b[0m\u001b[0;34m)\u001b[0m\u001b[0;34m:\u001b[0m\u001b[0;34m\u001b[0m\u001b[0m\n\u001b[1;32m    655\u001b[0m     \u001b[0;32mdef\u001b[0m \u001b[0mwrapper\u001b[0m\u001b[0;34m(\u001b[0m\u001b[0mself\u001b[0m\u001b[0;34m)\u001b[0m\u001b[0;34m:\u001b[0m\u001b[0;34m\u001b[0m\u001b[0m\n\u001b[0;32m--> 656\u001b[0;31m         \u001b[0;32mreturn\u001b[0m \u001b[0mtransliterate\u001b[0m\u001b[0;34m(\u001b[0m\u001b[0mmethod\u001b[0m\u001b[0;34m(\u001b[0m\u001b[0mself\u001b[0m\u001b[0;34m)\u001b[0m\u001b[0;34m)\u001b[0m\u001b[0;34m\u001b[0m\u001b[0m\n\u001b[0m\u001b[1;32m    657\u001b[0m \u001b[0;34m\u001b[0m\u001b[0m\n\u001b[1;32m    658\u001b[0m     \u001b[0mfunctools\u001b[0m\u001b[0;34m.\u001b[0m\u001b[0mupdate_wrapper\u001b[0m\u001b[0;34m(\u001b[0m\u001b[0mwrapper\u001b[0m\u001b[0;34m,\u001b[0m \u001b[0mmethod\u001b[0m\u001b[0;34m,\u001b[0m \u001b[0;34m[\u001b[0m\u001b[0;34m\"__name__\"\u001b[0m\u001b[0;34m,\u001b[0m \u001b[0;34m\"__doc__\"\u001b[0m\u001b[0;34m]\u001b[0m\u001b[0;34m)\u001b[0m\u001b[0;34m\u001b[0m\u001b[0m\n",
      "\u001b[0;32m/Users/alextabora/anaconda/lib/python2.7/site-packages/nltk/compat.pyc\u001b[0m in \u001b[0;36mwrapper\u001b[0;34m(self)\u001b[0m\n\u001b[1;32m    666\u001b[0m \u001b[0;32mdef\u001b[0m \u001b[0m_7bit\u001b[0m\u001b[0;34m(\u001b[0m\u001b[0mmethod\u001b[0m\u001b[0;34m)\u001b[0m\u001b[0;34m:\u001b[0m\u001b[0;34m\u001b[0m\u001b[0m\n\u001b[1;32m    667\u001b[0m     \u001b[0;32mdef\u001b[0m \u001b[0mwrapper\u001b[0m\u001b[0;34m(\u001b[0m\u001b[0mself\u001b[0m\u001b[0;34m)\u001b[0m\u001b[0;34m:\u001b[0m\u001b[0;34m\u001b[0m\u001b[0m\n\u001b[0;32m--> 668\u001b[0;31m         \u001b[0;32mreturn\u001b[0m \u001b[0mmethod\u001b[0m\u001b[0;34m(\u001b[0m\u001b[0mself\u001b[0m\u001b[0;34m)\u001b[0m\u001b[0;34m.\u001b[0m\u001b[0mencode\u001b[0m\u001b[0;34m(\u001b[0m\u001b[0;34m'ascii'\u001b[0m\u001b[0;34m,\u001b[0m \u001b[0;34m'backslashreplace'\u001b[0m\u001b[0;34m)\u001b[0m\u001b[0;34m\u001b[0m\u001b[0m\n\u001b[0m\u001b[1;32m    669\u001b[0m \u001b[0;34m\u001b[0m\u001b[0m\n\u001b[1;32m    670\u001b[0m     \u001b[0mfunctools\u001b[0m\u001b[0;34m.\u001b[0m\u001b[0mupdate_wrapper\u001b[0m\u001b[0;34m(\u001b[0m\u001b[0mwrapper\u001b[0m\u001b[0;34m,\u001b[0m \u001b[0mmethod\u001b[0m\u001b[0;34m,\u001b[0m \u001b[0;34m[\u001b[0m\u001b[0;34m\"__name__\"\u001b[0m\u001b[0;34m,\u001b[0m \u001b[0;34m\"__doc__\"\u001b[0m\u001b[0;34m]\u001b[0m\u001b[0;34m)\u001b[0m\u001b[0;34m\u001b[0m\u001b[0m\n",
      "\u001b[0;32m/Users/alextabora/anaconda/lib/python2.7/site-packages/nltk/util.pyc\u001b[0m in \u001b[0;36m__repr__\u001b[0;34m(self)\u001b[0m\n\u001b[1;32m    763\u001b[0m         \u001b[0mpieces\u001b[0m \u001b[0;34m=\u001b[0m \u001b[0;34m[\u001b[0m\u001b[0;34m]\u001b[0m\u001b[0;34m\u001b[0m\u001b[0m\n\u001b[1;32m    764\u001b[0m         \u001b[0mlength\u001b[0m \u001b[0;34m=\u001b[0m \u001b[0;36m5\u001b[0m\u001b[0;34m\u001b[0m\u001b[0m\n\u001b[0;32m--> 765\u001b[0;31m         \u001b[0;32mfor\u001b[0m \u001b[0melt\u001b[0m \u001b[0;32min\u001b[0m \u001b[0mself\u001b[0m\u001b[0;34m:\u001b[0m\u001b[0;34m\u001b[0m\u001b[0m\n\u001b[0m\u001b[1;32m    766\u001b[0m             \u001b[0mpieces\u001b[0m\u001b[0;34m.\u001b[0m\u001b[0mappend\u001b[0m\u001b[0;34m(\u001b[0m\u001b[0mrepr\u001b[0m\u001b[0;34m(\u001b[0m\u001b[0melt\u001b[0m\u001b[0;34m)\u001b[0m\u001b[0;34m)\u001b[0m\u001b[0;34m\u001b[0m\u001b[0m\n\u001b[1;32m    767\u001b[0m             \u001b[0mlength\u001b[0m \u001b[0;34m+=\u001b[0m \u001b[0mlen\u001b[0m\u001b[0;34m(\u001b[0m\u001b[0mpieces\u001b[0m\u001b[0;34m[\u001b[0m\u001b[0;34m-\u001b[0m\u001b[0;36m1\u001b[0m\u001b[0;34m]\u001b[0m\u001b[0;34m)\u001b[0m \u001b[0;34m+\u001b[0m \u001b[0;36m2\u001b[0m\u001b[0;34m\u001b[0m\u001b[0m\n",
      "\u001b[0;32m/Users/alextabora/anaconda/lib/python2.7/site-packages/nltk/corpus/reader/util.pyc\u001b[0m in \u001b[0;36miterate_from\u001b[0;34m(self, start_tok)\u001b[0m\n\u001b[1;32m    395\u001b[0m \u001b[0;34m\u001b[0m\u001b[0m\n\u001b[1;32m    396\u001b[0m             \u001b[0;31m# Get everything we can from this piece.\u001b[0m\u001b[0;34m\u001b[0m\u001b[0;34m\u001b[0m\u001b[0m\n\u001b[0;32m--> 397\u001b[0;31m             \u001b[0;32mfor\u001b[0m \u001b[0mtok\u001b[0m \u001b[0;32min\u001b[0m \u001b[0mpiece\u001b[0m\u001b[0;34m.\u001b[0m\u001b[0miterate_from\u001b[0m\u001b[0;34m(\u001b[0m\u001b[0mmax\u001b[0m\u001b[0;34m(\u001b[0m\u001b[0;36m0\u001b[0m\u001b[0;34m,\u001b[0m \u001b[0mstart_tok\u001b[0m\u001b[0;34m-\u001b[0m\u001b[0moffset\u001b[0m\u001b[0;34m)\u001b[0m\u001b[0;34m)\u001b[0m\u001b[0;34m:\u001b[0m\u001b[0;34m\u001b[0m\u001b[0m\n\u001b[0m\u001b[1;32m    398\u001b[0m                 \u001b[0;32myield\u001b[0m \u001b[0mtok\u001b[0m\u001b[0;34m\u001b[0m\u001b[0m\n\u001b[1;32m    399\u001b[0m \u001b[0;34m\u001b[0m\u001b[0m\n",
      "\u001b[0;32m/Users/alextabora/anaconda/lib/python2.7/site-packages/nltk/corpus/reader/util.pyc\u001b[0m in \u001b[0;36miterate_from\u001b[0;34m(self, start_tok)\u001b[0m\n\u001b[1;32m    289\u001b[0m             \u001b[0mself\u001b[0m\u001b[0;34m.\u001b[0m\u001b[0m_current_toknum\u001b[0m \u001b[0;34m=\u001b[0m \u001b[0mtoknum\u001b[0m\u001b[0;34m\u001b[0m\u001b[0m\n\u001b[1;32m    290\u001b[0m             \u001b[0mself\u001b[0m\u001b[0;34m.\u001b[0m\u001b[0m_current_blocknum\u001b[0m \u001b[0;34m=\u001b[0m \u001b[0mblock_index\u001b[0m\u001b[0;34m\u001b[0m\u001b[0m\n\u001b[0;32m--> 291\u001b[0;31m             \u001b[0mtokens\u001b[0m \u001b[0;34m=\u001b[0m \u001b[0mself\u001b[0m\u001b[0;34m.\u001b[0m\u001b[0mread_block\u001b[0m\u001b[0;34m(\u001b[0m\u001b[0mself\u001b[0m\u001b[0;34m.\u001b[0m\u001b[0m_stream\u001b[0m\u001b[0;34m)\u001b[0m\u001b[0;34m\u001b[0m\u001b[0m\n\u001b[0m\u001b[1;32m    292\u001b[0m             assert isinstance(tokens, (tuple, list, AbstractLazySequence)), (\n\u001b[1;32m    293\u001b[0m                 \u001b[0;34m'block reader %s() should return list or tuple.'\u001b[0m \u001b[0;34m%\u001b[0m\u001b[0;34m\u001b[0m\u001b[0m\n",
      "\u001b[0;32m/Users/alextabora/anaconda/lib/python2.7/site-packages/nltk/corpus/reader/api.pyc\u001b[0m in \u001b[0;36mreader\u001b[0;34m(stream)\u001b[0m\n\u001b[1;32m    413\u001b[0m     \u001b[0;32mdef\u001b[0m \u001b[0mtagged_words\u001b[0m\u001b[0;34m(\u001b[0m\u001b[0mself\u001b[0m\u001b[0;34m,\u001b[0m \u001b[0mfileids\u001b[0m\u001b[0;34m=\u001b[0m\u001b[0mNone\u001b[0m\u001b[0;34m,\u001b[0m \u001b[0mtagset\u001b[0m\u001b[0;34m=\u001b[0m\u001b[0mNone\u001b[0m\u001b[0;34m)\u001b[0m\u001b[0;34m:\u001b[0m\u001b[0;34m\u001b[0m\u001b[0m\n\u001b[1;32m    414\u001b[0m         \u001b[0;32mdef\u001b[0m \u001b[0mreader\u001b[0m\u001b[0;34m(\u001b[0m\u001b[0mstream\u001b[0m\u001b[0;34m)\u001b[0m\u001b[0;34m:\u001b[0m\u001b[0;34m\u001b[0m\u001b[0m\n\u001b[0;32m--> 415\u001b[0;31m             \u001b[0;32mreturn\u001b[0m \u001b[0mself\u001b[0m\u001b[0;34m.\u001b[0m\u001b[0m_read_tagged_word_block\u001b[0m\u001b[0;34m(\u001b[0m\u001b[0mstream\u001b[0m\u001b[0;34m,\u001b[0m \u001b[0mtagset\u001b[0m\u001b[0;34m)\u001b[0m\u001b[0;34m\u001b[0m\u001b[0m\n\u001b[0m\u001b[1;32m    416\u001b[0m         return concat([StreamBackedCorpusView(fileid, reader, encoding=enc)\n\u001b[1;32m    417\u001b[0m                        for fileid, enc in self.abspaths(fileids, True)])\n",
      "\u001b[0;32m/Users/alextabora/anaconda/lib/python2.7/site-packages/nltk/corpus/reader/api.pyc\u001b[0m in \u001b[0;36m_read_tagged_word_block\u001b[0;34m(self, stream, tagset)\u001b[0m\n\u001b[1;32m    430\u001b[0m \u001b[0;34m\u001b[0m\u001b[0m\n\u001b[1;32m    431\u001b[0m     \u001b[0;32mdef\u001b[0m \u001b[0m_read_tagged_word_block\u001b[0m\u001b[0;34m(\u001b[0m\u001b[0mself\u001b[0m\u001b[0;34m,\u001b[0m \u001b[0mstream\u001b[0m\u001b[0;34m,\u001b[0m \u001b[0mtagset\u001b[0m\u001b[0;34m=\u001b[0m\u001b[0mNone\u001b[0m\u001b[0;34m)\u001b[0m\u001b[0;34m:\u001b[0m\u001b[0;34m\u001b[0m\u001b[0m\n\u001b[0;32m--> 432\u001b[0;31m         \u001b[0;32mreturn\u001b[0m \u001b[0msum\u001b[0m\u001b[0;34m(\u001b[0m\u001b[0mself\u001b[0m\u001b[0;34m.\u001b[0m\u001b[0m_read_tagged_sent_block\u001b[0m\u001b[0;34m(\u001b[0m\u001b[0mstream\u001b[0m\u001b[0;34m,\u001b[0m \u001b[0mtagset\u001b[0m\u001b[0;34m)\u001b[0m\u001b[0;34m,\u001b[0m \u001b[0;34m[\u001b[0m\u001b[0;34m]\u001b[0m\u001b[0;34m)\u001b[0m\u001b[0;34m\u001b[0m\u001b[0m\n\u001b[0m\u001b[1;32m    433\u001b[0m \u001b[0;34m\u001b[0m\u001b[0m\n\u001b[1;32m    434\u001b[0m     \u001b[0;32mdef\u001b[0m \u001b[0m_read_sent_block\u001b[0m\u001b[0;34m(\u001b[0m\u001b[0mself\u001b[0m\u001b[0;34m,\u001b[0m \u001b[0mstream\u001b[0m\u001b[0;34m)\u001b[0m\u001b[0;34m:\u001b[0m\u001b[0;34m\u001b[0m\u001b[0m\n",
      "\u001b[0;32m/Users/alextabora/anaconda/lib/python2.7/site-packages/nltk/corpus/reader/api.pyc\u001b[0m in \u001b[0;36m_read_tagged_sent_block\u001b[0;34m(self, stream, tagset)\u001b[0m\n\u001b[1;32m    437\u001b[0m     \u001b[0;32mdef\u001b[0m \u001b[0m_read_tagged_sent_block\u001b[0m\u001b[0;34m(\u001b[0m\u001b[0mself\u001b[0m\u001b[0;34m,\u001b[0m \u001b[0mstream\u001b[0m\u001b[0;34m,\u001b[0m \u001b[0mtagset\u001b[0m\u001b[0;34m=\u001b[0m\u001b[0mNone\u001b[0m\u001b[0;34m)\u001b[0m\u001b[0;34m:\u001b[0m\u001b[0;34m\u001b[0m\u001b[0m\n\u001b[1;32m    438\u001b[0m         return list(filter(None, [self._tag(t, tagset)\n\u001b[0;32m--> 439\u001b[0;31m                              for t in self._read_block(stream)]))\n\u001b[0m\u001b[1;32m    440\u001b[0m \u001b[0;34m\u001b[0m\u001b[0m\n\u001b[1;32m    441\u001b[0m     \u001b[0;32mdef\u001b[0m \u001b[0m_read_parsed_sent_block\u001b[0m\u001b[0;34m(\u001b[0m\u001b[0mself\u001b[0m\u001b[0;34m,\u001b[0m \u001b[0mstream\u001b[0m\u001b[0;34m)\u001b[0m\u001b[0;34m:\u001b[0m\u001b[0;34m\u001b[0m\u001b[0m\n",
      "\u001b[0;32m/Users/alextabora/anaconda/lib/python2.7/site-packages/nltk/corpus/reader/bracket_parse.pyc\u001b[0m in \u001b[0;36m_tag\u001b[0;34m(self, t, tagset)\u001b[0m\n\u001b[1;32m    103\u001b[0m         \u001b[0mtagged_sent\u001b[0m \u001b[0;34m=\u001b[0m \u001b[0;34m[\u001b[0m\u001b[0;34m(\u001b[0m\u001b[0mw\u001b[0m\u001b[0;34m,\u001b[0m\u001b[0mp\u001b[0m\u001b[0;34m)\u001b[0m \u001b[0;32mfor\u001b[0m \u001b[0;34m(\u001b[0m\u001b[0mp\u001b[0m\u001b[0;34m,\u001b[0m\u001b[0mw\u001b[0m\u001b[0;34m)\u001b[0m \u001b[0;32min\u001b[0m \u001b[0mTAGWORD\u001b[0m\u001b[0;34m.\u001b[0m\u001b[0mfindall\u001b[0m\u001b[0;34m(\u001b[0m\u001b[0mself\u001b[0m\u001b[0;34m.\u001b[0m\u001b[0m_normalize\u001b[0m\u001b[0;34m(\u001b[0m\u001b[0mt\u001b[0m\u001b[0;34m)\u001b[0m\u001b[0;34m)\u001b[0m\u001b[0;34m]\u001b[0m\u001b[0;34m\u001b[0m\u001b[0m\n\u001b[1;32m    104\u001b[0m         \u001b[0;32mif\u001b[0m \u001b[0mtagset\u001b[0m \u001b[0;32mand\u001b[0m \u001b[0mtagset\u001b[0m \u001b[0;34m!=\u001b[0m \u001b[0mself\u001b[0m\u001b[0;34m.\u001b[0m\u001b[0m_tagset\u001b[0m\u001b[0;34m:\u001b[0m\u001b[0;34m\u001b[0m\u001b[0m\n\u001b[0;32m--> 105\u001b[0;31m             \u001b[0mtagged_sent\u001b[0m \u001b[0;34m=\u001b[0m \u001b[0;34m[\u001b[0m\u001b[0;34m(\u001b[0m\u001b[0mw\u001b[0m\u001b[0;34m,\u001b[0m \u001b[0mmap_tag\u001b[0m\u001b[0;34m(\u001b[0m\u001b[0mself\u001b[0m\u001b[0;34m.\u001b[0m\u001b[0m_tagset\u001b[0m\u001b[0;34m,\u001b[0m \u001b[0mtagset\u001b[0m\u001b[0;34m,\u001b[0m \u001b[0mp\u001b[0m\u001b[0;34m)\u001b[0m\u001b[0;34m)\u001b[0m \u001b[0;32mfor\u001b[0m \u001b[0;34m(\u001b[0m\u001b[0mw\u001b[0m\u001b[0;34m,\u001b[0m\u001b[0mp\u001b[0m\u001b[0;34m)\u001b[0m \u001b[0;32min\u001b[0m \u001b[0mtagged_sent\u001b[0m\u001b[0;34m]\u001b[0m\u001b[0;34m\u001b[0m\u001b[0m\n\u001b[0m\u001b[1;32m    106\u001b[0m         \u001b[0;32mreturn\u001b[0m \u001b[0mtagged_sent\u001b[0m\u001b[0;34m\u001b[0m\u001b[0m\n\u001b[1;32m    107\u001b[0m \u001b[0;34m\u001b[0m\u001b[0m\n",
      "\u001b[0;32m/Users/alextabora/anaconda/lib/python2.7/site-packages/nltk/tag/mapping.pyc\u001b[0m in \u001b[0;36mmap_tag\u001b[0;34m(source, target, source_tag)\u001b[0m\n\u001b[1;32m     97\u001b[0m             \u001b[0msource\u001b[0m \u001b[0;34m=\u001b[0m \u001b[0;34m'en-brown'\u001b[0m\u001b[0;34m\u001b[0m\u001b[0m\n\u001b[1;32m     98\u001b[0m \u001b[0;34m\u001b[0m\u001b[0m\n\u001b[0;32m---> 99\u001b[0;31m     \u001b[0;32mreturn\u001b[0m \u001b[0mtagset_mapping\u001b[0m\u001b[0;34m(\u001b[0m\u001b[0msource\u001b[0m\u001b[0;34m,\u001b[0m \u001b[0mtarget\u001b[0m\u001b[0;34m)\u001b[0m\u001b[0;34m[\u001b[0m\u001b[0msource_tag\u001b[0m\u001b[0;34m]\u001b[0m\u001b[0;34m\u001b[0m\u001b[0m\n\u001b[0m\u001b[1;32m    100\u001b[0m \u001b[0;34m\u001b[0m\u001b[0m\n\u001b[1;32m    101\u001b[0m \u001b[0;34m\u001b[0m\u001b[0m\n",
      "\u001b[0;32m/Users/alextabora/anaconda/lib/python2.7/site-packages/nltk/tag/mapping.pyc\u001b[0m in \u001b[0;36mtagset_mapping\u001b[0;34m(source, target)\u001b[0m\n\u001b[1;32m     75\u001b[0m     \u001b[0;32mif\u001b[0m \u001b[0msource\u001b[0m \u001b[0;32mnot\u001b[0m \u001b[0;32min\u001b[0m \u001b[0m_MAPPINGS\u001b[0m \u001b[0;32mor\u001b[0m \u001b[0mtarget\u001b[0m \u001b[0;32mnot\u001b[0m \u001b[0;32min\u001b[0m \u001b[0m_MAPPINGS\u001b[0m\u001b[0;34m[\u001b[0m\u001b[0msource\u001b[0m\u001b[0;34m]\u001b[0m\u001b[0;34m:\u001b[0m\u001b[0;34m\u001b[0m\u001b[0m\n\u001b[1;32m     76\u001b[0m         \u001b[0;32mif\u001b[0m \u001b[0mtarget\u001b[0m \u001b[0;34m==\u001b[0m \u001b[0;34m'universal'\u001b[0m\u001b[0;34m:\u001b[0m\u001b[0;34m\u001b[0m\u001b[0m\n\u001b[0;32m---> 77\u001b[0;31m             \u001b[0m_load_universal_map\u001b[0m\u001b[0;34m(\u001b[0m\u001b[0msource\u001b[0m\u001b[0;34m)\u001b[0m\u001b[0;34m\u001b[0m\u001b[0m\n\u001b[0m\u001b[1;32m     78\u001b[0m     \u001b[0;32mreturn\u001b[0m \u001b[0m_MAPPINGS\u001b[0m\u001b[0;34m[\u001b[0m\u001b[0msource\u001b[0m\u001b[0;34m]\u001b[0m\u001b[0;34m[\u001b[0m\u001b[0mtarget\u001b[0m\u001b[0;34m]\u001b[0m\u001b[0;34m\u001b[0m\u001b[0m\n\u001b[1;32m     79\u001b[0m \u001b[0;34m\u001b[0m\u001b[0m\n",
      "\u001b[0;32m/Users/alextabora/anaconda/lib/python2.7/site-packages/nltk/tag/mapping.pyc\u001b[0m in \u001b[0;36m_load_universal_map\u001b[0;34m(fileid)\u001b[0m\n\u001b[1;32m     45\u001b[0m \u001b[0;34m\u001b[0m\u001b[0m\n\u001b[1;32m     46\u001b[0m \u001b[0;32mdef\u001b[0m \u001b[0m_load_universal_map\u001b[0m\u001b[0;34m(\u001b[0m\u001b[0mfileid\u001b[0m\u001b[0;34m)\u001b[0m\u001b[0;34m:\u001b[0m\u001b[0;34m\u001b[0m\u001b[0m\n\u001b[0;32m---> 47\u001b[0;31m     \u001b[0mcontents\u001b[0m \u001b[0;34m=\u001b[0m \u001b[0mload\u001b[0m\u001b[0;34m(\u001b[0m\u001b[0mjoin\u001b[0m\u001b[0;34m(\u001b[0m\u001b[0m_UNIVERSAL_DATA\u001b[0m\u001b[0;34m,\u001b[0m \u001b[0mfileid\u001b[0m\u001b[0;34m+\u001b[0m\u001b[0;34m'.map'\u001b[0m\u001b[0;34m)\u001b[0m\u001b[0;34m,\u001b[0m \u001b[0mformat\u001b[0m\u001b[0;34m=\u001b[0m\u001b[0;34m\"text\"\u001b[0m\u001b[0;34m)\u001b[0m\u001b[0;34m\u001b[0m\u001b[0m\n\u001b[0m\u001b[1;32m     48\u001b[0m \u001b[0;34m\u001b[0m\u001b[0m\n\u001b[1;32m     49\u001b[0m     \u001b[0;31m# When mapping to the Universal Tagset,\u001b[0m\u001b[0;34m\u001b[0m\u001b[0;34m\u001b[0m\u001b[0m\n",
      "\u001b[0;32m/Users/alextabora/anaconda/lib/python2.7/site-packages/nltk/data.pyc\u001b[0m in \u001b[0;36mload\u001b[0;34m(resource_url, format, cache, verbose, logic_parser, fstruct_reader, encoding)\u001b[0m\n\u001b[1;32m    799\u001b[0m \u001b[0;34m\u001b[0m\u001b[0m\n\u001b[1;32m    800\u001b[0m     \u001b[0;31m# Load the resource.\u001b[0m\u001b[0;34m\u001b[0m\u001b[0;34m\u001b[0m\u001b[0m\n\u001b[0;32m--> 801\u001b[0;31m     \u001b[0mopened_resource\u001b[0m \u001b[0;34m=\u001b[0m \u001b[0m_open\u001b[0m\u001b[0;34m(\u001b[0m\u001b[0mresource_url\u001b[0m\u001b[0;34m)\u001b[0m\u001b[0;34m\u001b[0m\u001b[0m\n\u001b[0m\u001b[1;32m    802\u001b[0m \u001b[0;34m\u001b[0m\u001b[0m\n\u001b[1;32m    803\u001b[0m     \u001b[0;32mif\u001b[0m \u001b[0mformat\u001b[0m \u001b[0;34m==\u001b[0m \u001b[0;34m'raw'\u001b[0m\u001b[0;34m:\u001b[0m\u001b[0;34m\u001b[0m\u001b[0m\n",
      "\u001b[0;32m/Users/alextabora/anaconda/lib/python2.7/site-packages/nltk/data.pyc\u001b[0m in \u001b[0;36m_open\u001b[0;34m(resource_url)\u001b[0m\n\u001b[1;32m    917\u001b[0m \u001b[0;34m\u001b[0m\u001b[0m\n\u001b[1;32m    918\u001b[0m     \u001b[0;32mif\u001b[0m \u001b[0mprotocol\u001b[0m \u001b[0;32mis\u001b[0m \u001b[0mNone\u001b[0m \u001b[0;32mor\u001b[0m \u001b[0mprotocol\u001b[0m\u001b[0;34m.\u001b[0m\u001b[0mlower\u001b[0m\u001b[0;34m(\u001b[0m\u001b[0;34m)\u001b[0m \u001b[0;34m==\u001b[0m \u001b[0;34m'nltk'\u001b[0m\u001b[0;34m:\u001b[0m\u001b[0;34m\u001b[0m\u001b[0m\n\u001b[0;32m--> 919\u001b[0;31m         \u001b[0;32mreturn\u001b[0m \u001b[0mfind\u001b[0m\u001b[0;34m(\u001b[0m\u001b[0mpath_\u001b[0m\u001b[0;34m,\u001b[0m \u001b[0mpath\u001b[0m \u001b[0;34m+\u001b[0m \u001b[0;34m[\u001b[0m\u001b[0;34m''\u001b[0m\u001b[0;34m]\u001b[0m\u001b[0;34m)\u001b[0m\u001b[0;34m.\u001b[0m\u001b[0mopen\u001b[0m\u001b[0;34m(\u001b[0m\u001b[0;34m)\u001b[0m\u001b[0;34m\u001b[0m\u001b[0m\n\u001b[0m\u001b[1;32m    920\u001b[0m     \u001b[0;32melif\u001b[0m \u001b[0mprotocol\u001b[0m\u001b[0;34m.\u001b[0m\u001b[0mlower\u001b[0m\u001b[0;34m(\u001b[0m\u001b[0;34m)\u001b[0m \u001b[0;34m==\u001b[0m \u001b[0;34m'file'\u001b[0m\u001b[0;34m:\u001b[0m\u001b[0;34m\u001b[0m\u001b[0m\n\u001b[1;32m    921\u001b[0m         \u001b[0;31m# urllib might not use mode='rb', so handle this one ourselves:\u001b[0m\u001b[0;34m\u001b[0m\u001b[0;34m\u001b[0m\u001b[0m\n",
      "\u001b[0;32m/Users/alextabora/anaconda/lib/python2.7/site-packages/nltk/data.pyc\u001b[0m in \u001b[0;36mfind\u001b[0;34m(resource_name, paths)\u001b[0m\n\u001b[1;32m    639\u001b[0m     \u001b[0msep\u001b[0m \u001b[0;34m=\u001b[0m \u001b[0;34m'*'\u001b[0m \u001b[0;34m*\u001b[0m \u001b[0;36m70\u001b[0m\u001b[0;34m\u001b[0m\u001b[0m\n\u001b[1;32m    640\u001b[0m     \u001b[0mresource_not_found\u001b[0m \u001b[0;34m=\u001b[0m \u001b[0;34m'\\n%s\\n%s\\n%s'\u001b[0m \u001b[0;34m%\u001b[0m \u001b[0;34m(\u001b[0m\u001b[0msep\u001b[0m\u001b[0;34m,\u001b[0m \u001b[0mmsg\u001b[0m\u001b[0;34m,\u001b[0m \u001b[0msep\u001b[0m\u001b[0;34m)\u001b[0m\u001b[0;34m\u001b[0m\u001b[0m\n\u001b[0;32m--> 641\u001b[0;31m     \u001b[0;32mraise\u001b[0m \u001b[0mLookupError\u001b[0m\u001b[0;34m(\u001b[0m\u001b[0mresource_not_found\u001b[0m\u001b[0;34m)\u001b[0m\u001b[0;34m\u001b[0m\u001b[0m\n\u001b[0m\u001b[1;32m    642\u001b[0m \u001b[0;34m\u001b[0m\u001b[0m\n\u001b[1;32m    643\u001b[0m \u001b[0;34m\u001b[0m\u001b[0m\n",
      "\u001b[0;31mLookupError\u001b[0m: \n**********************************************************************\n  Resource u'taggers/universal_tagset/unknown.map' not found.\n  Please use the NLTK Downloader to obtain the resource:  >>>\n  nltk.download()\n  Searched in:\n    - '/Users/alextabora/nltk_data'\n    - '/usr/share/nltk_data'\n    - '/usr/local/share/nltk_data'\n    - '/usr/lib/nltk_data'\n    - '/usr/local/lib/nltk_data'\n    - u''\n**********************************************************************"
     ]
    }
   ],
   "source": [
    "# number of words in the cess_esp corpus\n",
    "# cess_esp = nltk.corpus.cess_esp\n",
    "# print len( nltk.corpus.cess_esp.tagged_words() )\n",
    "print nltk.corpus.cess_esp.tagged_words(tagset='universal')"
   ]
  },
  {
   "cell_type": "code",
   "execution_count": 152,
   "metadata": {
    "collapsed": false
   },
   "outputs": [],
   "source": [
    "#tokenizing \n",
    "# text_tokens = nltk.word_tokenize(text)\n",
    "text_tokens = text.split()"
   ]
  },
  {
   "cell_type": "code",
   "execution_count": 146,
   "metadata": {
    "collapsed": false
   },
   "outputs": [
    {
     "data": {
      "text/plain": [
       "0.5179645535459428"
      ]
     },
     "execution_count": 146,
     "metadata": {},
     "output_type": "execute_result"
    }
   ],
   "source": [
    "cess_tagged_sents = cess_esp.tagged_sents()\n",
    "\n",
    "#Lookup tagger\n",
    "fd = nltk.FreqDist(cess_esp.words())\n",
    "cfd = nltk.ConditionalFreqDist(cess_esp.tagged_words())\n",
    "most_freq_words = fd.most_common(100)\n",
    "likely_tags = dict((word, cfd[word].max()) for (word, _) in most_freq_words)\n",
    "baseline_tagger = nltk.UnigramTagger(model=likely_tags)\n",
    "baseline_tagger.evaluate(cess_tagged_sents)"
   ]
  },
  {
   "cell_type": "code",
   "execution_count": 149,
   "metadata": {
    "collapsed": false
   },
   "outputs": [
    {
     "data": {
      "text/plain": [
       "[('Alex', None),\n",
       " ('viv\\xc3\\xa9', None),\n",
       " ('en', u'sps00'),\n",
       " ('Tegucigalpa', None),\n",
       " (',', u'Fc'),\n",
       " ('Honduras', None),\n",
       " ('y', u'cc'),\n",
       " ('le', u'pp3csd00'),\n",
       " ('gusta', None),\n",
       " ('comer', None),\n",
       " ('baleadas', None)]"
      ]
     },
     "execution_count": 149,
     "metadata": {},
     "output_type": "execute_result"
    }
   ],
   "source": [
    "baseline_tagger.tag(text_tokens)"
   ]
  },
  {
   "cell_type": "code",
   "execution_count": 151,
   "metadata": {
    "collapsed": false
   },
   "outputs": [
    {
     "name": "stderr",
     "output_type": "stream",
     "text": [
      "*** First-time use of cess tagger ***\n",
      "Training tagger ...\n",
      "Tagger trained with cess using UnigramTagger and BigramTagger.\n",
      "Tagger trained with cess_nomwe using UnigramTagger and BigramTagger.\n"
     ]
    },
    {
     "name": "stdout",
     "output_type": "stream",
     "text": [
      "[('Alex', None), ('viv\\xc3\\xa9', None), ('en', u'sps00'), ('Tegucigalpa', None), (',', u'Fc'), ('Honduras', u'np0000o'), ('y', u'cc'), ('le', u'pp3csd00'), ('gusta', u'vmip3s0'), ('comer', u'vmn0000'), ('baleadas', None)]\n"
     ]
    }
   ],
   "source": [
    "import spaghetti as sgt\n"
   ]
  },
  {
   "cell_type": "code",
   "execution_count": 153,
   "metadata": {
    "collapsed": false
   },
   "outputs": [
    {
     "name": "stdout",
     "output_type": "stream",
     "text": [
      "[('Alex', None), ('viv\\xc3\\xa9', None), ('en', u'sps00'), ('Tegucigalpa,', None), ('Honduras', u'np0000o'), ('y', u'cc'), ('le', u'pp3csd00'), ('gusta', u'vmip3s0'), ('comer', u'vmn0000'), ('baleadas', None)]\n"
     ]
    }
   ],
   "source": [
    "print (sgt.pos_tag(text_tokens))"
   ]
  },
  {
   "cell_type": "code",
   "execution_count": 155,
   "metadata": {
    "collapsed": false
   },
   "outputs": [
    {
     "name": "stdout",
     "output_type": "stream",
     "text": [
      "[('Mi', u'dp1css'), ('colega', u'nccs000'), ('me', u'pp1cs000'), ('ayuda', u'ncfs000'), ('a', u'sps00'), ('programar', None), ('cosas', u'ncfp000'), ('.', u'Fp')]\n",
      "[[('Mi', u'dp1css'), ('colega', u'nccs000'), ('me', u'pp1cs000'), ('ayuda', u'ncfs000'), ('a', u'sps00'), ('programar', None), ('cosas', u'ncfp000'), ('.', u'Fp')], [('Est\\xc3\\xa1', None), ('embarazada', None), ('.', u'Fp')]]\n",
      "[('Mi', u'dp1css'), ('colega', u'nccs000'), ('me', u'pp1cs000'), ('ayuda', u'ncfs000'), ('a', u'sps00'), ('programar', None), ('cosas', u'ncfp000'), ('.', u'Fp')]\n",
      "[('Est\\xc3\\xa1', None), ('embarazada', None), ('.', u'Fp')]\n",
      "[[('Mi', u'dp1css'), ('colega', u'nccs000'), ('me', u'pp1cs000'), ('ayuda', u'ncfs000'), ('a', u'sps00'), ('programar', None), ('cosas', u'ncfp000'), ('.', u'Fp')], [('Est\\xc3\\xa1', None), ('embarazada', None), ('.', u'Fp')]]\n"
     ]
    }
   ],
   "source": [
    "sent1 = 'Mi colega me ayuda a programar cosas .'.split()\n",
    "sent2 = 'Está embarazada .'.split()\n",
    "test_sents = [sent1, sent2]\n",
    "\n",
    "# Default Spaghetti tagger.\n",
    "print (sgt.pos_tag(test_sents[0]))\n",
    "\n",
    "# Tag multiple sentences.\n",
    "print (sgt.pos_tag_sents(test_sents))\n",
    "\n",
    "spa_tagger = sgt.CESSTagger()\n",
    "# POS tagger trained on unigrams of CESS corpus.\n",
    "spa_unigram_tagger = spa_tagger.uni\n",
    "print (spa_unigram_tagger.tag(sent1))\n",
    "# POS tagger traned on bigrams of CESS corpus.\n",
    "spa_bigram_tagger = spa_tagger.bi\n",
    "print (spa_bigram_tagger.tag(sent2))\n",
    "print (spa_bigram_tagger.tag_sents(test_sents))"
   ]
  },
  {
   "cell_type": "code",
   "execution_count": 156,
   "metadata": {
    "collapsed": false
   },
   "outputs": [
    {
     "data": {
      "text/plain": [
       "[(u',', 11420),\n",
       " (u'de', 10234),\n",
       " (u'la', 6412),\n",
       " (u'.', 5866),\n",
       " (u'que', 5552),\n",
       " (u'el', 5199),\n",
       " (u'en', 4340),\n",
       " (u'y', 4235),\n",
       " (u'*0*', 3882),\n",
       " (u'\"', 3038),\n",
       " (u'los', 2963),\n",
       " (u'a', 2953),\n",
       " (u'del', 2257),\n",
       " (u'se', 1884),\n",
       " (u'las', 1832),\n",
       " (u'un', 1815),\n",
       " (u'con', 1494),\n",
       " (u'por', 1456),\n",
       " (u'una', 1396),\n",
       " (u'su', 1291),\n",
       " (u'para', 1258),\n",
       " (u'-', 1240),\n",
       " (u'no', 1232),\n",
       " (u'al', 984),\n",
       " (u'es', 911),\n",
       " (u'-Fpa-', 821),\n",
       " (u'-Fpt-', 820),\n",
       " (u'El', 812),\n",
       " (u'ha', 705),\n",
       " (u'como', 696),\n",
       " (u'lo', 652),\n",
       " (u'm\\xe1s', 648),\n",
       " (u'La', 510),\n",
       " (u'sus', 493),\n",
       " (u'o', 435),\n",
       " (u':', 410),\n",
       " (u'pero', 357),\n",
       " (u'hoy', 348),\n",
       " (u'entre', 315),\n",
       " (u'dos', 306),\n",
       " (u'sobre', 303),\n",
       " (u'En', 301),\n",
       " (u'le', 300),\n",
       " (u'a\\xf1os', 291),\n",
       " (u'este', 278),\n",
       " (u'han', 271),\n",
       " (u'tambi\\xe9n', 254),\n",
       " (u'fue', 244),\n",
       " (u'si', 227),\n",
       " (u'Los', 226),\n",
       " (u'ser', 222),\n",
       " (u'son', 222),\n",
       " (u'esta', 219),\n",
       " (u'presidente', 219),\n",
       " (u'porque', 215),\n",
       " (u'est\\xe1', 212),\n",
       " (u'hasta', 209),\n",
       " (u'ya', 204),\n",
       " (u';', 201),\n",
       " (u'desde', 199),\n",
       " (u'muy', 197),\n",
       " (u'millones', 195),\n",
       " (u'cuando', 192),\n",
       " (u'sin', 188),\n",
       " (u'dijo', 181),\n",
       " (u'hab\\xeda', 179),\n",
       " (u'pa\\xeds', 177),\n",
       " (u'Gobierno', 167),\n",
       " (u'tiene', 166),\n",
       " (u'puede', 161),\n",
       " (u'ante', 161),\n",
       " (u'todo', 160),\n",
       " (u'a\\xf1o', 157),\n",
       " (u'contra', 153),\n",
       " (u'aunque', 152),\n",
       " (u'sido', 150),\n",
       " (u'donde', 149),\n",
       " (u'seg\\xfan', 148),\n",
       " (u'Pero', 147),\n",
       " (u'partido', 146),\n",
       " (u'hay', 145),\n",
       " (u'equipo', 145),\n",
       " (u's\\xf3lo', 145),\n",
       " (u'nos', 143),\n",
       " (u'pasado', 141),\n",
       " (u'era', 140),\n",
       " (u'despu\\xe9s', 139),\n",
       " (u'uno', 136),\n",
       " (u'ese', 135),\n",
       " (u'hace', 134),\n",
       " (u'todos', 132),\n",
       " (u'tres', 131),\n",
       " (u'durante', 130),\n",
       " (u'ni', 129),\n",
       " (u'otros', 129),\n",
       " (u'?', 129),\n",
       " (u'quien', 127),\n",
       " (u'mundo', 123),\n",
       " (u'otro', 123),\n",
       " (u'ahora', 123)]"
      ]
     },
     "execution_count": 156,
     "metadata": {},
     "output_type": "execute_result"
    }
   ],
   "source": []
  },
  {
   "cell_type": "markdown",
   "metadata": {
    "collapsed": true
   },
   "source": [
    "# Scrap Cities-Countries from wikipedia"
   ]
  },
  {
   "cell_type": "code",
   "execution_count": 3,
   "metadata": {
    "collapsed": false
   },
   "outputs": [],
   "source": [
    "url = \"https://es.wikipedia.org/wiki/Anexo:Aglomeraciones_urbanas_m%C3%A1s_pobladas_del_mundo\"\n",
    "source = urllib2.urlopen(url).read()\n",
    "pageSoup = bs4.BeautifulSoup(source,'html.parser')\n"
   ]
  },
  {
   "cell_type": "code",
   "execution_count": 33,
   "metadata": {
    "collapsed": false
   },
   "outputs": [
    {
     "name": "stdout",
     "output_type": "stream",
     "text": [
      "number of tables 15\n"
     ]
    },
    {
     "data": {
      "text/plain": [
       "u'Cant\\xf3n'"
      ]
     },
     "execution_count": 33,
     "metadata": {},
     "output_type": "execute_result"
    }
   ],
   "source": [
    "c =\"wikitable sortable\"\n",
    "tables = pageSoup.find_all(\"table\",{'class': c})\n",
    "print \"number of tables %i\" %len(tables)\n",
    "tables[0].find_all(\"tr\")[1].find_all(\"td\")[1].find('a').contents[0]"
   ]
  },
  {
   "cell_type": "code",
   "execution_count": 62,
   "metadata": {
    "collapsed": false
   },
   "outputs": [
    {
     "data": {
      "text/html": [
       "<div>\n",
       "<table border=\"1\" class=\"dataframe\">\n",
       "  <thead>\n",
       "    <tr style=\"text-align: right;\">\n",
       "      <th></th>\n",
       "      <th>city</th>\n",
       "      <th>country</th>\n",
       "    </tr>\n",
       "  </thead>\n",
       "  <tbody>\n",
       "    <tr>\n",
       "      <th>0</th>\n",
       "      <td>Cantón</td>\n",
       "      <td>China</td>\n",
       "    </tr>\n",
       "    <tr>\n",
       "      <th>1</th>\n",
       "      <td>Tokio</td>\n",
       "      <td>Japón</td>\n",
       "    </tr>\n",
       "    <tr>\n",
       "      <th>2</th>\n",
       "      <td>Shangái</td>\n",
       "      <td>China</td>\n",
       "    </tr>\n",
       "    <tr>\n",
       "      <th>3</th>\n",
       "      <td>Yakarta</td>\n",
       "      <td>Indonesia</td>\n",
       "    </tr>\n",
       "    <tr>\n",
       "      <th>4</th>\n",
       "      <td>Delhi</td>\n",
       "      <td>India</td>\n",
       "    </tr>\n",
       "    <tr>\n",
       "      <th>5</th>\n",
       "      <td>Karachi</td>\n",
       "      <td>Pakistán</td>\n",
       "    </tr>\n",
       "    <tr>\n",
       "      <th>6</th>\n",
       "      <td>Seúl</td>\n",
       "      <td>Corea del Sur</td>\n",
       "    </tr>\n",
       "    <tr>\n",
       "      <th>7</th>\n",
       "      <td>Manila</td>\n",
       "      <td>Filipinas</td>\n",
       "    </tr>\n",
       "    <tr>\n",
       "      <th>8</th>\n",
       "      <td>Bombay</td>\n",
       "      <td>India</td>\n",
       "    </tr>\n",
       "    <tr>\n",
       "      <th>9</th>\n",
       "      <td>Ciudad de México</td>\n",
       "      <td>México</td>\n",
       "    </tr>\n",
       "    <tr>\n",
       "      <th>10</th>\n",
       "      <td>Nueva York</td>\n",
       "      <td>Estados Unidos</td>\n",
       "    </tr>\n",
       "    <tr>\n",
       "      <th>11</th>\n",
       "      <td>São Paulo</td>\n",
       "      <td>Brasil</td>\n",
       "    </tr>\n",
       "    <tr>\n",
       "      <th>12</th>\n",
       "      <td>Pekín</td>\n",
       "      <td>China</td>\n",
       "    </tr>\n",
       "    <tr>\n",
       "      <th>13</th>\n",
       "      <td>Daca</td>\n",
       "      <td>Bangladés</td>\n",
       "    </tr>\n",
       "    <tr>\n",
       "      <th>14</th>\n",
       "      <td>Osaka</td>\n",
       "      <td>Japón</td>\n",
       "    </tr>\n",
       "    <tr>\n",
       "      <th>15</th>\n",
       "      <td>Los Ángeles</td>\n",
       "      <td>Estados Unidos</td>\n",
       "    </tr>\n",
       "    <tr>\n",
       "      <th>16</th>\n",
       "      <td>Lagos</td>\n",
       "      <td>Nigeria</td>\n",
       "    </tr>\n",
       "    <tr>\n",
       "      <th>17</th>\n",
       "      <td>Bangkok</td>\n",
       "      <td>Tailandia</td>\n",
       "    </tr>\n",
       "    <tr>\n",
       "      <th>18</th>\n",
       "      <td>Moscú</td>\n",
       "      <td>Rusia</td>\n",
       "    </tr>\n",
       "    <tr>\n",
       "      <th>19</th>\n",
       "      <td>Cairo</td>\n",
       "      <td>Egipto</td>\n",
       "    </tr>\n",
       "    <tr>\n",
       "      <th>20</th>\n",
       "      <td>Calcuta</td>\n",
       "      <td>India</td>\n",
       "    </tr>\n",
       "    <tr>\n",
       "      <th>21</th>\n",
       "      <td>Buenos Aires</td>\n",
       "      <td>Argentina</td>\n",
       "    </tr>\n",
       "    <tr>\n",
       "      <th>22</th>\n",
       "      <td>Estambul</td>\n",
       "      <td>Turquía</td>\n",
       "    </tr>\n",
       "    <tr>\n",
       "      <th>23</th>\n",
       "      <td>Londres</td>\n",
       "      <td>Reino Unido</td>\n",
       "    </tr>\n",
       "    <tr>\n",
       "      <th>24</th>\n",
       "      <td>Teherán</td>\n",
       "      <td>Irán</td>\n",
       "    </tr>\n",
       "    <tr>\n",
       "      <th>25</th>\n",
       "      <td>Johannesburgo</td>\n",
       "      <td>Sudáfrica</td>\n",
       "    </tr>\n",
       "    <tr>\n",
       "      <th>26</th>\n",
       "      <td>Río de Janeiro</td>\n",
       "      <td>Brasil</td>\n",
       "    </tr>\n",
       "    <tr>\n",
       "      <th>27</th>\n",
       "      <td>Tianjin</td>\n",
       "      <td>China</td>\n",
       "    </tr>\n",
       "    <tr>\n",
       "      <th>28</th>\n",
       "      <td>París</td>\n",
       "      <td>Francia</td>\n",
       "    </tr>\n",
       "    <tr>\n",
       "      <th>29</th>\n",
       "      <td>Kinsasa</td>\n",
       "      <td>República Democrática del Congo</td>\n",
       "    </tr>\n",
       "    <tr>\n",
       "      <th>...</th>\n",
       "      <td>...</td>\n",
       "      <td>...</td>\n",
       "    </tr>\n",
       "    <tr>\n",
       "      <th>807</th>\n",
       "      <td>San Petersburgo</td>\n",
       "      <td>Rusia</td>\n",
       "    </tr>\n",
       "    <tr>\n",
       "      <th>808</th>\n",
       "      <td>Kiev</td>\n",
       "      <td>Ucrania</td>\n",
       "    </tr>\n",
       "    <tr>\n",
       "      <th>809</th>\n",
       "      <td>Budapest</td>\n",
       "      <td>Hungría</td>\n",
       "    </tr>\n",
       "    <tr>\n",
       "      <th>810</th>\n",
       "      <td>Katowice</td>\n",
       "      <td>Polonia</td>\n",
       "    </tr>\n",
       "    <tr>\n",
       "      <th>811</th>\n",
       "      <td>Varsovia</td>\n",
       "      <td>Polonia</td>\n",
       "    </tr>\n",
       "    <tr>\n",
       "      <th>812</th>\n",
       "      <td>Bucarest</td>\n",
       "      <td>Rumania</td>\n",
       "    </tr>\n",
       "    <tr>\n",
       "      <th>813</th>\n",
       "      <td>Minsk</td>\n",
       "      <td>Bielorrusia</td>\n",
       "    </tr>\n",
       "    <tr>\n",
       "      <th>814</th>\n",
       "      <td>Nizhny Novgorod</td>\n",
       "      <td>Rusia</td>\n",
       "    </tr>\n",
       "    <tr>\n",
       "      <th>815</th>\n",
       "      <td>Járkov</td>\n",
       "      <td>Ucrania</td>\n",
       "    </tr>\n",
       "    <tr>\n",
       "      <th>816</th>\n",
       "      <td>Donetsk</td>\n",
       "      <td>Ucrania</td>\n",
       "    </tr>\n",
       "    <tr>\n",
       "      <th>817</th>\n",
       "      <td>Praga</td>\n",
       "      <td>República Checa</td>\n",
       "    </tr>\n",
       "    <tr>\n",
       "      <th>818</th>\n",
       "      <td>Volgogrado</td>\n",
       "      <td>Rusia</td>\n",
       "    </tr>\n",
       "    <tr>\n",
       "      <th>819</th>\n",
       "      <td>Belgrado</td>\n",
       "      <td>Serbia</td>\n",
       "    </tr>\n",
       "    <tr>\n",
       "      <th>820</th>\n",
       "      <td>Dnipropetrovsk</td>\n",
       "      <td>Ucrania</td>\n",
       "    </tr>\n",
       "    <tr>\n",
       "      <th>821</th>\n",
       "      <td>Sofía</td>\n",
       "      <td>Bulgaria</td>\n",
       "    </tr>\n",
       "    <tr>\n",
       "      <th>822</th>\n",
       "      <td>Samara</td>\n",
       "      <td>Rusia</td>\n",
       "    </tr>\n",
       "    <tr>\n",
       "      <th>823</th>\n",
       "      <td>Rostov del Don</td>\n",
       "      <td>Rusia</td>\n",
       "    </tr>\n",
       "    <tr>\n",
       "      <th>824</th>\n",
       "      <td>Kazán</td>\n",
       "      <td>Rusia</td>\n",
       "    </tr>\n",
       "    <tr>\n",
       "      <th>825</th>\n",
       "      <td>Ufá</td>\n",
       "      <td>Rusia</td>\n",
       "    </tr>\n",
       "    <tr>\n",
       "      <th>826</th>\n",
       "      <td>Odesa</td>\n",
       "      <td>Ucrania</td>\n",
       "    </tr>\n",
       "    <tr>\n",
       "      <th>827</th>\n",
       "      <td>Perm</td>\n",
       "      <td>Rusia</td>\n",
       "    </tr>\n",
       "    <tr>\n",
       "      <th>828</th>\n",
       "      <td>Sarátov</td>\n",
       "      <td>Rusia</td>\n",
       "    </tr>\n",
       "    <tr>\n",
       "      <th>829</th>\n",
       "      <td>Vorónezh</td>\n",
       "      <td>Rusia</td>\n",
       "    </tr>\n",
       "    <tr>\n",
       "      <th>830</th>\n",
       "      <td>Sídney</td>\n",
       "      <td>Australia</td>\n",
       "    </tr>\n",
       "    <tr>\n",
       "      <th>831</th>\n",
       "      <td>Melbourne</td>\n",
       "      <td>Australia</td>\n",
       "    </tr>\n",
       "    <tr>\n",
       "      <th>832</th>\n",
       "      <td>Brisbane</td>\n",
       "      <td>Australia</td>\n",
       "    </tr>\n",
       "    <tr>\n",
       "      <th>833</th>\n",
       "      <td>Perth</td>\n",
       "      <td>Australia</td>\n",
       "    </tr>\n",
       "    <tr>\n",
       "      <th>834</th>\n",
       "      <td>Auckland</td>\n",
       "      <td>Nueva Zelanda</td>\n",
       "    </tr>\n",
       "    <tr>\n",
       "      <th>835</th>\n",
       "      <td>Adelaida</td>\n",
       "      <td>Australia</td>\n",
       "    </tr>\n",
       "    <tr>\n",
       "      <th>836</th>\n",
       "      <td>Honolulu</td>\n",
       "      <td>Estados Unidos</td>\n",
       "    </tr>\n",
       "  </tbody>\n",
       "</table>\n",
       "<p>837 rows × 2 columns</p>\n",
       "</div>"
      ],
      "text/plain": [
       "                 city                          country\n",
       "0              Cantón                            China\n",
       "1               Tokio                            Japón\n",
       "2             Shangái                            China\n",
       "3             Yakarta                        Indonesia\n",
       "4               Delhi                            India\n",
       "5             Karachi                         Pakistán\n",
       "6                Seúl                    Corea del Sur\n",
       "7              Manila                        Filipinas\n",
       "8              Bombay                            India\n",
       "9    Ciudad de México                           México\n",
       "10         Nueva York                   Estados Unidos\n",
       "11          São Paulo                           Brasil\n",
       "12              Pekín                            China\n",
       "13               Daca                        Bangladés\n",
       "14              Osaka                            Japón\n",
       "15        Los Ángeles                   Estados Unidos\n",
       "16              Lagos                          Nigeria\n",
       "17            Bangkok                        Tailandia\n",
       "18              Moscú                            Rusia\n",
       "19              Cairo                           Egipto\n",
       "20            Calcuta                            India\n",
       "21       Buenos Aires                        Argentina\n",
       "22           Estambul                          Turquía\n",
       "23            Londres                      Reino Unido\n",
       "24            Teherán                             Irán\n",
       "25      Johannesburgo                        Sudáfrica\n",
       "26     Río de Janeiro                           Brasil\n",
       "27            Tianjin                            China\n",
       "28              París                          Francia\n",
       "29            Kinsasa  República Democrática del Congo\n",
       "..                ...                              ...\n",
       "807   San Petersburgo                            Rusia\n",
       "808              Kiev                          Ucrania\n",
       "809          Budapest                          Hungría\n",
       "810          Katowice                          Polonia\n",
       "811          Varsovia                          Polonia\n",
       "812          Bucarest                          Rumania\n",
       "813             Minsk                      Bielorrusia\n",
       "814   Nizhny Novgorod                            Rusia\n",
       "815            Járkov                          Ucrania\n",
       "816           Donetsk                          Ucrania\n",
       "817             Praga                  República Checa\n",
       "818        Volgogrado                            Rusia\n",
       "819          Belgrado                           Serbia\n",
       "820    Dnipropetrovsk                          Ucrania\n",
       "821             Sofía                         Bulgaria\n",
       "822            Samara                            Rusia\n",
       "823    Rostov del Don                            Rusia\n",
       "824             Kazán                            Rusia\n",
       "825               Ufá                            Rusia\n",
       "826             Odesa                          Ucrania\n",
       "827              Perm                            Rusia\n",
       "828           Sarátov                            Rusia\n",
       "829          Vorónezh                            Rusia\n",
       "830            Sídney                        Australia\n",
       "831         Melbourne                        Australia\n",
       "832          Brisbane                        Australia\n",
       "833             Perth                        Australia\n",
       "834          Auckland                    Nueva Zelanda\n",
       "835          Adelaida                        Australia\n",
       "836          Honolulu                   Estados Unidos\n",
       "\n",
       "[837 rows x 2 columns]"
      ]
     },
     "execution_count": 62,
     "metadata": {},
     "output_type": "execute_result"
    }
   ],
   "source": [
    "data = []\n",
    "for table in tables:\n",
    "    rows = table.find_all(\"tr\")\n",
    "    for row_ix, row in enumerate(rows):\n",
    "        if row_ix == 0:\n",
    "            continue\n",
    "            \n",
    "        columns = row.find_all(\"td\")\n",
    "        city = columns[1].find('a').contents[0]\n",
    "        \n",
    "        \n",
    "        c_refs = columns[2].find_all('a')\n",
    "        if len(c_refs) == 1:\n",
    "            country = c_refs[0].contents[0]\n",
    "        else:\n",
    "            country = c_refs[1].contents[0]\n",
    "            \n",
    "\n",
    "        data.append([city, country])\n",
    "cities = pd.DataFrame(data,columns=[\"city\",\"country\"])\n",
    "cities"
   ]
  },
  {
   "cell_type": "code",
   "execution_count": 68,
   "metadata": {
    "collapsed": false
   },
   "outputs": [
    {
     "name": "stdout",
     "output_type": "stream",
     "text": [
      "(837, 2)\n",
      "(585,)\n"
     ]
    }
   ],
   "source": [
    "print cities.shape\n",
    "print cities.city.unique().shape"
   ]
  },
  {
   "cell_type": "code",
   "execution_count": 69,
   "metadata": {
    "collapsed": true
   },
   "outputs": [],
   "source": [
    "cities.loc[:,\"combined\"] = cities.country + [\"-\" for i in range(cities.shape[0])] + cities.city"
   ]
  },
  {
   "cell_type": "code",
   "execution_count": 72,
   "metadata": {
    "collapsed": false
   },
   "outputs": [
    {
     "name": "stdout",
     "output_type": "stream",
     "text": [
      "(837, 3)\n",
      "(585,)\n",
      "(588,)\n"
     ]
    }
   ],
   "source": [
    "print cities.shape\n",
    "u_cities = cities.drop_duplicates()\n",
    "print u_cities.city.unique().shape \n",
    "print u_cities.combined.unique().shape "
   ]
  },
  {
   "cell_type": "code",
   "execution_count": 75,
   "metadata": {
    "collapsed": false
   },
   "outputs": [
    {
     "data": {
      "text/html": [
       "<div>\n",
       "<table border=\"1\" class=\"dataframe\">\n",
       "  <thead>\n",
       "    <tr style=\"text-align: right;\">\n",
       "      <th></th>\n",
       "      <th>city</th>\n",
       "      <th>country</th>\n",
       "      <th>combined</th>\n",
       "    </tr>\n",
       "  </thead>\n",
       "  <tbody>\n",
       "    <tr>\n",
       "      <th>39</th>\n",
       "      <td>Hyderabad</td>\n",
       "      <td>India</td>\n",
       "      <td>India-Hyderabad</td>\n",
       "    </tr>\n",
       "    <tr>\n",
       "      <th>99</th>\n",
       "      <td>Melbourne</td>\n",
       "      <td>Australia</td>\n",
       "      <td>Australia-Melbourne</td>\n",
       "    </tr>\n",
       "    <tr>\n",
       "      <th>276</th>\n",
       "      <td>Melbourne</td>\n",
       "      <td>Estados Unidos</td>\n",
       "      <td>Estados Unidos-Melbourne</td>\n",
       "    </tr>\n",
       "    <tr>\n",
       "      <th>326</th>\n",
       "      <td>Valencia</td>\n",
       "      <td>Venezuela</td>\n",
       "      <td>Venezuela-Valencia</td>\n",
       "    </tr>\n",
       "    <tr>\n",
       "      <th>481</th>\n",
       "      <td>Hyderabad</td>\n",
       "      <td>Pakistán</td>\n",
       "      <td>Pakistán-Hyderabad</td>\n",
       "    </tr>\n",
       "    <tr>\n",
       "      <th>740</th>\n",
       "      <td>Valencia</td>\n",
       "      <td>España</td>\n",
       "      <td>España-Valencia</td>\n",
       "    </tr>\n",
       "  </tbody>\n",
       "</table>\n",
       "</div>"
      ],
      "text/plain": [
       "          city         country                  combined\n",
       "39   Hyderabad           India           India-Hyderabad\n",
       "99   Melbourne       Australia       Australia-Melbourne\n",
       "276  Melbourne  Estados Unidos  Estados Unidos-Melbourne\n",
       "326   Valencia       Venezuela        Venezuela-Valencia\n",
       "481  Hyderabad        Pakistán        Pakistán-Hyderabad\n",
       "740   Valencia          España           España-Valencia"
      ]
     },
     "execution_count": 75,
     "metadata": {},
     "output_type": "execute_result"
    }
   ],
   "source": [
    "u_cities[u_cities.city.duplicated(keep=False)]"
   ]
  },
  {
   "cell_type": "code",
   "execution_count": 77,
   "metadata": {
    "collapsed": false
   },
   "outputs": [],
   "source": [
    "u_cities.drop(\"combined\", 1).to_csv(\"../files/ciudades_mundo.csv\", encoding=\"utf-8\")"
   ]
  },
  {
   "cell_type": "code",
   "execution_count": null,
   "metadata": {
    "collapsed": true
   },
   "outputs": [],
   "source": []
  }
 ],
 "metadata": {
  "anaconda-cloud": {},
  "kernelspec": {
   "display_name": "Python [conda root]",
   "language": "python",
   "name": "conda-root-py"
  },
  "language_info": {
   "codemirror_mode": {
    "name": "ipython",
    "version": 2
   },
   "file_extension": ".py",
   "mimetype": "text/x-python",
   "name": "python",
   "nbconvert_exporter": "python",
   "pygments_lexer": "ipython2",
   "version": "2.7.12"
  }
 },
 "nbformat": 4,
 "nbformat_minor": 1
}
