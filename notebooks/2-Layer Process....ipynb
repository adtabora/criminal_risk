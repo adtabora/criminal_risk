{
 "cells": [
  {
   "cell_type": "code",
   "execution_count": 1,
   "metadata": {
    "collapsed": true
   },
   "outputs": [],
   "source": [
    "import pandas as pd\n",
    "import numpy as np\n",
    "import ast\n",
    "from sklearn.metrics import f1_score, make_scorer, classification_report, precision_recall_fscore_support\n",
    "from sklearn.ensemble import RandomForestClassifier\n",
    "from sklearn.model_selection import GridSearchCV\n",
    "import unicodedata\n",
    "from sklearn.preprocessing import LabelEncoder"
   ]
  },
  {
   "cell_type": "code",
   "execution_count": 52,
   "metadata": {
    "collapsed": true
   },
   "outputs": [],
   "source": [
    "train_df = pd.read_csv(\"../files/ner_features_train.csv\")\n",
    "test_df = pd.read_csv(\"../files/ner_features_test.csv\")"
   ]
  },
  {
   "cell_type": "code",
   "execution_count": 66,
   "metadata": {
    "collapsed": false
   },
   "outputs": [],
   "source": [
    "preds_train = ((train_df[\"in_Country\"] | train_df[\"in_State\"] | train_df[\"in_City\"]) & train_df[\"upper\"]).apply(lambda x: int(not x)).tolist()\n",
    "preds_test = ((test_df[\"in_Country\"] | test_df[\"in_State\"] | test_df[\"in_City\"]) & test_df[\"upper\"]).apply(lambda x: int(not x)).tolist()"
   ]
  },
  {
   "cell_type": "code",
   "execution_count": 67,
   "metadata": {
    "collapsed": false
   },
   "outputs": [
    {
     "name": "stdout",
     "output_type": "stream",
     "text": [
      "- Train Results -\n",
      "             precision    recall  f1-score   support\n",
      "\n",
      "          0       0.89      0.52      0.65      1595\n",
      "          1       0.99      1.00      0.99     53792\n",
      "\n",
      "avg / total       0.98      0.98      0.98     55387\n",
      "\n",
      "- Test Results -\n",
      "             precision    recall  f1-score   support\n",
      "\n",
      "          0       0.88      0.50      0.64       413\n",
      "          1       0.98      1.00      0.99     13448\n",
      "\n",
      "avg / total       0.98      0.98      0.98     13861\n",
      "\n"
     ]
    }
   ],
   "source": [
    "print \"- Train Results -\"\n",
    "print classification_report(y_train, preds_train )\n",
    "\n",
    "print \"- Test Results -\"\n",
    "print classification_report(y_test, preds_test)\n",
    "\n",
    "#  0.84      0.52      0.65 \n",
    "#  0.84      0.51      0.63"
   ]
  },
  {
   "cell_type": "markdown",
   "metadata": {},
   "source": [
    "# ..."
   ]
  },
  {
   "cell_type": "code",
   "execution_count": 71,
   "metadata": {
    "collapsed": false
   },
   "outputs": [],
   "source": [
    "# train_df2[(train_df2[\"pred\"]==0)&(train_df2[\"iob\"]==1)][[\"art_id\",\"sent_id\",\"pos\",  \"word\",\"in_Country\",\"in_State\",\"in_City\"]]"
   ]
  },
  {
   "cell_type": "code",
   "execution_count": 38,
   "metadata": {
    "collapsed": false
   },
   "outputs": [],
   "source": [
    "countries_df = pd.read_csv(\"../files/countries.csv\", encoding=\"utf-8\")\n",
    "dep_mun_df = pd.read_csv(\"../files/DepartamentosMunicipios.csv\", encoding=\"utf-8\")\n",
    "world_cities = pd.read_csv(\"../files/ciudades_mundo.csv\", encoding=\"utf-8\")\n",
    "countries_df.value = countries_df.value.apply(lambda x: to_ascii(x).lower() )\n",
    "dep_mun_df.Departamento = dep_mun_df.Departamento.apply(lambda x: to_ascii(x).lower() )\n",
    "dep_mun_df.Municipio = dep_mun_df.Municipio.apply(lambda x: to_ascii(x).lower() )\n",
    "world_cities.city = world_cities.city.apply(lambda x: to_ascii(x).lower() )"
   ]
  },
  {
   "cell_type": "markdown",
   "metadata": {},
   "source": [
    "# Layer 2"
   ]
  },
  {
   "cell_type": "code",
   "execution_count": 53,
   "metadata": {
    "collapsed": true
   },
   "outputs": [],
   "source": [
    "# formats in X and y\n",
    "def getXY(df, dropColumns, includeColumns=None, names=False):\n",
    "#     df = addNewFeatures(df)\n",
    "    if includeColumns == None:\n",
    "        X = df.drop(dropColumns, 1).values\n",
    "    else:\n",
    "        X = df[includeColumns].values\n",
    "    y = df.iob.values\n",
    "    # print \"-- iob counts --\"\n",
    "    # print df.iob.value_counts()\n",
    "    if names:\n",
    "        features_names = df.drop(dropColumns, 1).columns\n",
    "        return X, y, features_names\n",
    "    return X, y"
   ]
  },
  {
   "cell_type": "code",
   "execution_count": 68,
   "metadata": {
    "collapsed": true
   },
   "outputs": [],
   "source": [
    "def to_ascii(s):\n",
    "    return unicodedata.normalize('NFKD', s).encode('ascii', 'ignore')"
   ]
  },
  {
   "cell_type": "code",
   "execution_count": 82,
   "metadata": {
    "collapsed": false
   },
   "outputs": [],
   "source": [
    "train_df2 = train_df.copy()\n",
    "test_df2 = test_df.copy()\n",
    "\n",
    "train_df2.loc[:,\"pred\"] = preds_train\n",
    "test_df2.loc[:,\"pred\"] = preds_test\n",
    "\n",
    "#filter out the \"positive\" ones\n",
    "\n",
    "train_df2 = train_df2[train_df2[\"pred\"]==1]\n",
    "test_df2 = test_df2[test_df2[\"pred\"]==1]"
   ]
  },
  {
   "cell_type": "code",
   "execution_count": 83,
   "metadata": {
    "collapsed": true
   },
   "outputs": [],
   "source": [
    "desc_columns = [\"art_id\",\"sent_id\", \"cs_id\",\"word\", \"iob_tag\",\"iob\" ,\"geo_type\",\n",
    "#                 \"first\", \"first_sent\", \"next_2\", \"pos_tag\", \"next_1\", \"prev_2\"\n",
    "               ]\n",
    "X_train, y_train, features_names = getXY(train_df2, desc_columns, names=True)\n",
    "X_test, y_test = getXY(test_df2, desc_columns)"
   ]
  },
  {
   "cell_type": "code",
   "execution_count": 84,
   "metadata": {
    "collapsed": true
   },
   "outputs": [],
   "source": [
    "def train_score(model, params, X_train, y_train, X_test, y_test):\n",
    "    f_one_scorer = make_scorer(f1_score,labels=[0], average=\"weighted\")\n",
    "    clf = GridSearchCV(model, params, cv=5, scoring= f_one_scorer, verbose=1, n_jobs=4 )\n",
    "    clf.fit(X_train, y_train)\n",
    "\n",
    "    print clf.best_score_\n",
    "    print clf.best_params_\n",
    "    print clf.cv_results_['mean_train_score']\n",
    "    print clf.cv_results_['mean_test_score']\n",
    "        \n",
    "    print \"- Train Results -\"\n",
    "    preds_train = clf.predict(X_train)\n",
    "    print classification_report(y_train, preds_train )\n",
    "    \n",
    "    print \"- Test Results -\"\n",
    "    preds_test = clf.predict(X_test)\n",
    "    print classification_report(y_test, preds_test)\n",
    "    \n",
    "    return clf"
   ]
  },
  {
   "cell_type": "code",
   "execution_count": 85,
   "metadata": {
    "collapsed": false
   },
   "outputs": [
    {
     "name": "stdout",
     "output_type": "stream",
     "text": [
      "Fitting 5 folds for each of 4 candidates, totalling 20 fits\n"
     ]
    },
    {
     "name": "stderr",
     "output_type": "stream",
     "text": [
      "[Parallel(n_jobs=4)]: Done  20 out of  20 | elapsed:  1.8min finished\n"
     ]
    },
    {
     "name": "stdout",
     "output_type": "stream",
     "text": [
      "0.590388566832\n",
      "{'max_features': 0.5, 'min_samples_split': 4, 'n_estimators': 200, 'max_depth': 20}\n",
      "[ 0.97400444  0.96685014  0.94604985  0.86302794]\n",
      "[ 0.58224071  0.59038857  0.57906091  0.42799107]\n",
      "- Train Results -\n",
      "             precision    recall  f1-score   support\n",
      "\n",
      "          0       0.99      0.94      0.96       771\n",
      "          1       1.00      1.00      1.00     53689\n",
      "\n",
      "avg / total       1.00      1.00      1.00     54460\n",
      "\n",
      "- Test Results -\n",
      "             precision    recall  f1-score   support\n",
      "\n",
      "          0       0.81      0.50      0.62       206\n",
      "          1       0.99      1.00      1.00     13421\n",
      "\n",
      "avg / total       0.99      0.99      0.99     13627\n",
      "\n"
     ]
    }
   ],
   "source": [
    "parameters = {\n",
    "    \"n_estimators\": [200],\n",
    "    \"max_depth\": [20], #[3,4,5,8,10,20],\n",
    "    \"min_samples_split\" : [4],\n",
    "    \"max_features\": [.8,.5,.3,.1]\n",
    "}\n",
    "rfc = RandomForestClassifier(random_state= 233, n_jobs=4)\n",
    "clf = train_score(rfc, parameters, X_train, y_train, X_test, y_test)"
   ]
  },
  {
   "cell_type": "code",
   "execution_count": 89,
   "metadata": {
    "collapsed": false
   },
   "outputs": [
    {
     "data": {
      "text/html": [
       "<div>\n",
       "<table border=\"1\" class=\"dataframe\">\n",
       "  <thead>\n",
       "    <tr style=\"text-align: right;\">\n",
       "      <th></th>\n",
       "      <th>art_id</th>\n",
       "      <th>sent_id</th>\n",
       "      <th>cs_id</th>\n",
       "      <th>pos</th>\n",
       "      <th>word</th>\n",
       "      <th>pos_tag</th>\n",
       "      <th>iob_tag</th>\n",
       "      <th>iob</th>\n",
       "      <th>geo_type</th>\n",
       "      <th>upper</th>\n",
       "      <th>...</th>\n",
       "      <th>next_2</th>\n",
       "      <th>prev_prefix_1</th>\n",
       "      <th>prev_prefix_2</th>\n",
       "      <th>sent_size</th>\n",
       "      <th>in_Country</th>\n",
       "      <th>in_State</th>\n",
       "      <th>in_City</th>\n",
       "      <th>pred</th>\n",
       "      <th>pred2</th>\n",
       "      <th>pred_final</th>\n",
       "    </tr>\n",
       "  </thead>\n",
       "  <tbody>\n",
       "    <tr>\n",
       "      <th>0</th>\n",
       "      <td>3</td>\n",
       "      <td>1</td>\n",
       "      <td>1</td>\n",
       "      <td>3</td>\n",
       "      <td>momento</td>\n",
       "      <td>22</td>\n",
       "      <td>none</td>\n",
       "      <td>1</td>\n",
       "      <td>none</td>\n",
       "      <td>0</td>\n",
       "      <td>...</td>\n",
       "      <td>22</td>\n",
       "      <td>0</td>\n",
       "      <td>0</td>\n",
       "      <td>32</td>\n",
       "      <td>0</td>\n",
       "      <td>0</td>\n",
       "      <td>0</td>\n",
       "      <td>1</td>\n",
       "      <td>1.0</td>\n",
       "      <td>1</td>\n",
       "    </tr>\n",
       "    <tr>\n",
       "      <th>1</th>\n",
       "      <td>3</td>\n",
       "      <td>1</td>\n",
       "      <td>1</td>\n",
       "      <td>7</td>\n",
       "      <td>sido</td>\n",
       "      <td>47</td>\n",
       "      <td>none</td>\n",
       "      <td>1</td>\n",
       "      <td>none</td>\n",
       "      <td>0</td>\n",
       "      <td>...</td>\n",
       "      <td>3</td>\n",
       "      <td>0</td>\n",
       "      <td>0</td>\n",
       "      <td>32</td>\n",
       "      <td>0</td>\n",
       "      <td>0</td>\n",
       "      <td>0</td>\n",
       "      <td>1</td>\n",
       "      <td>1.0</td>\n",
       "      <td>1</td>\n",
       "    </tr>\n",
       "    <tr>\n",
       "      <th>2</th>\n",
       "      <td>3</td>\n",
       "      <td>1</td>\n",
       "      <td>1</td>\n",
       "      <td>31</td>\n",
       "      <td>Rivera</td>\n",
       "      <td>22</td>\n",
       "      <td>none</td>\n",
       "      <td>1</td>\n",
       "      <td>none</td>\n",
       "      <td>1</td>\n",
       "      <td>...</td>\n",
       "      <td>1</td>\n",
       "      <td>0</td>\n",
       "      <td>0</td>\n",
       "      <td>32</td>\n",
       "      <td>0</td>\n",
       "      <td>0</td>\n",
       "      <td>0</td>\n",
       "      <td>1</td>\n",
       "      <td>1.0</td>\n",
       "      <td>1</td>\n",
       "    </tr>\n",
       "    <tr>\n",
       "      <th>3</th>\n",
       "      <td>3</td>\n",
       "      <td>2</td>\n",
       "      <td>2</td>\n",
       "      <td>0</td>\n",
       "      <td>Los</td>\n",
       "      <td>4</td>\n",
       "      <td>none</td>\n",
       "      <td>1</td>\n",
       "      <td>none</td>\n",
       "      <td>1</td>\n",
       "      <td>...</td>\n",
       "      <td>34</td>\n",
       "      <td>0</td>\n",
       "      <td>0</td>\n",
       "      <td>16</td>\n",
       "      <td>0</td>\n",
       "      <td>0</td>\n",
       "      <td>0</td>\n",
       "      <td>1</td>\n",
       "      <td>1.0</td>\n",
       "      <td>1</td>\n",
       "    </tr>\n",
       "    <tr>\n",
       "      <th>4</th>\n",
       "      <td>3</td>\n",
       "      <td>2</td>\n",
       "      <td>2</td>\n",
       "      <td>1</td>\n",
       "      <td>operativos</td>\n",
       "      <td>1</td>\n",
       "      <td>none</td>\n",
       "      <td>1</td>\n",
       "      <td>none</td>\n",
       "      <td>0</td>\n",
       "      <td>...</td>\n",
       "      <td>4</td>\n",
       "      <td>0</td>\n",
       "      <td>0</td>\n",
       "      <td>16</td>\n",
       "      <td>0</td>\n",
       "      <td>0</td>\n",
       "      <td>0</td>\n",
       "      <td>1</td>\n",
       "      <td>1.0</td>\n",
       "      <td>1</td>\n",
       "    </tr>\n",
       "  </tbody>\n",
       "</table>\n",
       "<p>5 rows × 28 columns</p>\n",
       "</div>"
      ],
      "text/plain": [
       "   art_id  sent_id  cs_id  pos        word  pos_tag iob_tag  iob geo_type  \\\n",
       "0       3        1      1    3     momento       22    none    1     none   \n",
       "1       3        1      1    7        sido       47    none    1     none   \n",
       "2       3        1      1   31      Rivera       22    none    1     none   \n",
       "3       3        2      2    0         Los        4    none    1     none   \n",
       "4       3        2      2    1  operativos        1    none    1     none   \n",
       "\n",
       "   upper     ...      next_2  prev_prefix_1  prev_prefix_2  sent_size  \\\n",
       "0      0     ...          22              0              0         32   \n",
       "1      0     ...           3              0              0         32   \n",
       "2      1     ...           1              0              0         32   \n",
       "3      1     ...          34              0              0         16   \n",
       "4      0     ...           4              0              0         16   \n",
       "\n",
       "   in_Country  in_State  in_City  pred  pred2  pred_final  \n",
       "0           0         0        0     1    1.0           1  \n",
       "1           0         0        0     1    1.0           1  \n",
       "2           0         0        0     1    1.0           1  \n",
       "3           0         0        0     1    1.0           1  \n",
       "4           0         0        0     1    1.0           1  \n",
       "\n",
       "[5 rows x 28 columns]"
      ]
     },
     "execution_count": 89,
     "metadata": {},
     "output_type": "execute_result"
    }
   ],
   "source": [
    "final_test = test_df.copy()\n",
    "final_test.loc[:,\"pred\"] = preds_test\n",
    "final_test.loc[test_df2.index,\"pred2\"]= clf.predict(X_test)\n",
    "final_test.loc[:,\"pred_final\"]= (final_test.pred & final_test.pred2).apply(lambda x: int(x))\n",
    "\n",
    "final_test.head()"
   ]
  },
  {
   "cell_type": "code",
   "execution_count": 98,
   "metadata": {
    "collapsed": false
   },
   "outputs": [
    {
     "data": {
      "text/html": [
       "<div>\n",
       "<table border=\"1\" class=\"dataframe\">\n",
       "  <thead>\n",
       "    <tr style=\"text-align: right;\">\n",
       "      <th></th>\n",
       "      <th>art_id</th>\n",
       "      <th>sent_id</th>\n",
       "      <th>cs_id</th>\n",
       "      <th>pos</th>\n",
       "      <th>word</th>\n",
       "      <th>pos_tag</th>\n",
       "      <th>iob_tag</th>\n",
       "      <th>iob</th>\n",
       "      <th>geo_type</th>\n",
       "      <th>upper</th>\n",
       "      <th>...</th>\n",
       "      <th>next_2</th>\n",
       "      <th>prev_prefix_1</th>\n",
       "      <th>prev_prefix_2</th>\n",
       "      <th>sent_size</th>\n",
       "      <th>in_Country</th>\n",
       "      <th>in_State</th>\n",
       "      <th>in_City</th>\n",
       "      <th>pred</th>\n",
       "      <th>pred2</th>\n",
       "      <th>pred_final</th>\n",
       "    </tr>\n",
       "  </thead>\n",
       "  <tbody>\n",
       "  </tbody>\n",
       "</table>\n",
       "<p>0 rows × 28 columns</p>\n",
       "</div>"
      ],
      "text/plain": [
       "Empty DataFrame\n",
       "Columns: [art_id, sent_id, cs_id, pos, word, pos_tag, iob_tag, iob, geo_type, upper, upper_prev1, upper_next1, first, size, first_sent, prev_1, prev_2, next_1, next_2, prev_prefix_1, prev_prefix_2, sent_size, in_Country, in_State, in_City, pred, pred2, pred_final]\n",
       "Index: []\n",
       "\n",
       "[0 rows x 28 columns]"
      ]
     },
     "execution_count": 98,
     "metadata": {},
     "output_type": "execute_result"
    }
   ],
   "source": [
    "final_test[(final_test[\"pred_final\"]==0)&(final_test[\"pred2\"].isnull())&(final_test[\"pred\"]==1)].head(30)"
   ]
  },
  {
   "cell_type": "code",
   "execution_count": 93,
   "metadata": {
    "collapsed": false
   },
   "outputs": [
    {
     "name": "stdout",
     "output_type": "stream",
     "text": [
      "- Test Results -\n",
      "             precision    recall  f1-score   support\n",
      "\n",
      "          0       0.86      0.75      0.80       413\n",
      "          1       0.99      1.00      0.99     13448\n",
      "\n",
      "avg / total       0.99      0.99      0.99     13861\n",
      "\n"
     ]
    }
   ],
   "source": [
    "print \"- Test Results -\"\n",
    "print classification_report(final_test.iob.values, final_test.pred_final.values)"
   ]
  },
  {
   "cell_type": "code",
   "execution_count": null,
   "metadata": {
    "collapsed": true
   },
   "outputs": [],
   "source": []
  }
 ],
 "metadata": {
  "anaconda-cloud": {},
  "kernelspec": {
   "display_name": "Python [conda root]",
   "language": "python",
   "name": "conda-root-py"
  },
  "language_info": {
   "codemirror_mode": {
    "name": "ipython",
    "version": 2
   },
   "file_extension": ".py",
   "mimetype": "text/x-python",
   "name": "python",
   "nbconvert_exporter": "python",
   "pygments_lexer": "ipython2",
   "version": "2.7.12"
  }
 },
 "nbformat": 4,
 "nbformat_minor": 1
}
