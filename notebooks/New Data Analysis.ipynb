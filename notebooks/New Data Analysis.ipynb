{
 "cells": [
  {
   "cell_type": "markdown",
   "metadata": {},
   "source": [
    "# 0. Intro\n",
    "\n",
    "Analyze the new data and compare with the old data"
   ]
  },
  {
   "cell_type": "code",
   "execution_count": 63,
   "metadata": {
    "collapsed": true
   },
   "outputs": [],
   "source": [
    "import pandas as pd\n",
    "import numpy as np\n",
    "import unicodedata"
   ]
  },
  {
   "cell_type": "markdown",
   "metadata": {},
   "source": [
    "# 1. Documents\n",
    "Analyze the documents (articles) file "
   ]
  },
  {
   "cell_type": "code",
   "execution_count": 2,
   "metadata": {
    "collapsed": true
   },
   "outputs": [],
   "source": [
    "#read the csv\n",
    "documents = pd.read_csv(\"../files/documents.csv\")"
   ]
  },
  {
   "cell_type": "code",
   "execution_count": 3,
   "metadata": {
    "collapsed": false
   },
   "outputs": [
    {
     "data": {
      "text/html": [
       "<div>\n",
       "<table border=\"1\" class=\"dataframe\">\n",
       "  <thead>\n",
       "    <tr style=\"text-align: right;\">\n",
       "      <th></th>\n",
       "      <th>id</th>\n",
       "      <th>title</th>\n",
       "      <th>content</th>\n",
       "      <th>category</th>\n",
       "      <th>date</th>\n",
       "    </tr>\n",
       "  </thead>\n",
       "  <tbody>\n",
       "    <tr>\n",
       "      <th>0</th>\n",
       "      <td>0</td>\n",
       "      <td>Auditoría revela irregularidades en el Parlacen</td>\n",
       "      <td>GUATEMALA.- Una fiscalización de la Contralorí...</td>\n",
       "      <td>Other</td>\n",
       "      <td>28 Dic, 2009 - 7:27 pm</td>\n",
       "    </tr>\n",
       "    <tr>\n",
       "      <th>1</th>\n",
       "      <td>1</td>\n",
       "      <td>Suspendidas las citas en Hospital Escuela</td>\n",
       "      <td>TEGUCIGALPA.- Una misteriosa obstrucción del s...</td>\n",
       "      <td>Other</td>\n",
       "      <td>28 Dic, 2009 - 7:32 pm</td>\n",
       "    </tr>\n",
       "    <tr>\n",
       "      <th>2</th>\n",
       "      <td>2</td>\n",
       "      <td>Mariscos contaminados alarman a los “porteños”</td>\n",
       "      <td>PUERTO CORTES, Cortés.- Alarmados se encuentra...</td>\n",
       "      <td>Other</td>\n",
       "      <td>28 Dic, 2009 - 8:25 pm</td>\n",
       "    </tr>\n",
       "    <tr>\n",
       "      <th>3</th>\n",
       "      <td>3</td>\n",
       "      <td>Citan a 11 personas por vender pólvora</td>\n",
       "      <td>SAN PEDRO SULA.- Hasta el momento ocho bodegas...</td>\n",
       "      <td>Criminal</td>\n",
       "      <td>28 Dic, 2009 - 8:26 pm</td>\n",
       "    </tr>\n",
       "    <tr>\n",
       "      <th>4</th>\n",
       "      <td>4</td>\n",
       "      <td>Con compra de granos se paliaría hambruna en e...</td>\n",
       "      <td>TEGUCIGALPA.- No llueve hace cuatro meses y la...</td>\n",
       "      <td>Other</td>\n",
       "      <td>29 Dic, 2009 - 1:00 am</td>\n",
       "    </tr>\n",
       "  </tbody>\n",
       "</table>\n",
       "</div>"
      ],
      "text/plain": [
       "   id                                              title  \\\n",
       "0   0    Auditoría revela irregularidades en el Parlacen   \n",
       "1   1          Suspendidas las citas en Hospital Escuela   \n",
       "2   2     Mariscos contaminados alarman a los “porteños”   \n",
       "3   3             Citan a 11 personas por vender pólvora   \n",
       "4   4  Con compra de granos se paliaría hambruna en e...   \n",
       "\n",
       "                                             content  category  \\\n",
       "0  GUATEMALA.- Una fiscalización de la Contralorí...     Other   \n",
       "1  TEGUCIGALPA.- Una misteriosa obstrucción del s...     Other   \n",
       "2  PUERTO CORTES, Cortés.- Alarmados se encuentra...     Other   \n",
       "3  SAN PEDRO SULA.- Hasta el momento ocho bodegas...  Criminal   \n",
       "4  TEGUCIGALPA.- No llueve hace cuatro meses y la...     Other   \n",
       "\n",
       "                     date  \n",
       "0  28 Dic, 2009 - 7:27 pm  \n",
       "1  28 Dic, 2009 - 7:32 pm  \n",
       "2  28 Dic, 2009 - 8:25 pm  \n",
       "3  28 Dic, 2009 - 8:26 pm  \n",
       "4  29 Dic, 2009 - 1:00 am  "
      ]
     },
     "execution_count": 3,
     "metadata": {},
     "output_type": "execute_result"
    }
   ],
   "source": [
    "documents.head()"
   ]
  },
  {
   "cell_type": "markdown",
   "metadata": {},
   "source": [
    "## 1.1 Review the category distribution"
   ]
  },
  {
   "cell_type": "code",
   "execution_count": 15,
   "metadata": {
    "collapsed": false
   },
   "outputs": [
    {
     "name": "stdout",
     "output_type": "stream",
     "text": [
      "- Total\n",
      "2500\n",
      "Other       87.64\n",
      "Criminal    12.36\n",
      "Name: category, dtype: float64\n",
      "\n",
      "- Old\n",
      "2000\n",
      "Other       88.05\n",
      "Criminal    11.95\n",
      "Name: category, dtype: float64\n",
      "\n",
      "- New\n",
      "500\n",
      "Other       86.0\n",
      "Criminal    14.0\n",
      "Name: category, dtype: float64\n"
     ]
    }
   ],
   "source": [
    "def get_dist(df):\n",
    "    total = df.shape[0]\n",
    "    print total\n",
    "    print df.category.value_counts() * 100.0 / total\n",
    "    \n",
    "print \"- Total\"\n",
    "get_dist(documents) \n",
    "print\n",
    "print \"- Old\"\n",
    "get_dist(documents.loc[:1999])  \n",
    "print\n",
    "print \"- New\"\n",
    "get_dist(documents.loc[2000:])  \n",
    "\n"
   ]
  },
  {
   "cell_type": "code",
   "execution_count": 13,
   "metadata": {
    "collapsed": false
   },
   "outputs": [
    {
     "data": {
      "text/plain": [
       "(2000, 5)"
      ]
     },
     "execution_count": 13,
     "metadata": {},
     "output_type": "execute_result"
    }
   ],
   "source": [
    "documents.loc[:1999].shape"
   ]
  },
  {
   "cell_type": "markdown",
   "metadata": {},
   "source": [
    "# 2.  Criminal Article addresses"
   ]
  },
  {
   "cell_type": "code",
   "execution_count": 66,
   "metadata": {
    "collapsed": false
   },
   "outputs": [
    {
     "data": {
      "text/html": [
       "<div>\n",
       "<table border=\"1\" class=\"dataframe\">\n",
       "  <thead>\n",
       "    <tr style=\"text-align: right;\">\n",
       "      <th></th>\n",
       "      <th>article_id</th>\n",
       "      <th>title</th>\n",
       "      <th>content</th>\n",
       "      <th>relationships</th>\n",
       "    </tr>\n",
       "  </thead>\n",
       "  <tbody>\n",
       "    <tr>\n",
       "      <th>0</th>\n",
       "      <td>3</td>\n",
       "      <td>[[u'Citan', u'none'], [u'a', u'none'], [u'11',...</td>\n",
       "      <td>[[[u'SAN', u'B-City'], [u'PEDRO', u'I-City'], ...</td>\n",
       "      <td>[[{u'tag': u'B-Col', u'word': u'lomas del carm...</td>\n",
       "    </tr>\n",
       "  </tbody>\n",
       "</table>\n",
       "</div>"
      ],
      "text/plain": [
       "   article_id                                              title  \\\n",
       "0           3  [[u'Citan', u'none'], [u'a', u'none'], [u'11',...   \n",
       "\n",
       "                                             content  \\\n",
       "0  [[[u'SAN', u'B-City'], [u'PEDRO', u'I-City'], ...   \n",
       "\n",
       "                                       relationships  \n",
       "0  [[{u'tag': u'B-Col', u'word': u'lomas del carm...  "
      ]
     },
     "execution_count": 66,
     "metadata": {},
     "output_type": "execute_result"
    }
   ],
   "source": [
    "import ast \n",
    "#read the csv\n",
    "criminal = pd.read_csv(\"../files/criminal_articles.csv\")\n",
    "criminal.head(1)"
   ]
  },
  {
   "cell_type": "code",
   "execution_count": 61,
   "metadata": {
    "collapsed": true
   },
   "outputs": [],
   "source": [
    "# very useful function to avoid mispellings problems.\n",
    "def to_ascii(s):\n",
    "    return unicodedata.normalize('NFKD', s).encode('ascii', 'ignore')"
   ]
  },
  {
   "cell_type": "code",
   "execution_count": 67,
   "metadata": {
    "collapsed": false
   },
   "outputs": [
    {
     "data": {
      "text/html": [
       "<div>\n",
       "<table border=\"1\" class=\"dataframe\">\n",
       "  <thead>\n",
       "    <tr style=\"text-align: right;\">\n",
       "      <th></th>\n",
       "      <th>article_id</th>\n",
       "      <th>title</th>\n",
       "      <th>content</th>\n",
       "      <th>relationships</th>\n",
       "    </tr>\n",
       "  </thead>\n",
       "  <tbody>\n",
       "    <tr>\n",
       "      <th>0</th>\n",
       "      <td>3</td>\n",
       "      <td>[[Citan, none], [a, none], [11, none], [person...</td>\n",
       "      <td>[[[SAN, B-City], [PEDRO, I-City], [SULA, I-Cit...</td>\n",
       "      <td>[[{u'tag': u'B-Col', u'word': u'lomas del carm...</td>\n",
       "    </tr>\n",
       "    <tr>\n",
       "      <th>1</th>\n",
       "      <td>5</td>\n",
       "      <td>[[DEI, none], [pide, none], [denunciar, none],...</td>\n",
       "      <td>[[[TEGUCIGALPA, B-City]], [[-, none], [Autorid...</td>\n",
       "      <td>[]</td>\n",
       "    </tr>\n",
       "    <tr>\n",
       "      <th>2</th>\n",
       "      <td>9</td>\n",
       "      <td>[[Alcaldía, none], [intensifica, none], [opera...</td>\n",
       "      <td>[[[TEGUCIGALPA, B-City]], [[-, none], [Pese, n...</td>\n",
       "      <td>[[{u'tag': u'B-Col', u'word': u'kennedy'}, {u'...</td>\n",
       "    </tr>\n",
       "    <tr>\n",
       "      <th>3</th>\n",
       "      <td>11</td>\n",
       "      <td>[[Pasajeros, none], [asaltantes, none], [acrib...</td>\n",
       "      <td>[[[PUERTO, B-City], [CORTES, I-City], [,, none...</td>\n",
       "      <td>[[{u'tag': u'B-City', u'word': u'puerto cortes...</td>\n",
       "    </tr>\n",
       "    <tr>\n",
       "      <th>4</th>\n",
       "      <td>12</td>\n",
       "      <td>[[Fallece, none], [comerciante, none], [olanch...</td>\n",
       "      <td>[[[JUTICALPA, B-City], [,, none], [Olancho, B-...</td>\n",
       "      <td>[[{u'tag': u'B-City', u'word': u'juticalpa'}, ...</td>\n",
       "    </tr>\n",
       "  </tbody>\n",
       "</table>\n",
       "</div>"
      ],
      "text/plain": [
       "   article_id                                              title  \\\n",
       "0           3  [[Citan, none], [a, none], [11, none], [person...   \n",
       "1           5  [[DEI, none], [pide, none], [denunciar, none],...   \n",
       "2           9  [[Alcaldía, none], [intensifica, none], [opera...   \n",
       "3          11  [[Pasajeros, none], [asaltantes, none], [acrib...   \n",
       "4          12  [[Fallece, none], [comerciante, none], [olanch...   \n",
       "\n",
       "                                             content  \\\n",
       "0  [[[SAN, B-City], [PEDRO, I-City], [SULA, I-Cit...   \n",
       "1  [[[TEGUCIGALPA, B-City]], [[-, none], [Autorid...   \n",
       "2  [[[TEGUCIGALPA, B-City]], [[-, none], [Pese, n...   \n",
       "3  [[[PUERTO, B-City], [CORTES, I-City], [,, none...   \n",
       "4  [[[JUTICALPA, B-City], [,, none], [Olancho, B-...   \n",
       "\n",
       "                                       relationships  \n",
       "0  [[{u'tag': u'B-Col', u'word': u'lomas del carm...  \n",
       "1                                                 []  \n",
       "2  [[{u'tag': u'B-Col', u'word': u'kennedy'}, {u'...  \n",
       "3  [[{u'tag': u'B-City', u'word': u'puerto cortes...  \n",
       "4  [[{u'tag': u'B-City', u'word': u'juticalpa'}, ...  "
      ]
     },
     "execution_count": 67,
     "metadata": {},
     "output_type": "execute_result"
    }
   ],
   "source": [
    "criminal.title = criminal.title.apply(lambda x: ast.literal_eval(x))\n",
    "criminal.content = criminal.content.apply(lambda x: ast.literal_eval(x))\n",
    "criminal.relationships = criminal.relationships.apply(lambda x: ast.literal_eval(x))\n",
    "\n",
    "def rel_to_ascii(relationships):\n",
    "    for idx, rel in enumerate(relationships):\n",
    "        relationships[idx][0][\"word\"] = to_ascii(rel[0][\"word\"])\n",
    "        relationships[idx][1][\"word\"] = to_ascii(rel[1][\"word\"])\n",
    "    return relationships\n",
    "\n",
    "criminal.relationships = criminal.relationships.apply(lambda x: rel_to_ascii(x))\n",
    "\n",
    "criminal.head()"
   ]
  },
  {
   "cell_type": "markdown",
   "metadata": {},
   "source": [
    "# 2.1 Extract addresses using relationships"
   ]
  },
  {
   "cell_type": "code",
   "execution_count": 64,
   "metadata": {
    "collapsed": false
   },
   "outputs": [
    {
     "data": {
      "text/plain": [
       "['san pedro sula',\n",
       " 'lomas del carmen',\n",
       " 'monumento a la madre',\n",
       " 'primera avenida',\n",
       " 'parque central']"
      ]
     },
     "execution_count": 64,
     "metadata": {},
     "output_type": "execute_result"
    }
   ],
   "source": [
    "def getEntities(content):\n",
    "    entities = []\n",
    "    for sent in content:\n",
    "        for word in sent:\n",
    "            if word[1][0]==\"B\":\n",
    "                entities.append( to_ascii(word[0].lower() ) )\n",
    "            elif word[1][0] == \"I\":\n",
    "                entities[-1] += \" \" + to_ascii(word[0].lower() )\n",
    "    return entities\n",
    "\n",
    "def eliminate_duplicates(entities):\n",
    "    new_entities = []\n",
    "    for entity in entities:\n",
    "        if entity not in new_entities:\n",
    "            new_entities.append(entity)\n",
    "            \n",
    "    return new_entities\n",
    "\n",
    "entities = getEntities(criminal.loc[0].content)\n",
    "eliminate_duplicates(entities)"
   ]
  },
  {
   "cell_type": "code",
   "execution_count": 68,
   "metadata": {
    "collapsed": false
   },
   "outputs": [
    {
     "name": "stdout",
     "output_type": "stream",
     "text": [
      "[{u'tag': u'B-Col', u'word': 'lomas del carmen'}, {u'tag': u'B-City', u'word': 'san pedro sula'}]\n",
      "[{u'tag': u'B-Zone', u'word': 'monumento a la madre'}, {u'tag': u'B-City', u'word': 'san pedro sula'}]\n",
      "[{u'tag': u'B-Zone', u'word': 'primera avenida'}, {u'tag': u'B-City', u'word': 'san pedro sula'}]\n",
      "[{u'tag': u'B-Zone', u'word': 'parque central'}, {u'tag': u'B-City', u'word': 'san pedro sula'}]\n"
     ]
    }
   ],
   "source": [
    "for rel in criminal.loc[0].relationships:\n",
    "    print rel"
   ]
  },
  {
   "cell_type": "code",
   "execution_count": 38,
   "metadata": {
    "collapsed": false
   },
   "outputs": [
    {
     "data": {
      "text/plain": [
       "[]"
      ]
     },
     "execution_count": 38,
     "metadata": {},
     "output_type": "execute_result"
    }
   ],
   "source": [
    "def get_singles(entities, relationships):\n",
    "    in_relationship = []\n",
    "    for rel in relationships:\n",
    "        in_relationship.append(rel[0][\"word\"])\n",
    "        in_relationship.append(rel[1][\"word\"])\n",
    "        \n",
    "    singles =[]  \n",
    "    for entity in entities:\n",
    "        if entity not in in_relationship:\n",
    "            singles.append(entity)\n",
    "            \n",
    "    return singles\n",
    "\n",
    "get_singles(entities, criminal.loc[0].relationships)"
   ]
  },
  {
   "cell_type": "code",
   "execution_count": 51,
   "metadata": {
    "collapsed": false
   },
   "outputs": [
    {
     "data": {
      "text/plain": [
       "[{u'tag': u'B-Col', u'word': u'lomas del carmen'},\n",
       " {u'tag': u'B-City', u'word': u'san pedro sula'}]"
      ]
     },
     "execution_count": 51,
     "metadata": {},
     "output_type": "execute_result"
    }
   ],
   "source": [
    "def sort_relationships(relationships):\n",
    "    level_2 = []\n",
    "    level_3 = []\n",
    "    level_4 = []\n",
    "    \n",
    "    for rel in relationships:\n",
    "        if rel[0][\"tag\"] in [\"B-Col\",\"B-Zone\",\"B-Res\",\"B-Bar\"]:\n",
    "            level_4.append(rel)\n",
    "        elif rel[0][\"tag\"] == \"B-City\":\n",
    "            level_3.append(rel)\n",
    "        elif rel[0][\"tag\"] == \"B-State\":\n",
    "            level_2.append(rel)\n",
    "            \n",
    "    return level_2 + level_3 + level_4\n",
    "sort_relationships(criminal.loc[0].relationships)[0]           "
   ]
  },
  {
   "cell_type": "code",
   "execution_count": 44,
   "metadata": {
    "collapsed": false
   },
   "outputs": [
    {
     "data": {
      "text/plain": [
       "({u'tag': u'B-City', u'word': u'san pedro sula'}, 0)"
      ]
     },
     "execution_count": 44,
     "metadata": {},
     "output_type": "execute_result"
    }
   ],
   "source": [
    "def find_parent( node, relationships ):\n",
    "    for idx, rel in enumerate(relationships):\n",
    "        if node == rel[0]:\n",
    "            return rel[1], idx\n",
    "    return None, -1\n",
    "\n",
    "find_parent( {u'tag': u'B-Col', u'word': u'lomas del carmen'}, criminal.loc[0].relationships )"
   ]
  },
  {
   "cell_type": "code",
   "execution_count": 69,
   "metadata": {
    "collapsed": false
   },
   "outputs": [
    {
     "data": {
      "text/plain": [
       "['puerto cortes, cortes',\n",
       " 'choloma, cortes',\n",
       " 'lopez arellano, puerto cortes, cortes',\n",
       " 'trincheras, puerto cortes, cortes']"
      ]
     },
     "execution_count": 69,
     "metadata": {},
     "output_type": "execute_result"
    }
   ],
   "source": [
    "def extract_address(article):\n",
    "    \n",
    "    #get entities\n",
    "    entities = getEntities(article.content)\n",
    "    entities = eliminate_duplicates(entities)\n",
    "    \n",
    "    #get singles\n",
    "    addresses = get_singles(entities, article.relationships)\n",
    "    \n",
    "    #find paths...\n",
    "    relationships = article.relationships\n",
    "    visited = []\n",
    "    #sort so that the function goes first to level 4 \n",
    "    relationships = sort_relationships(relationships)\n",
    "    for idx, rel in enumerate(relationships):\n",
    "        if idx not in visited:\n",
    "            visited.append(idx)\n",
    "            address = rel[0][\"word\"] + \", \" + rel[1][\"word\"]\n",
    "            parent = rel[1]\n",
    "            \n",
    "            safe_guard = 0\n",
    "            while parent != None or safe_guard < 5:\n",
    "                parent, p_idx =  find_parent( parent, relationships )\n",
    "                if parent != None:\n",
    "                    address += \", \" + parent[\"word\"]\n",
    "                    visited.append(p_idx)\n",
    "                safe_guard += 1\n",
    "                \n",
    "            addresses.append(address)\n",
    "            \n",
    "    return addresses\n",
    "                \n",
    "        \n",
    "extract_address(criminal.loc[3])   "
   ]
  },
  {
   "cell_type": "code",
   "execution_count": 73,
   "metadata": {
    "collapsed": false
   },
   "outputs": [
    {
     "data": {
      "text/html": [
       "<div>\n",
       "<table border=\"1\" class=\"dataframe\">\n",
       "  <thead>\n",
       "    <tr style=\"text-align: right;\">\n",
       "      <th></th>\n",
       "      <th>article_id</th>\n",
       "      <th>title</th>\n",
       "      <th>content</th>\n",
       "      <th>relationships</th>\n",
       "      <th>addresses</th>\n",
       "      <th>num_addresses</th>\n",
       "    </tr>\n",
       "  </thead>\n",
       "  <tbody>\n",
       "    <tr>\n",
       "      <th>0</th>\n",
       "      <td>3</td>\n",
       "      <td>[[Citan, none], [a, none], [11, none], [person...</td>\n",
       "      <td>[[[SAN, B-City], [PEDRO, I-City], [SULA, I-Cit...</td>\n",
       "      <td>[[{u'tag': u'B-Col', u'word': u'lomas del carm...</td>\n",
       "      <td>[lomas del carmen, san pedro sula, monumento a...</td>\n",
       "      <td>4</td>\n",
       "    </tr>\n",
       "    <tr>\n",
       "      <th>1</th>\n",
       "      <td>5</td>\n",
       "      <td>[[DEI, none], [pide, none], [denunciar, none],...</td>\n",
       "      <td>[[[TEGUCIGALPA, B-City]], [[-, none], [Autorid...</td>\n",
       "      <td>[]</td>\n",
       "      <td>[tegucigalpa]</td>\n",
       "      <td>1</td>\n",
       "    </tr>\n",
       "    <tr>\n",
       "      <th>2</th>\n",
       "      <td>9</td>\n",
       "      <td>[[Alcaldía, none], [intensifica, none], [opera...</td>\n",
       "      <td>[[[TEGUCIGALPA, B-City]], [[-, none], [Pese, n...</td>\n",
       "      <td>[[{u'tag': u'B-Col', u'word': u'kennedy'}, {u'...</td>\n",
       "      <td>[kennedy, tegucigalpa, kennedy, distrito central]</td>\n",
       "      <td>2</td>\n",
       "    </tr>\n",
       "    <tr>\n",
       "      <th>3</th>\n",
       "      <td>11</td>\n",
       "      <td>[[Pasajeros, none], [asaltantes, none], [acrib...</td>\n",
       "      <td>[[[PUERTO, B-City], [CORTES, I-City], [,, none...</td>\n",
       "      <td>[[{u'tag': u'B-City', u'word': u'puerto cortes...</td>\n",
       "      <td>[puerto cortes, cortes, choloma, cortes, lopez...</td>\n",
       "      <td>4</td>\n",
       "    </tr>\n",
       "    <tr>\n",
       "      <th>4</th>\n",
       "      <td>12</td>\n",
       "      <td>[[Fallece, none], [comerciante, none], [olanch...</td>\n",
       "      <td>[[[JUTICALPA, B-City], [,, none], [Olancho, B-...</td>\n",
       "      <td>[[{u'tag': u'B-City', u'word': u'juticalpa'}, ...</td>\n",
       "      <td>[olancho, honduras, juticalpa, olancho, hondur...</td>\n",
       "      <td>3</td>\n",
       "    </tr>\n",
       "  </tbody>\n",
       "</table>\n",
       "</div>"
      ],
      "text/plain": [
       "   article_id                                              title  \\\n",
       "0           3  [[Citan, none], [a, none], [11, none], [person...   \n",
       "1           5  [[DEI, none], [pide, none], [denunciar, none],...   \n",
       "2           9  [[Alcaldía, none], [intensifica, none], [opera...   \n",
       "3          11  [[Pasajeros, none], [asaltantes, none], [acrib...   \n",
       "4          12  [[Fallece, none], [comerciante, none], [olanch...   \n",
       "\n",
       "                                             content  \\\n",
       "0  [[[SAN, B-City], [PEDRO, I-City], [SULA, I-Cit...   \n",
       "1  [[[TEGUCIGALPA, B-City]], [[-, none], [Autorid...   \n",
       "2  [[[TEGUCIGALPA, B-City]], [[-, none], [Pese, n...   \n",
       "3  [[[PUERTO, B-City], [CORTES, I-City], [,, none...   \n",
       "4  [[[JUTICALPA, B-City], [,, none], [Olancho, B-...   \n",
       "\n",
       "                                       relationships  \\\n",
       "0  [[{u'tag': u'B-Col', u'word': u'lomas del carm...   \n",
       "1                                                 []   \n",
       "2  [[{u'tag': u'B-Col', u'word': u'kennedy'}, {u'...   \n",
       "3  [[{u'tag': u'B-City', u'word': u'puerto cortes...   \n",
       "4  [[{u'tag': u'B-City', u'word': u'juticalpa'}, ...   \n",
       "\n",
       "                                           addresses  num_addresses  \n",
       "0  [lomas del carmen, san pedro sula, monumento a...              4  \n",
       "1                                      [tegucigalpa]              1  \n",
       "2  [kennedy, tegucigalpa, kennedy, distrito central]              2  \n",
       "3  [puerto cortes, cortes, choloma, cortes, lopez...              4  \n",
       "4  [olancho, honduras, juticalpa, olancho, hondur...              3  "
      ]
     },
     "execution_count": 73,
     "metadata": {},
     "output_type": "execute_result"
    }
   ],
   "source": [
    "addresses  = []\n",
    "for _, row in criminal.iterrows():\n",
    "    article_addrs = extract_address(row)\n",
    "    addresses.append(article_addrs)\n",
    "    \n",
    "criminal.loc[:,\"addresses\"] = addresses\n",
    "criminal.loc[:,\"num_addresses\"] = criminal.addresses.apply(lambda x: len(x))\n",
    "criminal.head()"
   ]
  },
  {
   "cell_type": "markdown",
   "metadata": {},
   "source": [
    "# Analyze Old vs New data"
   ]
  },
  {
   "cell_type": "code",
   "execution_count": 74,
   "metadata": {
    "collapsed": false
   },
   "outputs": [
    {
     "data": {
      "text/html": [
       "<div>\n",
       "<table border=\"1\" class=\"dataframe\">\n",
       "  <thead>\n",
       "    <tr style=\"text-align: right;\">\n",
       "      <th></th>\n",
       "      <th>article_id</th>\n",
       "      <th>title</th>\n",
       "      <th>content</th>\n",
       "      <th>relationships</th>\n",
       "      <th>addresses</th>\n",
       "      <th>num_addresses</th>\n",
       "    </tr>\n",
       "  </thead>\n",
       "  <tbody>\n",
       "    <tr>\n",
       "      <th>234</th>\n",
       "      <td>1969</td>\n",
       "      <td>[[Después, none], [de, none], [20, none], [hor...</td>\n",
       "      <td>[[[La, none], [cuarta, none], [víctima, none],...</td>\n",
       "      <td>[[{u'tag': u'B-Zone', u'word': u'instituto jes...</td>\n",
       "      <td>[tegucigalpa, instituto jesus aguilar paz, com...</td>\n",
       "      <td>5</td>\n",
       "    </tr>\n",
       "    <tr>\n",
       "      <th>235</th>\n",
       "      <td>1970</td>\n",
       "      <td>[[Peligrosos, none], [mareros, none], [en, non...</td>\n",
       "      <td>[[[A, none], [pesar, none], [que, none], [la, ...</td>\n",
       "      <td>[[{u'tag': u'B-Zone', u'word': u'centro penal'...</td>\n",
       "      <td>[tamara, el porvenir, francisco morazan, centr...</td>\n",
       "      <td>4</td>\n",
       "    </tr>\n",
       "    <tr>\n",
       "      <th>236</th>\n",
       "      <td>1975</td>\n",
       "      <td>[[Madre, none], [de, none], [centralista, none...</td>\n",
       "      <td>[[[“, none], [Mi, none], [hija, none], [aspira...</td>\n",
       "      <td>[[{u'tag': u'B-Col', u'word': u'las vegas del ...</td>\n",
       "      <td>[comayaguela, honduras, las vegas del countryl...</td>\n",
       "      <td>4</td>\n",
       "    </tr>\n",
       "    <tr>\n",
       "      <th>237</th>\n",
       "      <td>1985</td>\n",
       "      <td>[[Identificados, none], [vehículos, none], [y,...</td>\n",
       "      <td>[[[Las, none], [autoridades, none], [de, none]...</td>\n",
       "      <td>[]</td>\n",
       "      <td>[perpetuo socorro, hato de enmedio, colon]</td>\n",
       "      <td>3</td>\n",
       "    </tr>\n",
       "    <tr>\n",
       "      <th>238</th>\n",
       "      <td>1991</td>\n",
       "      <td>[[Matan, none], [a, none], [regidor, none], [d...</td>\n",
       "      <td>[[[Un, none], [regidor, none], [municipal, non...</td>\n",
       "      <td>[[{u'tag': u'B-City', u'word': u'jocon'}, {u't...</td>\n",
       "      <td>[yoro, honduras, jocon, yoro, honduras, el ach...</td>\n",
       "      <td>3</td>\n",
       "    </tr>\n",
       "  </tbody>\n",
       "</table>\n",
       "</div>"
      ],
      "text/plain": [
       "     article_id                                              title  \\\n",
       "234        1969  [[Después, none], [de, none], [20, none], [hor...   \n",
       "235        1970  [[Peligrosos, none], [mareros, none], [en, non...   \n",
       "236        1975  [[Madre, none], [de, none], [centralista, none...   \n",
       "237        1985  [[Identificados, none], [vehículos, none], [y,...   \n",
       "238        1991  [[Matan, none], [a, none], [regidor, none], [d...   \n",
       "\n",
       "                                               content  \\\n",
       "234  [[[La, none], [cuarta, none], [víctima, none],...   \n",
       "235  [[[A, none], [pesar, none], [que, none], [la, ...   \n",
       "236  [[[“, none], [Mi, none], [hija, none], [aspira...   \n",
       "237  [[[Las, none], [autoridades, none], [de, none]...   \n",
       "238  [[[Un, none], [regidor, none], [municipal, non...   \n",
       "\n",
       "                                         relationships  \\\n",
       "234  [[{u'tag': u'B-Zone', u'word': u'instituto jes...   \n",
       "235  [[{u'tag': u'B-Zone', u'word': u'centro penal'...   \n",
       "236  [[{u'tag': u'B-Col', u'word': u'las vegas del ...   \n",
       "237                                                 []   \n",
       "238  [[{u'tag': u'B-City', u'word': u'jocon'}, {u't...   \n",
       "\n",
       "                                             addresses  num_addresses  \n",
       "234  [tegucigalpa, instituto jesus aguilar paz, com...              5  \n",
       "235  [tamara, el porvenir, francisco morazan, centr...              4  \n",
       "236  [comayaguela, honduras, las vegas del countryl...              4  \n",
       "237         [perpetuo socorro, hato de enmedio, colon]              3  \n",
       "238  [yoro, honduras, jocon, yoro, honduras, el ach...              3  "
      ]
     },
     "execution_count": 74,
     "metadata": {},
     "output_type": "execute_result"
    }
   ],
   "source": [
    "criminal[criminal[\"article_id\"] < 2000].tail()"
   ]
  },
  {
   "cell_type": "code",
   "execution_count": 85,
   "metadata": {
    "collapsed": false
   },
   "outputs": [
    {
     "name": "stdout",
     "output_type": "stream",
     "text": [
      "309\n",
      "239 77.3462783172\n",
      "70 22.6537216828\n"
     ]
    }
   ],
   "source": [
    "print criminal.shape[0]\n",
    "print criminal.loc[:238].shape[0], (criminal.loc[:238].shape[0]*100.0/criminal.shape[0])\n",
    "print criminal.loc[239:].shape[0], (criminal.loc[239:].shape[0]*100.0/criminal.shape[0])"
   ]
  },
  {
   "cell_type": "code",
   "execution_count": 97,
   "metadata": {
    "collapsed": false
   },
   "outputs": [
    {
     "name": "stdout",
     "output_type": "stream",
     "text": [
      "- Total\n",
      "309\n",
      "3.29449838188\n",
      "0      6.148867\n",
      "1     15.857605\n",
      "2     21.035599\n",
      "3     22.653722\n",
      "4     13.915858\n",
      "5      8.414239\n",
      "6      2.912621\n",
      "7      3.236246\n",
      "8      1.294498\n",
      "9      0.323625\n",
      "10     1.294498\n",
      "11     0.647249\n",
      "12     0.970874\n",
      "15     0.647249\n",
      "17     0.647249\n",
      "Name: num_addresses, dtype: float64\n",
      "\n",
      "- Old\n",
      "239\n",
      "3.28451882845\n",
      "0      7.112971\n",
      "1     17.573222\n",
      "2     19.665272\n",
      "3     21.757322\n",
      "4     12.552301\n",
      "5      7.949791\n",
      "6      3.765690\n",
      "7      3.765690\n",
      "8      1.255230\n",
      "9      0.418410\n",
      "10     1.255230\n",
      "11     0.836820\n",
      "12     0.418410\n",
      "15     0.836820\n",
      "17     0.836820\n",
      "Name: num_addresses, dtype: float64\n",
      "\n",
      "- New\n",
      "70\n",
      "3.32857142857\n",
      "0      2.857143\n",
      "1     10.000000\n",
      "2     25.714286\n",
      "3     25.714286\n",
      "4     18.571429\n",
      "5     10.000000\n",
      "7      1.428571\n",
      "8      1.428571\n",
      "10     1.428571\n",
      "12     2.857143\n",
      "Name: num_addresses, dtype: float64\n"
     ]
    }
   ],
   "source": [
    "def get_dist_addrs(df):\n",
    "    total = df.shape[0]\n",
    "    print total\n",
    "    print df.num_addresses.mean()\n",
    "    print df.num_addresses.value_counts().sort_index() * 100.0 / total\n",
    "    \n",
    "print \"- Total\"\n",
    "get_dist_addrs(criminal) \n",
    "print\n",
    "print \"- Old\"\n",
    "get_dist_addrs(criminal.loc[:238])  \n",
    "print\n",
    "print \"- New\"\n",
    "get_dist_addrs(criminal.loc[239:])  "
   ]
  },
  {
   "cell_type": "code",
   "execution_count": null,
   "metadata": {
    "collapsed": true
   },
   "outputs": [],
   "source": []
  }
 ],
 "metadata": {
  "kernelspec": {
   "display_name": "Python [conda root]",
   "language": "python",
   "name": "conda-root-py"
  },
  "language_info": {
   "codemirror_mode": {
    "name": "ipython",
    "version": 2
   },
   "file_extension": ".py",
   "mimetype": "text/x-python",
   "name": "python",
   "nbconvert_exporter": "python",
   "pygments_lexer": "ipython2",
   "version": "2.7.12"
  }
 },
 "nbformat": 4,
 "nbformat_minor": 1
}
